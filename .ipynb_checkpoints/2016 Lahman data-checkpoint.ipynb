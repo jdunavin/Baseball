{
 "cells": [
  {
   "cell_type": "markdown",
   "metadata": {
    "deletable": true,
    "editable": true
   },
   "source": [
    "# Fantasy baseball draft - Lahman data"
   ]
  },
  {
   "cell_type": "markdown",
   "metadata": {
    "deletable": true,
    "editable": true
   },
   "source": [
    "The purpose of this document is to prepare data for my fantasy baseball draft with Will. I will develop a scoring algorithm whose result should be correlated with the league's winning conditions , and then attempt to run machine learning on it to find other markers that might help us maximize the score.\n",
    "\n",
    "Two separate models will be needed; one for hitters and another for pitchers, as each are judged by different criteria (naturally).\n",
    "\n",
    "The data is from the latest version of the Lahman database. Each row is a player-season, for the 2011-2016 seasons."
   ]
  },
  {
   "cell_type": "markdown",
   "metadata": {
    "deletable": true,
    "editable": true
   },
   "source": [
    "## Winning criteria - hitters\n",
    "Each week the league's teams are ranked 1-10 based on their performance in each of five player statistics:\n",
    "\n",
    "* Batting average\n",
    "* Home runs\n",
    "* Runs scored\n",
    "* Runs batted in\n",
    "* Stolen bases\n",
    "\n",
    "The top ranked team scores 10 points, the second-ranked scores 9, and so on."
   ]
  },
  {
   "cell_type": "markdown",
   "metadata": {
    "deletable": true,
    "editable": true
   },
   "source": [
    "## Import needed libraries"
   ]
  },
  {
   "cell_type": "code",
   "execution_count": 38,
   "metadata": {
    "collapsed": true,
    "deletable": true,
    "editable": true
   },
   "outputs": [],
   "source": [
    "import pandas as pd\n",
    "import numpy as np\n",
    "import seaborn as sns"
   ]
  },
  {
   "cell_type": "markdown",
   "metadata": {
    "deletable": true,
    "editable": true
   },
   "source": [
    "## Import the hitters data"
   ]
  },
  {
   "cell_type": "code",
   "execution_count": 2,
   "metadata": {
    "collapsed": false,
    "deletable": true,
    "editable": true
   },
   "outputs": [],
   "source": [
    "hitters = pd.read_csv(\"hitterdata.csv\", header=0)"
   ]
  },
  {
   "cell_type": "code",
   "execution_count": 3,
   "metadata": {
    "collapsed": false,
    "deletable": true,
    "editable": true
   },
   "outputs": [
    {
     "data": {
      "text/html": [
       "<div>\n",
       "<table border=\"1\" class=\"dataframe\">\n",
       "  <thead>\n",
       "    <tr style=\"text-align: right;\">\n",
       "      <th></th>\n",
       "      <th>playerID</th>\n",
       "      <th>yearID</th>\n",
       "      <th>LastOfstint</th>\n",
       "      <th>LastOfteamID</th>\n",
       "      <th>retroID</th>\n",
       "      <th>nameFirst</th>\n",
       "      <th>nameLast</th>\n",
       "      <th>weight</th>\n",
       "      <th>height</th>\n",
       "      <th>bats</th>\n",
       "      <th>...</th>\n",
       "      <th>G_c</th>\n",
       "      <th>G_1b</th>\n",
       "      <th>G_2b</th>\n",
       "      <th>G_3b</th>\n",
       "      <th>G_ss</th>\n",
       "      <th>G_lf</th>\n",
       "      <th>G_cf</th>\n",
       "      <th>G_rf</th>\n",
       "      <th>G_of</th>\n",
       "      <th>G_dh</th>\n",
       "    </tr>\n",
       "  </thead>\n",
       "  <tbody>\n",
       "    <tr>\n",
       "      <th>0</th>\n",
       "      <td>abreujo02</td>\n",
       "      <td>2014</td>\n",
       "      <td>1</td>\n",
       "      <td>CHA</td>\n",
       "      <td>abrej003</td>\n",
       "      <td>Jose</td>\n",
       "      <td>Abreu</td>\n",
       "      <td>255</td>\n",
       "      <td>75</td>\n",
       "      <td>R</td>\n",
       "      <td>...</td>\n",
       "      <td>0.0</td>\n",
       "      <td>152.0</td>\n",
       "      <td>0.0</td>\n",
       "      <td>0.0</td>\n",
       "      <td>0.0</td>\n",
       "      <td>0.0</td>\n",
       "      <td>0.0</td>\n",
       "      <td>0.0</td>\n",
       "      <td>0.0</td>\n",
       "      <td>7.0</td>\n",
       "    </tr>\n",
       "    <tr>\n",
       "      <th>1</th>\n",
       "      <td>abreujo02</td>\n",
       "      <td>2015</td>\n",
       "      <td>1</td>\n",
       "      <td>CHA</td>\n",
       "      <td>abrej003</td>\n",
       "      <td>Jose</td>\n",
       "      <td>Abreu</td>\n",
       "      <td>255</td>\n",
       "      <td>75</td>\n",
       "      <td>R</td>\n",
       "      <td>...</td>\n",
       "      <td>0.0</td>\n",
       "      <td>152.0</td>\n",
       "      <td>0.0</td>\n",
       "      <td>0.0</td>\n",
       "      <td>0.0</td>\n",
       "      <td>0.0</td>\n",
       "      <td>0.0</td>\n",
       "      <td>0.0</td>\n",
       "      <td>0.0</td>\n",
       "      <td>7.0</td>\n",
       "    </tr>\n",
       "    <tr>\n",
       "      <th>2</th>\n",
       "      <td>abreujo02</td>\n",
       "      <td>2016</td>\n",
       "      <td>1</td>\n",
       "      <td>CHA</td>\n",
       "      <td>abrej003</td>\n",
       "      <td>Jose</td>\n",
       "      <td>Abreu</td>\n",
       "      <td>255</td>\n",
       "      <td>75</td>\n",
       "      <td>R</td>\n",
       "      <td>...</td>\n",
       "      <td>0.0</td>\n",
       "      <td>152.0</td>\n",
       "      <td>0.0</td>\n",
       "      <td>0.0</td>\n",
       "      <td>0.0</td>\n",
       "      <td>0.0</td>\n",
       "      <td>0.0</td>\n",
       "      <td>0.0</td>\n",
       "      <td>0.0</td>\n",
       "      <td>7.0</td>\n",
       "    </tr>\n",
       "    <tr>\n",
       "      <th>3</th>\n",
       "      <td>ackledu01</td>\n",
       "      <td>2011</td>\n",
       "      <td>1</td>\n",
       "      <td>SEA</td>\n",
       "      <td>ackld001</td>\n",
       "      <td>Dustin</td>\n",
       "      <td>Ackley</td>\n",
       "      <td>205</td>\n",
       "      <td>73</td>\n",
       "      <td>L</td>\n",
       "      <td>...</td>\n",
       "      <td>0.0</td>\n",
       "      <td>13.0</td>\n",
       "      <td>1.0</td>\n",
       "      <td>0.0</td>\n",
       "      <td>0.0</td>\n",
       "      <td>0.0</td>\n",
       "      <td>0.0</td>\n",
       "      <td>9.0</td>\n",
       "      <td>9.0</td>\n",
       "      <td>3.0</td>\n",
       "    </tr>\n",
       "    <tr>\n",
       "      <th>4</th>\n",
       "      <td>ackledu01</td>\n",
       "      <td>2012</td>\n",
       "      <td>1</td>\n",
       "      <td>SEA</td>\n",
       "      <td>ackld001</td>\n",
       "      <td>Dustin</td>\n",
       "      <td>Ackley</td>\n",
       "      <td>205</td>\n",
       "      <td>73</td>\n",
       "      <td>L</td>\n",
       "      <td>...</td>\n",
       "      <td>0.0</td>\n",
       "      <td>13.0</td>\n",
       "      <td>1.0</td>\n",
       "      <td>0.0</td>\n",
       "      <td>0.0</td>\n",
       "      <td>0.0</td>\n",
       "      <td>0.0</td>\n",
       "      <td>9.0</td>\n",
       "      <td>9.0</td>\n",
       "      <td>3.0</td>\n",
       "    </tr>\n",
       "  </tbody>\n",
       "</table>\n",
       "<p>5 rows × 39 columns</p>\n",
       "</div>"
      ],
      "text/plain": [
       "    playerID  yearID  LastOfstint LastOfteamID   retroID nameFirst nameLast  \\\n",
       "0  abreujo02    2014            1          CHA  abrej003      Jose    Abreu   \n",
       "1  abreujo02    2015            1          CHA  abrej003      Jose    Abreu   \n",
       "2  abreujo02    2016            1          CHA  abrej003      Jose    Abreu   \n",
       "3  ackledu01    2011            1          SEA  ackld001    Dustin   Ackley   \n",
       "4  ackledu01    2012            1          SEA  ackld001    Dustin   Ackley   \n",
       "\n",
       "   weight  height bats  ...   G_c   G_1b  G_2b  G_3b  G_ss  G_lf  G_cf  G_rf  \\\n",
       "0     255      75    R  ...   0.0  152.0   0.0   0.0   0.0   0.0   0.0   0.0   \n",
       "1     255      75    R  ...   0.0  152.0   0.0   0.0   0.0   0.0   0.0   0.0   \n",
       "2     255      75    R  ...   0.0  152.0   0.0   0.0   0.0   0.0   0.0   0.0   \n",
       "3     205      73    L  ...   0.0   13.0   1.0   0.0   0.0   0.0   0.0   9.0   \n",
       "4     205      73    L  ...   0.0   13.0   1.0   0.0   0.0   0.0   0.0   9.0   \n",
       "\n",
       "   G_of  G_dh  \n",
       "0   0.0   7.0  \n",
       "1   0.0   7.0  \n",
       "2   0.0   7.0  \n",
       "3   9.0   3.0  \n",
       "4   9.0   3.0  \n",
       "\n",
       "[5 rows x 39 columns]"
      ]
     },
     "execution_count": 3,
     "metadata": {},
     "output_type": "execute_result"
    }
   ],
   "source": [
    "hitters.head()"
   ]
  },
  {
   "cell_type": "code",
   "execution_count": 4,
   "metadata": {
    "collapsed": false,
    "deletable": true,
    "editable": true
   },
   "outputs": [
    {
     "data": {
      "text/plain": [
       "Index(['playerID', 'yearID', 'LastOfstint', 'LastOfteamID', 'retroID',\n",
       "       'nameFirst', 'nameLast', 'weight', 'height', 'bats', 'lgID', 'G', 'H',\n",
       "       'AB', 'HR', 'RBI', 'SB', 'R', '2B', '3B', 'CS', 'BB', 'SO', 'IBB',\n",
       "       'HBP', 'SH', 'SF', 'GIDP', 'G_p', 'G_c', 'G_1b', 'G_2b', 'G_3b', 'G_ss',\n",
       "       'G_lf', 'G_cf', 'G_rf', 'G_of', 'G_dh'],\n",
       "      dtype='object')"
      ]
     },
     "execution_count": 4,
     "metadata": {},
     "output_type": "execute_result"
    }
   ],
   "source": [
    "hitters.columns"
   ]
  },
  {
   "cell_type": "markdown",
   "metadata": {
    "deletable": true,
    "editable": true
   },
   "source": [
    "## Eligibility criteria"
   ]
  },
  {
   "cell_type": "markdown",
   "metadata": {
    "deletable": true,
    "editable": true
   },
   "source": [
    "Under league rules, players are eligible to be selected \"at their primary position, plus positions they've played 10 games last year or 1 game this year.\" For the draft, we need to figure out what these are. Since I have no source for \"primary position\", I will assume the position at which a player has played the most games is his primary position. We need to construct a function to identify these."
   ]
  },
  {
   "cell_type": "code",
   "execution_count": 5,
   "metadata": {
    "collapsed": false,
    "deletable": true,
    "editable": true
   },
   "outputs": [
    {
     "data": {
      "text/plain": [
       "Index(['playerID', 'yearID', 'LastOfstint', 'LastOfteamID', 'retroID',\n",
       "       'nameFirst', 'nameLast', 'weight', 'height', 'bats', 'lgID', 'G', 'H',\n",
       "       'AB', 'HR', 'RBI', 'SB', 'R', '2B', '3B', 'CS', 'BB', 'SO', 'IBB',\n",
       "       'HBP', 'SH', 'SF', 'GIDP', 'G_p', 'G_c', 'G_1b', 'G_2b', 'G_3b', 'G_ss',\n",
       "       'G_lf', 'G_cf', 'G_rf', 'G_of', 'G_dh'],\n",
       "      dtype='object')"
      ]
     },
     "execution_count": 5,
     "metadata": {},
     "output_type": "execute_result"
    }
   ],
   "source": [
    "hitters.columns"
   ]
  },
  {
   "cell_type": "code",
   "execution_count": 6,
   "metadata": {
    "collapsed": true,
    "deletable": true,
    "editable": true
   },
   "outputs": [],
   "source": [
    "gamescols = ['G_p', 'G_c', 'G_1b', 'G_2b', 'G_3b', 'G_ss', 'G_lf', 'G_cf', 'G_rf', 'G_of', 'G_dh']"
   ]
  },
  {
   "cell_type": "code",
   "execution_count": 7,
   "metadata": {
    "collapsed": false,
    "deletable": true,
    "editable": true
   },
   "outputs": [
    {
     "data": {
      "text/plain": [
       "0       152.0\n",
       "1       152.0\n",
       "2       152.0\n",
       "3        13.0\n",
       "4        13.0\n",
       "5        13.0\n",
       "6        13.0\n",
       "7        26.0\n",
       "8        13.0\n",
       "9        47.0\n",
       "10       47.0\n",
       "11       47.0\n",
       "12       86.0\n",
       "13       86.0\n",
       "14       86.0\n",
       "15       86.0\n",
       "16       86.0\n",
       "17       13.0\n",
       "18       13.0\n",
       "19       13.0\n",
       "20       13.0\n",
       "21        7.0\n",
       "22        7.0\n",
       "23        7.0\n",
       "24       88.0\n",
       "25       88.0\n",
       "26       88.0\n",
       "27       11.0\n",
       "28       11.0\n",
       "29        5.0\n",
       "        ...  \n",
       "2447      2.0\n",
       "2448     69.0\n",
       "2449     69.0\n",
       "2450     69.0\n",
       "2451     69.0\n",
       "2452     69.0\n",
       "2453     69.0\n",
       "2454     69.0\n",
       "2455      4.0\n",
       "2456      4.0\n",
       "2457      8.0\n",
       "2458      4.0\n",
       "2459      8.0\n",
       "2460      4.0\n",
       "2461    114.0\n",
       "2462    114.0\n",
       "2463    114.0\n",
       "2464    114.0\n",
       "2465    114.0\n",
       "2466    114.0\n",
       "2467    119.0\n",
       "2468    119.0\n",
       "2469    119.0\n",
       "2470    119.0\n",
       "2471    238.0\n",
       "2472    119.0\n",
       "2473     52.0\n",
       "2474     52.0\n",
       "2475     52.0\n",
       "2476     52.0\n",
       "dtype: float64"
      ]
     },
     "execution_count": 7,
     "metadata": {},
     "output_type": "execute_result"
    }
   ],
   "source": [
    "hitters[gamescols].max(axis = 1)"
   ]
  },
  {
   "cell_type": "code",
   "execution_count": 8,
   "metadata": {
    "collapsed": false,
    "deletable": true,
    "editable": true
   },
   "outputs": [],
   "source": [
    "prim_pos_index = np.argmax(hitters[gamescols].as_matrix(), axis=1)"
   ]
  },
  {
   "cell_type": "code",
   "execution_count": 9,
   "metadata": {
    "collapsed": false,
    "deletable": true,
    "editable": true
   },
   "outputs": [],
   "source": [
    "# for 1 to number of hitters:\n",
    "#    get position of max games played out of all positions played\n",
    "#   use position to identify position\n",
    "#   store position in 'prim_pos' column\n",
    "prim_pos = []\n",
    "for i in range(len(hitters)):\n",
    "    prim_pos.append(gamescols[prim_pos_index[i]][2:])\n",
    "hitters['prim_pos'] = prim_pos"
   ]
  },
  {
   "cell_type": "markdown",
   "metadata": {
    "deletable": true,
    "editable": true
   },
   "source": [
    "Now I need to find other eligible positions. \n",
    "1. For each player, find the gamescols where their games played is >=10.\n",
    "2. Combine these into a string rep and store in 'other_pos'."
   ]
  },
  {
   "cell_type": "code",
   "execution_count": 10,
   "metadata": {
    "collapsed": false,
    "deletable": true,
    "editable": true
   },
   "outputs": [],
   "source": [
    "test = hitters.iloc[178,]"
   ]
  },
  {
   "cell_type": "code",
   "execution_count": 11,
   "metadata": {
    "collapsed": false,
    "deletable": true,
    "editable": true
   },
   "outputs": [
    {
     "data": {
      "text/plain": [
       "[6, 7, 8, 9]"
      ]
     },
     "execution_count": 11,
     "metadata": {},
     "output_type": "execute_result"
    }
   ],
   "source": [
    "np.where(test[gamescols]>10)[0].tolist()"
   ]
  },
  {
   "cell_type": "code",
   "execution_count": 12,
   "metadata": {
    "collapsed": false,
    "deletable": true,
    "editable": true
   },
   "outputs": [
    {
     "data": {
      "text/plain": [
       "['lf', 'cf', 'rf', 'of']"
      ]
     },
     "execution_count": 12,
     "metadata": {},
     "output_type": "execute_result"
    }
   ],
   "source": [
    "list(gamescols[i][2:] for i in np.where(test[gamescols]>10)[0].tolist())"
   ]
  },
  {
   "cell_type": "code",
   "execution_count": 13,
   "metadata": {
    "collapsed": true,
    "deletable": true,
    "editable": true
   },
   "outputs": [],
   "source": [
    "def findOtherPositions(x):\n",
    "    other_pos = list(gamescols[i][2:] for i in np.where(x[gamescols]>=10)[0].tolist())\n",
    "    return other_pos"
   ]
  },
  {
   "cell_type": "code",
   "execution_count": 14,
   "metadata": {
    "collapsed": true,
    "deletable": true,
    "editable": true
   },
   "outputs": [],
   "source": [
    "hitters['other_pos'] = hitters.apply(findOtherPositions, axis=1)"
   ]
  },
  {
   "cell_type": "code",
   "execution_count": 15,
   "metadata": {
    "collapsed": false,
    "deletable": true,
    "editable": true
   },
   "outputs": [
    {
     "data": {
      "text/plain": [
       "['lf', 'cf', 'rf', 'of']"
      ]
     },
     "execution_count": 15,
     "metadata": {},
     "output_type": "execute_result"
    }
   ],
   "source": [
    "findOtherPositions(hitters.iloc[178,])"
   ]
  },
  {
   "cell_type": "code",
   "execution_count": 16,
   "metadata": {
    "collapsed": false,
    "deletable": true,
    "editable": true
   },
   "outputs": [
    {
     "data": {
      "text/plain": [
       "playerID               blancgr01\n",
       "yearID                      2012\n",
       "LastOfstint                    1\n",
       "LastOfteamID                 SFN\n",
       "retroID                 blang001\n",
       "nameFirst                 Gregor\n",
       "nameLast                  Blanco\n",
       "weight                       175\n",
       "height                        71\n",
       "bats                           L\n",
       "lgID                          NL\n",
       "G                            141\n",
       "H                             96\n",
       "AB                           393\n",
       "HR                             5\n",
       "RBI                           34\n",
       "SB                            26\n",
       "R                             56\n",
       "2B                            14\n",
       "3B                             5\n",
       "CS                             6\n",
       "BB                            51\n",
       "SO                           104\n",
       "IBB                            2\n",
       "HBP                            2\n",
       "SH                             5\n",
       "SF                             2\n",
       "GIDP                           0\n",
       "G_p                            0\n",
       "G_c                            0\n",
       "G_1b                           0\n",
       "G_2b                           0\n",
       "G_3b                           0\n",
       "G_ss                           0\n",
       "G_lf                          29\n",
       "G_cf                          18\n",
       "G_rf                          34\n",
       "G_of                          75\n",
       "G_dh                           0\n",
       "prim_pos                      of\n",
       "other_pos       [lf, cf, rf, of]\n",
       "Name: 178, dtype: object"
      ]
     },
     "execution_count": 16,
     "metadata": {},
     "output_type": "execute_result"
    }
   ],
   "source": [
    "# Check row 178 - it works!\n",
    "hitters.iloc[178,]"
   ]
  },
  {
   "cell_type": "markdown",
   "metadata": {
    "deletable": true,
    "editable": true
   },
   "source": [
    "I now have each player's primary position (assumed to be the one they played the most games at during 2016) and each position for which they are eligible (played at least 10 games at during 2016)."
   ]
  },
  {
   "cell_type": "markdown",
   "metadata": {
    "deletable": true,
    "editable": true
   },
   "source": [
    "## Calculating any other desired statistics\n",
    "\n",
    "I will also calculate any necessary statistics. Statistics I calculate are as follows:\n",
    "\n",
    "* Batting average\n",
    "* On-base percentage\n",
    "* Slugging percentage (which is not really a percentage)\n",
    "* OPS (on-base plus slugging)\n",
    "* wOBA"
   ]
  },
  {
   "cell_type": "code",
   "execution_count": 17,
   "metadata": {
    "collapsed": true,
    "deletable": true,
    "editable": true
   },
   "outputs": [],
   "source": [
    "# Batting average\n",
    "hitters['BA'] = hitters['H'] / hitters['AB']"
   ]
  },
  {
   "cell_type": "code",
   "execution_count": 18,
   "metadata": {
    "collapsed": false,
    "deletable": true,
    "editable": true
   },
   "outputs": [],
   "source": [
    "# On-base percentage = (hits + walks + hbp) / (atbats + walks + hbps + sac flies)\n",
    "hitters['OBP'] = (hitters['H']+hitters['BB']+hitters['HBP']) / (hitters['AB']+hitters['BB']+hitters['HBP']+hitters['SF'])"
   ]
  },
  {
   "cell_type": "code",
   "execution_count": 19,
   "metadata": {
    "collapsed": true,
    "deletable": true,
    "editable": true
   },
   "outputs": [],
   "source": [
    "# Slugging percentage = (1*singles + 2*doubles + 3*triples + 4*HR) / AB\n",
    "# First we need number of singles\n",
    "hitters['1B'] = hitters['H'] - hitters['2B'] - hitters['3B'] - hitters['HR']\n",
    "hitters['SLG'] = (hitters['1B'] + 2 * hitters['2B'] + 3 * hitters['3B'] + 4*hitters['HR']) / hitters['AB']"
   ]
  },
  {
   "cell_type": "code",
   "execution_count": 20,
   "metadata": {
    "collapsed": true,
    "deletable": true,
    "editable": true
   },
   "outputs": [],
   "source": [
    "# On-base + slugging\n",
    "hitters['OPS'] = hitters['OBP'] + hitters['SLG']"
   ]
  },
  {
   "cell_type": "markdown",
   "metadata": {
    "deletable": true,
    "editable": true
   },
   "source": [
    "Having done that, I need to figure out how to separate these into years, and then calculate the *adjusted fantasy star rating*, which consists of the following steps:\n",
    "\n",
    "* For each year, index each of the five statistics, so that the league leader (without regard to games played / at bats) is at a 1.0, and the poorest performer is at 0.0.\n",
    "* Apply a penalty to each statistic based on the number of games played / at bats. This penalty can be a very small number (harsh penalty), but shouldn't be 0.\n",
    "* Sum each index statistic and apply the penalty. Therefore, the maximum rating is five stars, but that can only be achieved by someone who led the league in all five statistics while simultaneously having more games played / at bats than anyone else.\n",
    "\n",
    "I will then show analytics on the scores, to rank the available players. Those who have higher scores should contribute more positively to the success of our team."
   ]
  },
  {
   "cell_type": "code",
   "execution_count": 30,
   "metadata": {
    "collapsed": false,
    "deletable": true,
    "editable": true
   },
   "outputs": [],
   "source": [
    "hitters['BA_Scaled'] = hitters.groupby(\"yearID\")['BA'].apply(lambda x: (x-min(x))/(max(x)-min(x)))"
   ]
  },
  {
   "cell_type": "code",
   "execution_count": 34,
   "metadata": {
    "collapsed": true
   },
   "outputs": [],
   "source": [
    "hitters['HR_Scaled'] = hitters.groupby(\"yearID\")['HR'].apply(lambda x: (x-min(x))/(max(x)-min(x)))"
   ]
  },
  {
   "cell_type": "code",
   "execution_count": 35,
   "metadata": {
    "collapsed": true
   },
   "outputs": [],
   "source": [
    "hitters['R_Scaled'] = hitters.groupby(\"yearID\")['R'].apply(lambda x: (x-min(x))/(max(x)-min(x)))"
   ]
  },
  {
   "cell_type": "code",
   "execution_count": 36,
   "metadata": {
    "collapsed": true
   },
   "outputs": [],
   "source": [
    "hitters['RBI_Scaled'] = hitters.groupby(\"yearID\")['RBI'].apply(lambda x: (x-min(x))/(max(x)-min(x)))"
   ]
  },
  {
   "cell_type": "code",
   "execution_count": 37,
   "metadata": {
    "collapsed": true
   },
   "outputs": [],
   "source": [
    "hitters['SB_Scaled'] = hitters.groupby(\"yearID\")['SB'].apply(lambda x: (x-min(x))/(max(x)-min(x)))"
   ]
  },
  {
   "cell_type": "markdown",
   "metadata": {},
   "source": [
    "Now I need to calculate the penalty. How should I penalize a low number of atbats? Let's look at the graph of number of atbats per year."
   ]
  },
  {
   "cell_type": "code",
   "execution_count": 42,
   "metadata": {
    "collapsed": false
   },
   "outputs": [
    {
     "data": {
      "image/png": "[encoded data removed]",
      "text/plain": [
       "<matplotlib.figure.Figure at 0xe867797dd8>"
      ]
     },
     "metadata": {},
     "output_type": "display_data"
    }
   ],
   "source": [
    "%matplotlib inline\n",
    "sns.boxplot(x=\"yearID\",y=\"AB\",data=hitters)\n",
    "sns.despine(offset=10, trim=True)"
   ]
  },
  {
   "cell_type": "code",
   "execution_count": 46,
   "metadata": {
    "collapsed": false
   },
   "outputs": [
    {
     "data": {
      "text/plain": [
       "107     1112.0\n",
       "157     1040.0\n",
       "207     1312.0\n",
       "247     1170.0\n",
       "265     1194.0\n",
       "474     1062.0\n",
       "732     1202.0\n",
       "1180    1204.0\n",
       "1818    1228.0\n",
       "2193    1812.0\n",
       "2299    1120.0\n",
       "Name: AB, dtype: float64"
      ]
     },
     "execution_count": 46,
     "metadata": {},
     "output_type": "execute_result"
    }
   ],
   "source": [
    "hitters[(hitters['yearID']==2011) & (hitters['AB']>1000)]['AB']"
   ]
  },
  {
   "cell_type": "code",
   "execution_count": 48,
   "metadata": {
    "collapsed": false
   },
   "outputs": [
    {
     "data": {
      "text/plain": [
       "playerID        aybarer01\n",
       "yearID               2011\n",
       "LastOfstint             1\n",
       "LastOfteamID          LAA\n",
       "retroID          aybae001\n",
       "nameFirst           Erick\n",
       "nameLast            Aybar\n",
       "weight                195\n",
       "height                 70\n",
       "bats                    B\n",
       "lgID                   AL\n",
       "G                     286\n",
       "H                     310\n",
       "AB                   1112\n",
       "HR                     20\n",
       "RBI                   118\n",
       "SB                     60\n",
       "R                     142\n",
       "2B                     66\n",
       "3B                     16\n",
       "CS                     12\n",
       "BB                     62\n",
       "SO                    136\n",
       "IBB                     2\n",
       "HBP                    12\n",
       "SH                     18\n",
       "SF                      6\n",
       "GIDP                   26\n",
       "G_p                     0\n",
       "G_c                     0\n",
       "G_1b                    0\n",
       "G_2b                    7\n",
       "G_3b                   12\n",
       "G_ss                  104\n",
       "G_lf                    0\n",
       "G_cf                    0\n",
       "G_rf                    0\n",
       "G_of                    0\n",
       "G_dh                    0\n",
       "prim_pos               ss\n",
       "other_pos        [3b, ss]\n",
       "BA               0.278777\n",
       "OBP              0.322148\n",
       "1B                    208\n",
       "SLG              0.420863\n",
       "OPS              0.743011\n",
       "BA_Scaled        0.743405\n",
       "HR_Scaled         0.25641\n",
       "R_Scaled         0.514493\n",
       "RBI_Scaled       0.468254\n",
       "SB_Scaled        0.491803\n",
       "Name: 107, dtype: object"
      ]
     },
     "execution_count": 48,
     "metadata": {},
     "output_type": "execute_result"
    }
   ],
   "source": [
    "hitters.loc[107]"
   ]
  },
  {
   "cell_type": "markdown",
   "metadata": {},
   "source": [
    "So some players at bats are being double counted - I need to figure out why."
   ]
  },
  {
   "cell_type": "code",
   "execution_count": null,
   "metadata": {
    "collapsed": true
   },
   "outputs": [],
   "source": []
  }
 ],
 "metadata": {
  "kernelspec": {
   "display_name": "Python [conda root]",
   "language": "python",
   "name": "conda-root-py"
  },
  "language_info": {
   "codemirror_mode": {
    "name": "ipython",
    "version": 3
   },
   "file_extension": ".py",
   "mimetype": "text/x-python",
   "name": "python",
   "nbconvert_exporter": "python",
   "pygments_lexer": "ipython3",
   "version": "3.5.3"
  }
 },
 "nbformat": 4,
 "nbformat_minor": 2
}
