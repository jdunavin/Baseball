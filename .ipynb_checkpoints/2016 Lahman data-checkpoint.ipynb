{
 "cells": [
  {
   "cell_type": "markdown",
   "metadata": {
    "deletable": true,
    "editable": true
   },
   "source": [
    "# Fantasy baseball draft - Lahman data"
   ]
  },
  {
   "cell_type": "markdown",
   "metadata": {
    "deletable": true,
    "editable": true
   },
   "source": [
    "The purpose of this document is to prepare data for my fantasy baseball draft with Will. I will develop a scoring algorithm whose result should be correlated with the league's winning conditions , and then attempt to run machine learning on it to find other markers that might help us maximize the score.\n",
    "\n",
    "Two separate models will be needed; one for hitters and another for pitchers, as each are judged by different criteria (naturally).\n",
    "\n",
    "The data is from the latest version of the Lahman database. Each row is a player-season, for the 2011-2016 seasons."
   ]
  },
  {
   "cell_type": "markdown",
   "metadata": {
    "deletable": true,
    "editable": true
   },
   "source": [
    "## Winning criteria - hitters\n",
    "Each week the league's teams are ranked 1-10 based on their performance in each of five player statistics:\n",
    "\n",
    "* Batting average\n",
    "* Home runs\n",
    "* Runs scored\n",
    "* Runs batted in\n",
    "* Stolen bases\n",
    "\n",
    "The top ranked team scores 10 points, the second-ranked scores 9, and so on."
   ]
  },
  {
   "cell_type": "markdown",
   "metadata": {
    "deletable": true,
    "editable": true
   },
   "source": [
    "## Import needed libraries"
   ]
  },
  {
   "cell_type": "code",
   "execution_count": 1,
   "metadata": {
    "collapsed": true,
    "deletable": true,
    "editable": true
   },
   "outputs": [],
   "source": [
    "import pandas as pd\n",
    "import numpy as np\n",
    "import seaborn as sns"
   ]
  },
  {
   "cell_type": "markdown",
   "metadata": {
    "deletable": true,
    "editable": true
   },
   "source": [
    "## Import the hitters data"
   ]
  },
  {
   "cell_type": "code",
   "execution_count": 2,
   "metadata": {
    "collapsed": false,
    "deletable": true,
    "editable": true
   },
   "outputs": [],
   "source": [
    "hitters = pd.read_csv(\"hitterdata.csv\", header=0)"
   ]
  },
  {
   "cell_type": "code",
   "execution_count": 3,
   "metadata": {
    "collapsed": false,
    "deletable": true,
    "editable": true
   },
   "outputs": [
    {
     "data": {
      "text/html": [
       "<div>\n",
       "<table border=\"1\" class=\"dataframe\">\n",
       "  <thead>\n",
       "    <tr style=\"text-align: right;\">\n",
       "      <th></th>\n",
       "      <th>playerID</th>\n",
       "      <th>yearID</th>\n",
       "      <th>LastOfteamID</th>\n",
       "      <th>nameFirst</th>\n",
       "      <th>nameLast</th>\n",
       "      <th>weight</th>\n",
       "      <th>height</th>\n",
       "      <th>bats</th>\n",
       "      <th>lgID</th>\n",
       "      <th>G</th>\n",
       "      <th>...</th>\n",
       "      <th>G_2b</th>\n",
       "      <th>G_3b</th>\n",
       "      <th>G_ss</th>\n",
       "      <th>G_lf</th>\n",
       "      <th>G_cf</th>\n",
       "      <th>G_rf</th>\n",
       "      <th>G_of</th>\n",
       "      <th>G_dh</th>\n",
       "      <th>debut</th>\n",
       "      <th>birthCountry</th>\n",
       "    </tr>\n",
       "  </thead>\n",
       "  <tbody>\n",
       "    <tr>\n",
       "      <th>0</th>\n",
       "      <td>abreujo02</td>\n",
       "      <td>2014</td>\n",
       "      <td>CHA</td>\n",
       "      <td>Jose</td>\n",
       "      <td>Abreu</td>\n",
       "      <td>255</td>\n",
       "      <td>75</td>\n",
       "      <td>R</td>\n",
       "      <td>AL</td>\n",
       "      <td>145.0</td>\n",
       "      <td>...</td>\n",
       "      <td>0.0</td>\n",
       "      <td>0.0</td>\n",
       "      <td>0.0</td>\n",
       "      <td>0.0</td>\n",
       "      <td>0.0</td>\n",
       "      <td>0.0</td>\n",
       "      <td>0.0</td>\n",
       "      <td>7.0</td>\n",
       "      <td>2014-03-31</td>\n",
       "      <td>Cuba</td>\n",
       "    </tr>\n",
       "    <tr>\n",
       "      <th>1</th>\n",
       "      <td>abreujo02</td>\n",
       "      <td>2015</td>\n",
       "      <td>CHA</td>\n",
       "      <td>Jose</td>\n",
       "      <td>Abreu</td>\n",
       "      <td>255</td>\n",
       "      <td>75</td>\n",
       "      <td>R</td>\n",
       "      <td>AL</td>\n",
       "      <td>154.0</td>\n",
       "      <td>...</td>\n",
       "      <td>0.0</td>\n",
       "      <td>0.0</td>\n",
       "      <td>0.0</td>\n",
       "      <td>0.0</td>\n",
       "      <td>0.0</td>\n",
       "      <td>0.0</td>\n",
       "      <td>0.0</td>\n",
       "      <td>7.0</td>\n",
       "      <td>2014-03-31</td>\n",
       "      <td>Cuba</td>\n",
       "    </tr>\n",
       "    <tr>\n",
       "      <th>2</th>\n",
       "      <td>abreujo02</td>\n",
       "      <td>2016</td>\n",
       "      <td>CHA</td>\n",
       "      <td>Jose</td>\n",
       "      <td>Abreu</td>\n",
       "      <td>255</td>\n",
       "      <td>75</td>\n",
       "      <td>R</td>\n",
       "      <td>AL</td>\n",
       "      <td>159.0</td>\n",
       "      <td>...</td>\n",
       "      <td>0.0</td>\n",
       "      <td>0.0</td>\n",
       "      <td>0.0</td>\n",
       "      <td>0.0</td>\n",
       "      <td>0.0</td>\n",
       "      <td>0.0</td>\n",
       "      <td>0.0</td>\n",
       "      <td>7.0</td>\n",
       "      <td>2014-03-31</td>\n",
       "      <td>Cuba</td>\n",
       "    </tr>\n",
       "    <tr>\n",
       "      <th>3</th>\n",
       "      <td>ackledu01</td>\n",
       "      <td>2015</td>\n",
       "      <td>NYA</td>\n",
       "      <td>Dustin</td>\n",
       "      <td>Ackley</td>\n",
       "      <td>205</td>\n",
       "      <td>73</td>\n",
       "      <td>L</td>\n",
       "      <td>AL</td>\n",
       "      <td>23.0</td>\n",
       "      <td>...</td>\n",
       "      <td>1.0</td>\n",
       "      <td>0.0</td>\n",
       "      <td>0.0</td>\n",
       "      <td>0.0</td>\n",
       "      <td>0.0</td>\n",
       "      <td>9.0</td>\n",
       "      <td>9.0</td>\n",
       "      <td>3.0</td>\n",
       "      <td>2011-06-17</td>\n",
       "      <td>USA</td>\n",
       "    </tr>\n",
       "    <tr>\n",
       "      <th>4</th>\n",
       "      <td>ackledu01</td>\n",
       "      <td>2016</td>\n",
       "      <td>NYA</td>\n",
       "      <td>Dustin</td>\n",
       "      <td>Ackley</td>\n",
       "      <td>205</td>\n",
       "      <td>73</td>\n",
       "      <td>L</td>\n",
       "      <td>AL</td>\n",
       "      <td>28.0</td>\n",
       "      <td>...</td>\n",
       "      <td>1.0</td>\n",
       "      <td>0.0</td>\n",
       "      <td>0.0</td>\n",
       "      <td>0.0</td>\n",
       "      <td>0.0</td>\n",
       "      <td>9.0</td>\n",
       "      <td>9.0</td>\n",
       "      <td>3.0</td>\n",
       "      <td>2011-06-17</td>\n",
       "      <td>USA</td>\n",
       "    </tr>\n",
       "  </tbody>\n",
       "</table>\n",
       "<p>5 rows × 39 columns</p>\n",
       "</div>"
      ],
      "text/plain": [
       "    playerID  yearID LastOfteamID nameFirst nameLast  weight  height bats  \\\n",
       "0  abreujo02    2014          CHA      Jose    Abreu     255      75    R   \n",
       "1  abreujo02    2015          CHA      Jose    Abreu     255      75    R   \n",
       "2  abreujo02    2016          CHA      Jose    Abreu     255      75    R   \n",
       "3  ackledu01    2015          NYA    Dustin   Ackley     205      73    L   \n",
       "4  ackledu01    2016          NYA    Dustin   Ackley     205      73    L   \n",
       "\n",
       "  lgID      G      ...       G_2b  G_3b  G_ss  G_lf  G_cf  G_rf  G_of  G_dh  \\\n",
       "0   AL  145.0      ...        0.0   0.0   0.0   0.0   0.0   0.0   0.0   7.0   \n",
       "1   AL  154.0      ...        0.0   0.0   0.0   0.0   0.0   0.0   0.0   7.0   \n",
       "2   AL  159.0      ...        0.0   0.0   0.0   0.0   0.0   0.0   0.0   7.0   \n",
       "3   AL   23.0      ...        1.0   0.0   0.0   0.0   0.0   9.0   9.0   3.0   \n",
       "4   AL   28.0      ...        1.0   0.0   0.0   0.0   0.0   9.0   9.0   3.0   \n",
       "\n",
       "        debut  birthCountry  \n",
       "0  2014-03-31          Cuba  \n",
       "1  2014-03-31          Cuba  \n",
       "2  2014-03-31          Cuba  \n",
       "3  2011-06-17           USA  \n",
       "4  2011-06-17           USA  \n",
       "\n",
       "[5 rows x 39 columns]"
      ]
     },
     "execution_count": 3,
     "metadata": {},
     "output_type": "execute_result"
    }
   ],
   "source": [
    "hitters.head()"
   ]
  },
  {
   "cell_type": "code",
   "execution_count": 4,
   "metadata": {
    "collapsed": false,
    "deletable": true,
    "editable": true
   },
   "outputs": [
    {
     "data": {
      "text/plain": [
       "Index(['playerID', 'yearID', 'LastOfteamID', 'nameFirst', 'nameLast', 'weight',\n",
       "       'height', 'bats', 'lgID', 'G', 'H', 'AB', 'HR', 'RBI', 'SB', 'R', '2B',\n",
       "       '3B', 'CS', 'BB', 'SO', 'IBB', 'HBP', 'SH', 'SF', 'GIDP', 'G_p', 'G_c',\n",
       "       'G_1b', 'G_2b', 'G_3b', 'G_ss', 'G_lf', 'G_cf', 'G_rf', 'G_of', 'G_dh',\n",
       "       'debut', 'birthCountry'],\n",
       "      dtype='object')"
      ]
     },
     "execution_count": 4,
     "metadata": {},
     "output_type": "execute_result"
    }
   ],
   "source": [
    "hitters.columns"
   ]
  },
  {
   "cell_type": "markdown",
   "metadata": {
    "deletable": true,
    "editable": true
   },
   "source": [
    "## Eligibility criteria"
   ]
  },
  {
   "cell_type": "markdown",
   "metadata": {
    "deletable": true,
    "editable": true
   },
   "source": [
    "Under league rules, players are eligible to be selected \"at their primary position, plus positions they've played 10 games last year or 1 game this year.\" For the draft, we need to figure out what these are. Since I have no source for \"primary position\", I will assume the position at which a player has played the most games is his primary position. We need to construct a function to identify these."
   ]
  },
  {
   "cell_type": "code",
   "execution_count": 5,
   "metadata": {
    "collapsed": false,
    "deletable": true,
    "editable": true
   },
   "outputs": [
    {
     "data": {
      "text/plain": [
       "Index(['playerID', 'yearID', 'LastOfteamID', 'nameFirst', 'nameLast', 'weight',\n",
       "       'height', 'bats', 'lgID', 'G', 'H', 'AB', 'HR', 'RBI', 'SB', 'R', '2B',\n",
       "       '3B', 'CS', 'BB', 'SO', 'IBB', 'HBP', 'SH', 'SF', 'GIDP', 'G_p', 'G_c',\n",
       "       'G_1b', 'G_2b', 'G_3b', 'G_ss', 'G_lf', 'G_cf', 'G_rf', 'G_of', 'G_dh',\n",
       "       'debut', 'birthCountry'],\n",
       "      dtype='object')"
      ]
     },
     "execution_count": 5,
     "metadata": {},
     "output_type": "execute_result"
    }
   ],
   "source": [
    "hitters.columns"
   ]
  },
  {
   "cell_type": "code",
   "execution_count": 6,
   "metadata": {
    "collapsed": true,
    "deletable": true,
    "editable": true
   },
   "outputs": [],
   "source": [
    "gamescols = ['G_p', 'G_c', 'G_1b', 'G_2b', 'G_3b', 'G_ss', 'G_lf', 'G_cf', 'G_rf', 'G_of', 'G_dh']"
   ]
  },
  {
   "cell_type": "code",
   "execution_count": 7,
   "metadata": {
    "collapsed": false,
    "deletable": true,
    "editable": true
   },
   "outputs": [
    {
     "data": {
      "text/plain": [
       "0       152.0\n",
       "1       152.0\n",
       "2       152.0\n",
       "3        13.0\n",
       "4        13.0\n",
       "5        47.0\n",
       "6        47.0\n",
       "7        47.0\n",
       "8        86.0\n",
       "9        86.0\n",
       "10       86.0\n",
       "11       86.0\n",
       "12       86.0\n",
       "13       13.0\n",
       "14       13.0\n",
       "15       13.0\n",
       "16       13.0\n",
       "17        7.0\n",
       "18        7.0\n",
       "19        7.0\n",
       "20       88.0\n",
       "21       88.0\n",
       "22       88.0\n",
       "23       11.0\n",
       "24       11.0\n",
       "25        5.0\n",
       "26        4.0\n",
       "27       58.0\n",
       "28       58.0\n",
       "29       41.0\n",
       "        ...  \n",
       "1455     88.0\n",
       "1456     88.0\n",
       "1457     88.0\n",
       "1458      6.0\n",
       "1459     36.0\n",
       "1460     36.0\n",
       "1461     36.0\n",
       "1462     36.0\n",
       "1463     36.0\n",
       "1464     36.0\n",
       "1465    149.0\n",
       "1466    149.0\n",
       "1467    149.0\n",
       "1468    149.0\n",
       "1469      2.0\n",
       "1470      2.0\n",
       "1471      2.0\n",
       "1472     69.0\n",
       "1473      4.0\n",
       "1474    114.0\n",
       "1475    114.0\n",
       "1476    114.0\n",
       "1477    114.0\n",
       "1478    114.0\n",
       "1479    114.0\n",
       "1480    119.0\n",
       "1481     52.0\n",
       "1482     52.0\n",
       "1483     52.0\n",
       "1484     52.0\n",
       "dtype: float64"
      ]
     },
     "execution_count": 7,
     "metadata": {},
     "output_type": "execute_result"
    }
   ],
   "source": [
    "hitters[gamescols].max(axis = 1)"
   ]
  },
  {
   "cell_type": "code",
   "execution_count": 8,
   "metadata": {
    "collapsed": false,
    "deletable": true,
    "editable": true
   },
   "outputs": [],
   "source": [
    "prim_pos_index = np.argmax(hitters[gamescols].as_matrix(), axis=1)"
   ]
  },
  {
   "cell_type": "code",
   "execution_count": 9,
   "metadata": {
    "collapsed": false,
    "deletable": true,
    "editable": true
   },
   "outputs": [],
   "source": [
    "# for 1 to number of hitters:\n",
    "#    get position of max games played out of all positions played\n",
    "#   use position to identify position\n",
    "#   store position in 'prim_pos' column\n",
    "prim_pos = []\n",
    "for i in range(len(hitters)):\n",
    "    prim_pos.append(gamescols[prim_pos_index[i]][2:])\n",
    "hitters['prim_pos'] = prim_pos"
   ]
  },
  {
   "cell_type": "markdown",
   "metadata": {
    "deletable": true,
    "editable": true
   },
   "source": [
    "Now I need to find other eligible positions. \n",
    "1. For each player, find the gamescols where their games played is >=10.\n",
    "2. Combine these into a string rep and store in 'other_pos'."
   ]
  },
  {
   "cell_type": "code",
   "execution_count": 10,
   "metadata": {
    "collapsed": false,
    "deletable": true,
    "editable": true
   },
   "outputs": [],
   "source": [
    "test = hitters.iloc[178,]"
   ]
  },
  {
   "cell_type": "code",
   "execution_count": 11,
   "metadata": {
    "collapsed": false,
    "deletable": true,
    "editable": true
   },
   "outputs": [
    {
     "data": {
      "text/plain": [
       "[7, 9]"
      ]
     },
     "execution_count": 11,
     "metadata": {},
     "output_type": "execute_result"
    }
   ],
   "source": [
    "np.where(test[gamescols]>10)[0].tolist()"
   ]
  },
  {
   "cell_type": "code",
   "execution_count": 12,
   "metadata": {
    "collapsed": false,
    "deletable": true,
    "editable": true
   },
   "outputs": [
    {
     "data": {
      "text/plain": [
       "['cf', 'of']"
      ]
     },
     "execution_count": 12,
     "metadata": {},
     "output_type": "execute_result"
    }
   ],
   "source": [
    "list(gamescols[i][2:] for i in np.where(test[gamescols]>10)[0].tolist())"
   ]
  },
  {
   "cell_type": "code",
   "execution_count": 13,
   "metadata": {
    "collapsed": true,
    "deletable": true,
    "editable": true
   },
   "outputs": [],
   "source": [
    "def findOtherPositions(x):\n",
    "    other_pos = list(gamescols[i][2:] for i in np.where(x[gamescols]>=10)[0].tolist())\n",
    "    return other_pos"
   ]
  },
  {
   "cell_type": "code",
   "execution_count": 14,
   "metadata": {
    "collapsed": true,
    "deletable": true,
    "editable": true
   },
   "outputs": [],
   "source": [
    "hitters['other_pos'] = hitters.apply(findOtherPositions, axis=1)"
   ]
  },
  {
   "cell_type": "code",
   "execution_count": 15,
   "metadata": {
    "collapsed": false,
    "deletable": true,
    "editable": true
   },
   "outputs": [
    {
     "data": {
      "text/plain": [
       "['cf', 'of']"
      ]
     },
     "execution_count": 15,
     "metadata": {},
     "output_type": "execute_result"
    }
   ],
   "source": [
    "findOtherPositions(hitters.iloc[178,])"
   ]
  },
  {
   "cell_type": "code",
   "execution_count": 16,
   "metadata": {
    "collapsed": false,
    "deletable": true,
    "editable": true
   },
   "outputs": [
    {
     "data": {
      "text/plain": [
       "playerID         burnsbi02\n",
       "yearID                2016\n",
       "LastOfteamID           KCA\n",
       "nameFirst            Billy\n",
       "nameLast             Burns\n",
       "weight                 170\n",
       "height                  69\n",
       "bats                     B\n",
       "lgID                    AL\n",
       "G                       97\n",
       "H                       73\n",
       "AB                     311\n",
       "HR                       0\n",
       "RBI                     13\n",
       "SB                      17\n",
       "R                       39\n",
       "2B                      11\n",
       "3B                       4\n",
       "CS                       5\n",
       "BB                      10\n",
       "SO                      37\n",
       "IBB                      2\n",
       "HBP                      6\n",
       "SH                       3\n",
       "SF                       2\n",
       "GIDP                     3\n",
       "G_p                      0\n",
       "G_c                      0\n",
       "G_1b                     0\n",
       "G_2b                     0\n",
       "G_3b                     0\n",
       "G_ss                     0\n",
       "G_lf                     6\n",
       "G_cf                    80\n",
       "G_rf                     7\n",
       "G_of                    87\n",
       "G_dh                     4\n",
       "debut           2014-07-28\n",
       "birthCountry           USA\n",
       "prim_pos                of\n",
       "other_pos         [cf, of]\n",
       "Name: 178, dtype: object"
      ]
     },
     "execution_count": 16,
     "metadata": {},
     "output_type": "execute_result"
    }
   ],
   "source": [
    "# Check row 178 - it works!\n",
    "hitters.iloc[178,]"
   ]
  },
  {
   "cell_type": "markdown",
   "metadata": {
    "deletable": true,
    "editable": true
   },
   "source": [
    "I now have each player's primary position (assumed to be the one they played the most games at during 2016) and each position for which they are eligible (played at least 10 games at during 2016)."
   ]
  },
  {
   "cell_type": "markdown",
   "metadata": {
    "deletable": true,
    "editable": true
   },
   "source": [
    "## Calculating any other desired statistics\n",
    "\n",
    "I will also calculate any necessary statistics. Statistics I calculate are as follows:\n",
    "\n",
    "* Batting average\n",
    "* On-base percentage\n",
    "* Slugging percentage (which is not really a percentage)\n",
    "* OPS (on-base plus slugging)\n",
    "* wOBA"
   ]
  },
  {
   "cell_type": "code",
   "execution_count": 17,
   "metadata": {
    "collapsed": true,
    "deletable": true,
    "editable": true
   },
   "outputs": [],
   "source": [
    "# Batting average\n",
    "hitters['BA'] = hitters['H'] / hitters['AB']"
   ]
  },
  {
   "cell_type": "code",
   "execution_count": 18,
   "metadata": {
    "collapsed": false,
    "deletable": true,
    "editable": true
   },
   "outputs": [],
   "source": [
    "# On-base percentage = (hits + walks + hbp) / (atbats + walks + hbps + sac flies)\n",
    "hitters['OBP'] = (hitters['H']+hitters['BB']+hitters['HBP']) / (hitters['AB']+hitters['BB']+hitters['HBP']+hitters['SF'])"
   ]
  },
  {
   "cell_type": "code",
   "execution_count": 19,
   "metadata": {
    "collapsed": true,
    "deletable": true,
    "editable": true
   },
   "outputs": [],
   "source": [
    "# Slugging percentage = (1*singles + 2*doubles + 3*triples + 4*HR) / AB\n",
    "# First we need number of singles\n",
    "hitters['1B'] = hitters['H'] - hitters['2B'] - hitters['3B'] - hitters['HR']\n",
    "hitters['SLG'] = (hitters['1B'] + 2 * hitters['2B'] + 3 * hitters['3B'] + 4*hitters['HR']) / hitters['AB']"
   ]
  },
  {
   "cell_type": "code",
   "execution_count": 20,
   "metadata": {
    "collapsed": true,
    "deletable": true,
    "editable": true
   },
   "outputs": [],
   "source": [
    "# On-base + slugging\n",
    "hitters['OPS'] = hitters['OBP'] + hitters['SLG']"
   ]
  },
  {
   "cell_type": "markdown",
   "metadata": {
    "deletable": true,
    "editable": true
   },
   "source": [
    "Having done that, I need to figure out how to separate these into years, and then calculate the *adjusted fantasy star rating*, which consists of the following steps:\n",
    "\n",
    "* For each year, index each of the five statistics, so that the league leader (without regard to games played / at bats) is at a 1.0, and the poorest performer is at 0.0.\n",
    "* Apply a penalty to each statistic based on the number of games played / at bats. This penalty can be a very small number (harsh penalty), but shouldn't be 0.\n",
    "* Sum each index statistic and apply the penalty. Therefore, the maximum rating is five stars, but that can only be achieved by someone who led the league in all five statistics while simultaneously having more games played / at bats than anyone else.\n",
    "\n",
    "I will then show analytics on the scores, to rank the available players. Those who have higher scores should contribute more positively to the success of our team."
   ]
  },
  {
   "cell_type": "code",
   "execution_count": 21,
   "metadata": {
    "collapsed": false,
    "deletable": true,
    "editable": true
   },
   "outputs": [],
   "source": [
    "hitters['BA_Scaled'] = hitters.groupby(\"yearID\")['BA'].apply(lambda x: (x-min(x))/(max(x)-min(x)))"
   ]
  },
  {
   "cell_type": "code",
   "execution_count": 22,
   "metadata": {
    "collapsed": true,
    "deletable": true,
    "editable": true
   },
   "outputs": [],
   "source": [
    "hitters['HR_Scaled'] = hitters.groupby(\"yearID\")['HR'].apply(lambda x: (x-min(x))/(max(x)-min(x)))"
   ]
  },
  {
   "cell_type": "code",
   "execution_count": 23,
   "metadata": {
    "collapsed": true,
    "deletable": true,
    "editable": true
   },
   "outputs": [],
   "source": [
    "hitters['R_Scaled'] = hitters.groupby(\"yearID\")['R'].apply(lambda x: (x-min(x))/(max(x)-min(x)))"
   ]
  },
  {
   "cell_type": "code",
   "execution_count": 24,
   "metadata": {
    "collapsed": true,
    "deletable": true,
    "editable": true
   },
   "outputs": [],
   "source": [
    "hitters['RBI_Scaled'] = hitters.groupby(\"yearID\")['RBI'].apply(lambda x: (x-min(x))/(max(x)-min(x)))"
   ]
  },
  {
   "cell_type": "code",
   "execution_count": 25,
   "metadata": {
    "collapsed": true,
    "deletable": true,
    "editable": true
   },
   "outputs": [],
   "source": [
    "hitters['SB_Scaled'] = hitters.groupby(\"yearID\")['SB'].apply(lambda x: (x-min(x))/(max(x)-min(x)))"
   ]
  },
  {
   "cell_type": "markdown",
   "metadata": {
    "deletable": true,
    "editable": true
   },
   "source": [
    "Now I need to calculate the penalty. How should I penalize a low number of atbats? Let's look at the graph of number of atbats per year."
   ]
  },
  {
   "cell_type": "code",
   "execution_count": 26,
   "metadata": {
    "collapsed": false,
    "deletable": true,
    "editable": true
   },
   "outputs": [
    {
     "data": {
      "image/png": "[encoded data removed]",
      "text/plain": [
       "<matplotlib.figure.Figure at 0x1d076546390>"
      ]
     },
     "metadata": {},
     "output_type": "display_data"
    }
   ],
   "source": [
    "%matplotlib inline\n",
    "sns.boxplot(x=\"yearID\",y=\"AB\",data=hitters)\n",
    "sns.despine(offset=10, trim=True)"
   ]
  },
  {
   "cell_type": "markdown",
   "metadata": {
    "deletable": true,
    "editable": true
   },
   "source": [
    "I'm going to set the maximum penalty at 50 at bats, meaning those with less than 50 at bats will get their star ratings penalized most heavily. I'll end the penalties at 300 at bat, meaning those with 300 or more at bats will not be penalized at all. I'll apply the penalty as an adjustment factor:\n",
    "\n",
    "$P = 1$ if $AB \\ge 300$, $P = 0.1$ if $AB < 50$, and $P = 0.1 + \\frac{AB-50}{300}*1.08$ otherwise."
   ]
  },
  {
   "cell_type": "code",
   "execution_count": 27,
   "metadata": {
    "collapsed": true,
    "deletable": true,
    "editable": true
   },
   "outputs": [],
   "source": [
    "def applyPenalty(x):\n",
    "    if (x < 50):\n",
    "        return 0.1\n",
    "    elif (x >= 300):\n",
    "        return 1\n",
    "    else:\n",
    "        return (0.1 + 1.08* ((x-50)/300))"
   ]
  },
  {
   "cell_type": "code",
   "execution_count": 28,
   "metadata": {
    "collapsed": true,
    "deletable": true,
    "editable": true
   },
   "outputs": [],
   "source": [
    "hitters['Penalty'] = hitters['AB'].apply(applyPenalty)"
   ]
  },
  {
   "cell_type": "code",
   "execution_count": 29,
   "metadata": {
    "collapsed": false,
    "deletable": true,
    "editable": true
   },
   "outputs": [
    {
     "data": {
      "text/html": [
       "<div>\n",
       "<table border=\"1\" class=\"dataframe\">\n",
       "  <thead>\n",
       "    <tr style=\"text-align: right;\">\n",
       "      <th></th>\n",
       "      <th>AB</th>\n",
       "      <th>Penalty</th>\n",
       "    </tr>\n",
       "  </thead>\n",
       "  <tbody>\n",
       "    <tr>\n",
       "      <th>0</th>\n",
       "      <td>556.0</td>\n",
       "      <td>1.0000</td>\n",
       "    </tr>\n",
       "    <tr>\n",
       "      <th>1</th>\n",
       "      <td>613.0</td>\n",
       "      <td>1.0000</td>\n",
       "    </tr>\n",
       "    <tr>\n",
       "      <th>2</th>\n",
       "      <td>624.0</td>\n",
       "      <td>1.0000</td>\n",
       "    </tr>\n",
       "    <tr>\n",
       "      <th>3</th>\n",
       "      <td>52.0</td>\n",
       "      <td>0.1072</td>\n",
       "    </tr>\n",
       "    <tr>\n",
       "      <th>4</th>\n",
       "      <td>61.0</td>\n",
       "      <td>0.1396</td>\n",
       "    </tr>\n",
       "    <tr>\n",
       "      <th>5</th>\n",
       "      <td>15.0</td>\n",
       "      <td>0.1000</td>\n",
       "    </tr>\n",
       "    <tr>\n",
       "      <th>6</th>\n",
       "      <td>53.0</td>\n",
       "      <td>0.1108</td>\n",
       "    </tr>\n",
       "    <tr>\n",
       "      <th>7</th>\n",
       "      <td>225.0</td>\n",
       "      <td>0.7300</td>\n",
       "    </tr>\n",
       "    <tr>\n",
       "      <th>8</th>\n",
       "      <td>86.0</td>\n",
       "      <td>0.2296</td>\n",
       "    </tr>\n",
       "    <tr>\n",
       "      <th>9</th>\n",
       "      <td>296.0</td>\n",
       "      <td>0.9856</td>\n",
       "    </tr>\n",
       "    <tr>\n",
       "      <th>10</th>\n",
       "      <td>527.0</td>\n",
       "      <td>1.0000</td>\n",
       "    </tr>\n",
       "    <tr>\n",
       "      <th>11</th>\n",
       "      <td>175.0</td>\n",
       "      <td>0.5500</td>\n",
       "    </tr>\n",
       "    <tr>\n",
       "      <th>12</th>\n",
       "      <td>297.0</td>\n",
       "      <td>0.9892</td>\n",
       "    </tr>\n",
       "    <tr>\n",
       "      <th>13</th>\n",
       "      <td>18.0</td>\n",
       "      <td>0.1000</td>\n",
       "    </tr>\n",
       "    <tr>\n",
       "      <th>14</th>\n",
       "      <td>97.0</td>\n",
       "      <td>0.2692</td>\n",
       "    </tr>\n",
       "    <tr>\n",
       "      <th>15</th>\n",
       "      <td>113.0</td>\n",
       "      <td>0.3268</td>\n",
       "    </tr>\n",
       "    <tr>\n",
       "      <th>16</th>\n",
       "      <td>63.0</td>\n",
       "      <td>0.1468</td>\n",
       "    </tr>\n",
       "    <tr>\n",
       "      <th>17</th>\n",
       "      <td>33.0</td>\n",
       "      <td>0.1000</td>\n",
       "    </tr>\n",
       "    <tr>\n",
       "      <th>18</th>\n",
       "      <td>19.0</td>\n",
       "      <td>0.1000</td>\n",
       "    </tr>\n",
       "    <tr>\n",
       "      <th>19</th>\n",
       "      <td>6.0</td>\n",
       "      <td>0.1000</td>\n",
       "    </tr>\n",
       "  </tbody>\n",
       "</table>\n",
       "</div>"
      ],
      "text/plain": [
       "       AB  Penalty\n",
       "0   556.0   1.0000\n",
       "1   613.0   1.0000\n",
       "2   624.0   1.0000\n",
       "3    52.0   0.1072\n",
       "4    61.0   0.1396\n",
       "5    15.0   0.1000\n",
       "6    53.0   0.1108\n",
       "7   225.0   0.7300\n",
       "8    86.0   0.2296\n",
       "9   296.0   0.9856\n",
       "10  527.0   1.0000\n",
       "11  175.0   0.5500\n",
       "12  297.0   0.9892\n",
       "13   18.0   0.1000\n",
       "14   97.0   0.2692\n",
       "15  113.0   0.3268\n",
       "16   63.0   0.1468\n",
       "17   33.0   0.1000\n",
       "18   19.0   0.1000\n",
       "19    6.0   0.1000"
      ]
     },
     "execution_count": 29,
     "metadata": {},
     "output_type": "execute_result"
    }
   ],
   "source": [
    "# Briefly check for reasonability\n",
    "hitters[['AB','Penalty']].head(20)"
   ]
  },
  {
   "cell_type": "markdown",
   "metadata": {
    "deletable": true,
    "editable": true
   },
   "source": [
    "## Calculate star ratings\n",
    "This is easy: $\\textit{Stars} = (HR + BA + R + RBI + SB) * P$, where the five terms being summed are the indexed values, and $P$ is the adjustment factor."
   ]
  },
  {
   "cell_type": "code",
   "execution_count": 30,
   "metadata": {
    "collapsed": false,
    "deletable": true,
    "editable": true
   },
   "outputs": [
    {
     "data": {
      "text/plain": [
       "Index(['playerID', 'yearID', 'LastOfteamID', 'nameFirst', 'nameLast', 'weight',\n",
       "       'height', 'bats', 'lgID', 'G', 'H', 'AB', 'HR', 'RBI', 'SB', 'R', '2B',\n",
       "       '3B', 'CS', 'BB', 'SO', 'IBB', 'HBP', 'SH', 'SF', 'GIDP', 'G_p', 'G_c',\n",
       "       'G_1b', 'G_2b', 'G_3b', 'G_ss', 'G_lf', 'G_cf', 'G_rf', 'G_of', 'G_dh',\n",
       "       'debut', 'birthCountry', 'prim_pos', 'other_pos', 'BA', 'OBP', '1B',\n",
       "       'SLG', 'OPS', 'BA_Scaled', 'HR_Scaled', 'R_Scaled', 'RBI_Scaled',\n",
       "       'SB_Scaled', 'Penalty'],\n",
       "      dtype='object')"
      ]
     },
     "execution_count": 30,
     "metadata": {},
     "output_type": "execute_result"
    }
   ],
   "source": [
    "hitters.columns"
   ]
  },
  {
   "cell_type": "code",
   "execution_count": 31,
   "metadata": {
    "collapsed": true,
    "deletable": true,
    "editable": true
   },
   "outputs": [],
   "source": [
    "hitters['AdjStars'] = hitters['Penalty']*(hitters['HR_Scaled'] + hitters['R_Scaled'] + hitters['RBI_Scaled'] + hitters['SB_Scaled'] + hitters['BA_Scaled'])"
   ]
  },
  {
   "cell_type": "markdown",
   "metadata": {
    "deletable": true,
    "editable": true
   },
   "source": [
    "Let's look at the top 10 star performers in the league for 2016."
   ]
  },
  {
   "cell_type": "code",
   "execution_count": 32,
   "metadata": {
    "collapsed": true,
    "deletable": true,
    "editable": true
   },
   "outputs": [],
   "source": [
    "hitters2016 = hitters[hitters['yearID']==2016].sort_values('AdjStars', axis=0, ascending=False)"
   ]
  },
  {
   "cell_type": "code",
   "execution_count": 33,
   "metadata": {
    "collapsed": false,
    "deletable": true,
    "editable": true
   },
   "outputs": [
    {
     "data": {
      "text/html": [
       "<div>\n",
       "<table border=\"1\" class=\"dataframe\">\n",
       "  <thead>\n",
       "    <tr style=\"text-align: right;\">\n",
       "      <th></th>\n",
       "      <th>playerID</th>\n",
       "      <th>yearID</th>\n",
       "      <th>LastOfteamID</th>\n",
       "      <th>nameFirst</th>\n",
       "      <th>nameLast</th>\n",
       "      <th>weight</th>\n",
       "      <th>height</th>\n",
       "      <th>bats</th>\n",
       "      <th>lgID</th>\n",
       "      <th>G</th>\n",
       "      <th>...</th>\n",
       "      <th>1B</th>\n",
       "      <th>SLG</th>\n",
       "      <th>OPS</th>\n",
       "      <th>BA_Scaled</th>\n",
       "      <th>HR_Scaled</th>\n",
       "      <th>R_Scaled</th>\n",
       "      <th>RBI_Scaled</th>\n",
       "      <th>SB_Scaled</th>\n",
       "      <th>Penalty</th>\n",
       "      <th>AdjStars</th>\n",
       "    </tr>\n",
       "  </thead>\n",
       "  <tbody>\n",
       "    <tr>\n",
       "      <th>113</th>\n",
       "      <td>bettsmo01</td>\n",
       "      <td>2016</td>\n",
       "      <td>BOS</td>\n",
       "      <td>Mookie</td>\n",
       "      <td>Betts</td>\n",
       "      <td>180</td>\n",
       "      <td>69</td>\n",
       "      <td>R</td>\n",
       "      <td>AL</td>\n",
       "      <td>158.0</td>\n",
       "      <td>...</td>\n",
       "      <td>136.0</td>\n",
       "      <td>0.534226</td>\n",
       "      <td>0.897240</td>\n",
       "      <td>0.477679</td>\n",
       "      <td>0.659574</td>\n",
       "      <td>0.991870</td>\n",
       "      <td>0.849624</td>\n",
       "      <td>0.419355</td>\n",
       "      <td>1.0</td>\n",
       "      <td>3.398102</td>\n",
       "    </tr>\n",
       "    <tr>\n",
       "      <th>1377</th>\n",
       "      <td>troutmi01</td>\n",
       "      <td>2016</td>\n",
       "      <td>LAA</td>\n",
       "      <td>Mike</td>\n",
       "      <td>Trout</td>\n",
       "      <td>235</td>\n",
       "      <td>74</td>\n",
       "      <td>R</td>\n",
       "      <td>AL</td>\n",
       "      <td>159.0</td>\n",
       "      <td>...</td>\n",
       "      <td>107.0</td>\n",
       "      <td>0.550091</td>\n",
       "      <td>0.990620</td>\n",
       "      <td>0.472678</td>\n",
       "      <td>0.617021</td>\n",
       "      <td>1.000000</td>\n",
       "      <td>0.751880</td>\n",
       "      <td>0.483871</td>\n",
       "      <td>1.0</td>\n",
       "      <td>3.325450</td>\n",
       "    </tr>\n",
       "    <tr>\n",
       "      <th>59</th>\n",
       "      <td>arenano01</td>\n",
       "      <td>2016</td>\n",
       "      <td>COL</td>\n",
       "      <td>Nolan</td>\n",
       "      <td>Arenado</td>\n",
       "      <td>205</td>\n",
       "      <td>74</td>\n",
       "      <td>R</td>\n",
       "      <td>NL</td>\n",
       "      <td>160.0</td>\n",
       "      <td>...</td>\n",
       "      <td>100.0</td>\n",
       "      <td>0.569579</td>\n",
       "      <td>0.931648</td>\n",
       "      <td>0.441748</td>\n",
       "      <td>0.872340</td>\n",
       "      <td>0.943089</td>\n",
       "      <td>1.000000</td>\n",
       "      <td>0.032258</td>\n",
       "      <td>1.0</td>\n",
       "      <td>3.289435</td>\n",
       "    </tr>\n",
       "    <tr>\n",
       "      <th>368</th>\n",
       "      <td>doziebr01</td>\n",
       "      <td>2016</td>\n",
       "      <td>MIN</td>\n",
       "      <td>Brian</td>\n",
       "      <td>Dozier</td>\n",
       "      <td>200</td>\n",
       "      <td>71</td>\n",
       "      <td>R</td>\n",
       "      <td>AL</td>\n",
       "      <td>155.0</td>\n",
       "      <td>...</td>\n",
       "      <td>83.0</td>\n",
       "      <td>0.546341</td>\n",
       "      <td>0.885964</td>\n",
       "      <td>0.402439</td>\n",
       "      <td>0.893617</td>\n",
       "      <td>0.845528</td>\n",
       "      <td>0.744361</td>\n",
       "      <td>0.290323</td>\n",
       "      <td>1.0</td>\n",
       "      <td>3.176268</td>\n",
       "    </tr>\n",
       "    <tr>\n",
       "      <th>174</th>\n",
       "      <td>bryankr01</td>\n",
       "      <td>2016</td>\n",
       "      <td>CHN</td>\n",
       "      <td>Kris</td>\n",
       "      <td>Bryant</td>\n",
       "      <td>230</td>\n",
       "      <td>77</td>\n",
       "      <td>R</td>\n",
       "      <td>NL</td>\n",
       "      <td>155.0</td>\n",
       "      <td>...</td>\n",
       "      <td>99.0</td>\n",
       "      <td>0.553897</td>\n",
       "      <td>0.938733</td>\n",
       "      <td>0.437811</td>\n",
       "      <td>0.829787</td>\n",
       "      <td>0.983740</td>\n",
       "      <td>0.766917</td>\n",
       "      <td>0.129032</td>\n",
       "      <td>1.0</td>\n",
       "      <td>3.147288</td>\n",
       "    </tr>\n",
       "    <tr>\n",
       "      <th>37</th>\n",
       "      <td>altuvjo01</td>\n",
       "      <td>2016</td>\n",
       "      <td>HOU</td>\n",
       "      <td>Jose</td>\n",
       "      <td>Altuve</td>\n",
       "      <td>165</td>\n",
       "      <td>66</td>\n",
       "      <td>R</td>\n",
       "      <td>AL</td>\n",
       "      <td>161.0</td>\n",
       "      <td>...</td>\n",
       "      <td>145.0</td>\n",
       "      <td>0.531250</td>\n",
       "      <td>0.927609</td>\n",
       "      <td>0.506250</td>\n",
       "      <td>0.510638</td>\n",
       "      <td>0.878049</td>\n",
       "      <td>0.721805</td>\n",
       "      <td>0.483871</td>\n",
       "      <td>1.0</td>\n",
       "      <td>3.100613</td>\n",
       "    </tr>\n",
       "    <tr>\n",
       "      <th>412</th>\n",
       "      <td>encared01</td>\n",
       "      <td>2016</td>\n",
       "      <td>TOR</td>\n",
       "      <td>Edwin</td>\n",
       "      <td>Encarnacion</td>\n",
       "      <td>230</td>\n",
       "      <td>73</td>\n",
       "      <td>R</td>\n",
       "      <td>AL</td>\n",
       "      <td>160.0</td>\n",
       "      <td>...</td>\n",
       "      <td>82.0</td>\n",
       "      <td>0.529118</td>\n",
       "      <td>0.885752</td>\n",
       "      <td>0.394343</td>\n",
       "      <td>0.893617</td>\n",
       "      <td>0.804878</td>\n",
       "      <td>0.954887</td>\n",
       "      <td>0.032258</td>\n",
       "      <td>1.0</td>\n",
       "      <td>3.079983</td>\n",
       "    </tr>\n",
       "    <tr>\n",
       "      <th>363</th>\n",
       "      <td>donaljo02</td>\n",
       "      <td>2016</td>\n",
       "      <td>TOR</td>\n",
       "      <td>Josh</td>\n",
       "      <td>Donaldson</td>\n",
       "      <td>210</td>\n",
       "      <td>73</td>\n",
       "      <td>R</td>\n",
       "      <td>AL</td>\n",
       "      <td>155.0</td>\n",
       "      <td>...</td>\n",
       "      <td>90.0</td>\n",
       "      <td>0.549393</td>\n",
       "      <td>0.953405</td>\n",
       "      <td>0.426343</td>\n",
       "      <td>0.787234</td>\n",
       "      <td>0.991870</td>\n",
       "      <td>0.744361</td>\n",
       "      <td>0.112903</td>\n",
       "      <td>1.0</td>\n",
       "      <td>3.062711</td>\n",
       "    </tr>\n",
       "    <tr>\n",
       "      <th>1412</th>\n",
       "      <td>villajo01</td>\n",
       "      <td>2016</td>\n",
       "      <td>MIL</td>\n",
       "      <td>Jonathan</td>\n",
       "      <td>Villar</td>\n",
       "      <td>215</td>\n",
       "      <td>73</td>\n",
       "      <td>B</td>\n",
       "      <td>NL</td>\n",
       "      <td>156.0</td>\n",
       "      <td>...</td>\n",
       "      <td>108.0</td>\n",
       "      <td>0.456706</td>\n",
       "      <td>0.826142</td>\n",
       "      <td>0.427844</td>\n",
       "      <td>0.404255</td>\n",
       "      <td>0.747967</td>\n",
       "      <td>0.473684</td>\n",
       "      <td>1.000000</td>\n",
       "      <td>1.0</td>\n",
       "      <td>3.053751</td>\n",
       "    </tr>\n",
       "    <tr>\n",
       "      <th>522</th>\n",
       "      <td>goldspa01</td>\n",
       "      <td>2016</td>\n",
       "      <td>ARI</td>\n",
       "      <td>Paul</td>\n",
       "      <td>Goldschmidt</td>\n",
       "      <td>225</td>\n",
       "      <td>75</td>\n",
       "      <td>R</td>\n",
       "      <td>NL</td>\n",
       "      <td>158.0</td>\n",
       "      <td>...</td>\n",
       "      <td>112.0</td>\n",
       "      <td>0.488774</td>\n",
       "      <td>0.899285</td>\n",
       "      <td>0.445596</td>\n",
       "      <td>0.510638</td>\n",
       "      <td>0.861789</td>\n",
       "      <td>0.714286</td>\n",
       "      <td>0.516129</td>\n",
       "      <td>1.0</td>\n",
       "      <td>3.048438</td>\n",
       "    </tr>\n",
       "  </tbody>\n",
       "</table>\n",
       "<p>10 rows × 53 columns</p>\n",
       "</div>"
      ],
      "text/plain": [
       "       playerID  yearID LastOfteamID nameFirst     nameLast  weight  height  \\\n",
       "113   bettsmo01    2016          BOS    Mookie        Betts     180      69   \n",
       "1377  troutmi01    2016          LAA      Mike        Trout     235      74   \n",
       "59    arenano01    2016          COL     Nolan      Arenado     205      74   \n",
       "368   doziebr01    2016          MIN     Brian       Dozier     200      71   \n",
       "174   bryankr01    2016          CHN      Kris       Bryant     230      77   \n",
       "37    altuvjo01    2016          HOU      Jose       Altuve     165      66   \n",
       "412   encared01    2016          TOR     Edwin  Encarnacion     230      73   \n",
       "363   donaljo02    2016          TOR      Josh    Donaldson     210      73   \n",
       "1412  villajo01    2016          MIL  Jonathan       Villar     215      73   \n",
       "522   goldspa01    2016          ARI      Paul  Goldschmidt     225      75   \n",
       "\n",
       "     bats lgID      G    ...        1B       SLG       OPS  BA_Scaled  \\\n",
       "113     R   AL  158.0    ...     136.0  0.534226  0.897240   0.477679   \n",
       "1377    R   AL  159.0    ...     107.0  0.550091  0.990620   0.472678   \n",
       "59      R   NL  160.0    ...     100.0  0.569579  0.931648   0.441748   \n",
       "368     R   AL  155.0    ...      83.0  0.546341  0.885964   0.402439   \n",
       "174     R   NL  155.0    ...      99.0  0.553897  0.938733   0.437811   \n",
       "37      R   AL  161.0    ...     145.0  0.531250  0.927609   0.506250   \n",
       "412     R   AL  160.0    ...      82.0  0.529118  0.885752   0.394343   \n",
       "363     R   AL  155.0    ...      90.0  0.549393  0.953405   0.426343   \n",
       "1412    B   NL  156.0    ...     108.0  0.456706  0.826142   0.427844   \n",
       "522     R   NL  158.0    ...     112.0  0.488774  0.899285   0.445596   \n",
       "\n",
       "      HR_Scaled  R_Scaled  RBI_Scaled  SB_Scaled  Penalty  AdjStars  \n",
       "113    0.659574  0.991870    0.849624   0.419355      1.0  3.398102  \n",
       "1377   0.617021  1.000000    0.751880   0.483871      1.0  3.325450  \n",
       "59     0.872340  0.943089    1.000000   0.032258      1.0  3.289435  \n",
       "368    0.893617  0.845528    0.744361   0.290323      1.0  3.176268  \n",
       "174    0.829787  0.983740    0.766917   0.129032      1.0  3.147288  \n",
       "37     0.510638  0.878049    0.721805   0.483871      1.0  3.100613  \n",
       "412    0.893617  0.804878    0.954887   0.032258      1.0  3.079983  \n",
       "363    0.787234  0.991870    0.744361   0.112903      1.0  3.062711  \n",
       "1412   0.404255  0.747967    0.473684   1.000000      1.0  3.053751  \n",
       "522    0.510638  0.861789    0.714286   0.516129      1.0  3.048438  \n",
       "\n",
       "[10 rows x 53 columns]"
      ]
     },
     "execution_count": 33,
     "metadata": {},
     "output_type": "execute_result"
    }
   ],
   "source": [
    "hitters2016.head(10)"
   ]
  },
  {
   "cell_type": "markdown",
   "metadata": {
    "deletable": true,
    "editable": true
   },
   "source": [
    "## Write out the results of this exercise"
   ]
  },
  {
   "cell_type": "code",
   "execution_count": 36,
   "metadata": {
    "collapsed": true,
    "deletable": true,
    "editable": true
   },
   "outputs": [],
   "source": [
    "# Top 50 overall\n",
    "hitters2016[0:49].to_csv(\"./output/top50.csv\", header=True)"
   ]
  },
  {
   "cell_type": "code",
   "execution_count": 37,
   "metadata": {
    "collapsed": false,
    "deletable": true,
    "editable": true
   },
   "outputs": [],
   "source": [
    "# Top 25 at each (primary) position\n",
    "for pos in gamescols[1:]:\n",
    "    pos = pos[2:]\n",
    "    filename = \"./output/top25\" + pos + \".csv\"\n",
    "    hitters2016[hitters2016['prim_pos'] == pos].to_csv(filename, header=True)"
   ]
  },
  {
   "cell_type": "markdown",
   "metadata": {
    "deletable": true,
    "editable": true
   },
   "source": [
    "## Outstanding issues\n",
    "\n",
    "* Include 'years of service' as a predictor?\n",
    "* What do we do with DH? (Maybe consider them at alternate positions for which they are eligible)"
   ]
  },
  {
   "cell_type": "markdown",
   "metadata": {},
   "source": [
    "# Pitchers\n",
    "This one is a bit harder. We may have nine pitchers active at any one time. The five statistics for pitchers will be:\n",
    "\n",
    "* ERA\n",
    "* SO\n",
    "* Saves\n",
    "* Wins\n",
    "* WHIP = (walks + hits) / innings pitched\n",
    "\n",
    "It's difficult to get a single score because wins and strikeouts will be low for relievers, because they face fewer batters and by definition do not as often find themselves in positions to qualify for a win under league conventions. Similarly, saves will be low (should be zero, except for exceptional circumstances) for starters. I therefore calculate two additional statistics from the Lahman data:\n",
    "\n",
    "* Batters faced per game - should be high for starters and low (<= 9) for relievers\n",
    "* Games started / games appeared in, which should again be 1 for most starters and low for most relievers.\n",
    "\n",
    "These will be checks against my two indices for pitchers, the *starter index* and the *reliever index*. Each statistic within these indices will be indexed to 1, in the same way that the five hitter statistics were. The two indices will be composed as follows:\n",
    "\n",
    "* Starter index: ERA + SO + Wins + WHIP\n",
    "* Reliever index: ERA + WHIP + Saves\n",
    "\n",
    "I'll build separate top lists for each one."
   ]
  },
  {
   "cell_type": "markdown",
   "metadata": {},
   "source": [
    "## Wouldn't it be nice...\n",
    "... if we could just take the combinations of 9 pitchers that maximized team rank in these areas. However, there are ${814 \\choose 9} = 4.13 \\times 10^{20}$ such combinations, which would take freaking forever to search through. This will have to be good enough."
   ]
  },
  {
   "cell_type": "code",
   "execution_count": null,
   "metadata": {
    "collapsed": true
   },
   "outputs": [],
   "source": []
  }
 ],
 "metadata": {
  "kernelspec": {
   "display_name": "Python [conda root]",
   "language": "python",
   "name": "conda-root-py"
  },
  "language_info": {
   "codemirror_mode": {
    "name": "ipython",
    "version": 3
   },
   "file_extension": ".py",
   "mimetype": "text/x-python",
   "name": "python",
   "nbconvert_exporter": "python",
   "pygments_lexer": "ipython3",
   "version": "3.5.2"
  }
 },
 "nbformat": 4,
 "nbformat_minor": 2
}
