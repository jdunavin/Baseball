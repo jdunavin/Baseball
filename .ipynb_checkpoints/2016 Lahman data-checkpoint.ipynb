{
 "cells": [
  {
   "cell_type": "markdown",
   "metadata": {},
   "source": [
    "# Fantasy baseball draft - Lahman data"
   ]
  },
  {
   "cell_type": "markdown",
   "metadata": {},
   "source": [
    "The purpose of this document is to prepare data for my fantasy baseball draft with Will. I will develop a scoring algorithm whose result should be correlated with the league's winning conditions , and then attempt to run machine learning on it to find other markers that might help us maximize the score.\n",
    "\n",
    "Two separate models will be needed; one for hitters and another for pitchers, as each are judged by different criteria (naturally).\n",
    "\n",
    "The data is from the latest version of the Lahman database."
   ]
  },
  {
   "cell_type": "markdown",
   "metadata": {},
   "source": [
    "## Import needed libraries"
   ]
  },
  {
   "cell_type": "code",
   "execution_count": 1,
   "metadata": {
    "collapsed": true
   },
   "outputs": [],
   "source": [
    "import pandas as pd\n",
    "import numpy as np"
   ]
  },
  {
   "cell_type": "markdown",
   "metadata": {},
   "source": [
    "## Import the hitters data"
   ]
  },
  {
   "cell_type": "code",
   "execution_count": 2,
   "metadata": {
    "collapsed": true
   },
   "outputs": [],
   "source": [
    "hitters = pd.read_csv(\"D:/Jason/Data/Baseball/League files/hitterdata.csv\", header=0)"
   ]
  },
  {
   "cell_type": "code",
   "execution_count": 3,
   "metadata": {
    "collapsed": false
   },
   "outputs": [
    {
     "data": {
      "text/html": [
       "<div>\n",
       "<table border=\"1\" class=\"dataframe\">\n",
       "  <thead>\n",
       "    <tr style=\"text-align: right;\">\n",
       "      <th></th>\n",
       "      <th>playerID</th>\n",
       "      <th>yearID</th>\n",
       "      <th>LastOfstint</th>\n",
       "      <th>LastOfteamID</th>\n",
       "      <th>retroID</th>\n",
       "      <th>nameFirst</th>\n",
       "      <th>nameLast</th>\n",
       "      <th>weight</th>\n",
       "      <th>height</th>\n",
       "      <th>bats</th>\n",
       "      <th>...</th>\n",
       "      <th>G_c</th>\n",
       "      <th>G_1b</th>\n",
       "      <th>G_2b</th>\n",
       "      <th>G_3b</th>\n",
       "      <th>G_ss</th>\n",
       "      <th>G_lf</th>\n",
       "      <th>G_cf</th>\n",
       "      <th>G_rf</th>\n",
       "      <th>G_of</th>\n",
       "      <th>G_dh</th>\n",
       "    </tr>\n",
       "  </thead>\n",
       "  <tbody>\n",
       "    <tr>\n",
       "      <th>0</th>\n",
       "      <td>abreujo02</td>\n",
       "      <td>2014</td>\n",
       "      <td>1</td>\n",
       "      <td>CHA</td>\n",
       "      <td>abrej003</td>\n",
       "      <td>Jose</td>\n",
       "      <td>Abreu</td>\n",
       "      <td>255</td>\n",
       "      <td>75</td>\n",
       "      <td>R</td>\n",
       "      <td>...</td>\n",
       "      <td>0.0</td>\n",
       "      <td>152.0</td>\n",
       "      <td>0.0</td>\n",
       "      <td>0.0</td>\n",
       "      <td>0.0</td>\n",
       "      <td>0.0</td>\n",
       "      <td>0.0</td>\n",
       "      <td>0.0</td>\n",
       "      <td>0.0</td>\n",
       "      <td>7.0</td>\n",
       "    </tr>\n",
       "    <tr>\n",
       "      <th>1</th>\n",
       "      <td>abreujo02</td>\n",
       "      <td>2015</td>\n",
       "      <td>1</td>\n",
       "      <td>CHA</td>\n",
       "      <td>abrej003</td>\n",
       "      <td>Jose</td>\n",
       "      <td>Abreu</td>\n",
       "      <td>255</td>\n",
       "      <td>75</td>\n",
       "      <td>R</td>\n",
       "      <td>...</td>\n",
       "      <td>0.0</td>\n",
       "      <td>152.0</td>\n",
       "      <td>0.0</td>\n",
       "      <td>0.0</td>\n",
       "      <td>0.0</td>\n",
       "      <td>0.0</td>\n",
       "      <td>0.0</td>\n",
       "      <td>0.0</td>\n",
       "      <td>0.0</td>\n",
       "      <td>7.0</td>\n",
       "    </tr>\n",
       "    <tr>\n",
       "      <th>2</th>\n",
       "      <td>abreujo02</td>\n",
       "      <td>2016</td>\n",
       "      <td>1</td>\n",
       "      <td>CHA</td>\n",
       "      <td>abrej003</td>\n",
       "      <td>Jose</td>\n",
       "      <td>Abreu</td>\n",
       "      <td>255</td>\n",
       "      <td>75</td>\n",
       "      <td>R</td>\n",
       "      <td>...</td>\n",
       "      <td>0.0</td>\n",
       "      <td>152.0</td>\n",
       "      <td>0.0</td>\n",
       "      <td>0.0</td>\n",
       "      <td>0.0</td>\n",
       "      <td>0.0</td>\n",
       "      <td>0.0</td>\n",
       "      <td>0.0</td>\n",
       "      <td>0.0</td>\n",
       "      <td>7.0</td>\n",
       "    </tr>\n",
       "    <tr>\n",
       "      <th>3</th>\n",
       "      <td>ackledu01</td>\n",
       "      <td>2011</td>\n",
       "      <td>1</td>\n",
       "      <td>SEA</td>\n",
       "      <td>ackld001</td>\n",
       "      <td>Dustin</td>\n",
       "      <td>Ackley</td>\n",
       "      <td>205</td>\n",
       "      <td>73</td>\n",
       "      <td>L</td>\n",
       "      <td>...</td>\n",
       "      <td>0.0</td>\n",
       "      <td>13.0</td>\n",
       "      <td>1.0</td>\n",
       "      <td>0.0</td>\n",
       "      <td>0.0</td>\n",
       "      <td>0.0</td>\n",
       "      <td>0.0</td>\n",
       "      <td>9.0</td>\n",
       "      <td>9.0</td>\n",
       "      <td>3.0</td>\n",
       "    </tr>\n",
       "    <tr>\n",
       "      <th>4</th>\n",
       "      <td>ackledu01</td>\n",
       "      <td>2012</td>\n",
       "      <td>1</td>\n",
       "      <td>SEA</td>\n",
       "      <td>ackld001</td>\n",
       "      <td>Dustin</td>\n",
       "      <td>Ackley</td>\n",
       "      <td>205</td>\n",
       "      <td>73</td>\n",
       "      <td>L</td>\n",
       "      <td>...</td>\n",
       "      <td>0.0</td>\n",
       "      <td>13.0</td>\n",
       "      <td>1.0</td>\n",
       "      <td>0.0</td>\n",
       "      <td>0.0</td>\n",
       "      <td>0.0</td>\n",
       "      <td>0.0</td>\n",
       "      <td>9.0</td>\n",
       "      <td>9.0</td>\n",
       "      <td>3.0</td>\n",
       "    </tr>\n",
       "  </tbody>\n",
       "</table>\n",
       "<p>5 rows × 39 columns</p>\n",
       "</div>"
      ],
      "text/plain": [
       "    playerID  yearID  LastOfstint LastOfteamID   retroID nameFirst nameLast  \\\n",
       "0  abreujo02    2014            1          CHA  abrej003      Jose    Abreu   \n",
       "1  abreujo02    2015            1          CHA  abrej003      Jose    Abreu   \n",
       "2  abreujo02    2016            1          CHA  abrej003      Jose    Abreu   \n",
       "3  ackledu01    2011            1          SEA  ackld001    Dustin   Ackley   \n",
       "4  ackledu01    2012            1          SEA  ackld001    Dustin   Ackley   \n",
       "\n",
       "   weight  height bats  ...   G_c   G_1b  G_2b  G_3b  G_ss  G_lf  G_cf  G_rf  \\\n",
       "0     255      75    R  ...   0.0  152.0   0.0   0.0   0.0   0.0   0.0   0.0   \n",
       "1     255      75    R  ...   0.0  152.0   0.0   0.0   0.0   0.0   0.0   0.0   \n",
       "2     255      75    R  ...   0.0  152.0   0.0   0.0   0.0   0.0   0.0   0.0   \n",
       "3     205      73    L  ...   0.0   13.0   1.0   0.0   0.0   0.0   0.0   9.0   \n",
       "4     205      73    L  ...   0.0   13.0   1.0   0.0   0.0   0.0   0.0   9.0   \n",
       "\n",
       "   G_of  G_dh  \n",
       "0   0.0   7.0  \n",
       "1   0.0   7.0  \n",
       "2   0.0   7.0  \n",
       "3   9.0   3.0  \n",
       "4   9.0   3.0  \n",
       "\n",
       "[5 rows x 39 columns]"
      ]
     },
     "execution_count": 3,
     "metadata": {},
     "output_type": "execute_result"
    }
   ],
   "source": [
    "hitters.head()"
   ]
  },
  {
   "cell_type": "markdown",
   "metadata": {},
   "source": [
    "## Eligibility criteria"
   ]
  },
  {
   "cell_type": "markdown",
   "metadata": {},
   "source": [
    "Under league rules, players are eligible to be selected \"at their primary position, plus positions they've played 10 games last year or 1 game this year.\" For the draft, we need to figure out what these are. Since I have no source for \"primary position\", I will assume the position at which a player has played the most games is his primary position. We need to construct a function to identify these."
   ]
  },
  {
   "cell_type": "code",
   "execution_count": 4,
   "metadata": {
    "collapsed": false
   },
   "outputs": [
    {
     "data": {
      "text/plain": [
       "Index(['playerID', 'yearID', 'LastOfstint', 'LastOfteamID', 'retroID',\n",
       "       'nameFirst', 'nameLast', 'weight', 'height', 'bats', 'lgID', 'G', 'H',\n",
       "       'AB', 'HR', 'RBI', 'SB', 'R', '2B', '3B', 'CS', 'BB', 'SO', 'IBB',\n",
       "       'HBP', 'SH', 'SF', 'GIDP', 'G_p', 'G_c', 'G_1b', 'G_2b', 'G_3b', 'G_ss',\n",
       "       'G_lf', 'G_cf', 'G_rf', 'G_of', 'G_dh'],\n",
       "      dtype='object')"
      ]
     },
     "execution_count": 4,
     "metadata": {},
     "output_type": "execute_result"
    }
   ],
   "source": [
    "hitters.columns"
   ]
  },
  {
   "cell_type": "code",
   "execution_count": 5,
   "metadata": {
    "collapsed": true
   },
   "outputs": [],
   "source": [
    "gamescols = ['G_p', 'G_c', 'G_1b', 'G_2b', 'G_3b', 'G_ss', 'G_lf', 'G_cf', 'G_rf', 'G_of', 'G_dh']"
   ]
  },
  {
   "cell_type": "code",
   "execution_count": 8,
   "metadata": {
    "collapsed": false
   },
   "outputs": [
    {
     "data": {
      "text/plain": [
       "0       152.0\n",
       "1       152.0\n",
       "2       152.0\n",
       "3        13.0\n",
       "4        13.0\n",
       "5        13.0\n",
       "6        13.0\n",
       "7        26.0\n",
       "8        13.0\n",
       "9        47.0\n",
       "10       47.0\n",
       "11       47.0\n",
       "12       86.0\n",
       "13       86.0\n",
       "14       86.0\n",
       "15       86.0\n",
       "16       86.0\n",
       "17       13.0\n",
       "18       13.0\n",
       "19       13.0\n",
       "20       13.0\n",
       "21        7.0\n",
       "22        7.0\n",
       "23        7.0\n",
       "24       88.0\n",
       "25       88.0\n",
       "26       88.0\n",
       "27       11.0\n",
       "28       11.0\n",
       "29        5.0\n",
       "        ...  \n",
       "2447      2.0\n",
       "2448     69.0\n",
       "2449     69.0\n",
       "2450     69.0\n",
       "2451     69.0\n",
       "2452     69.0\n",
       "2453     69.0\n",
       "2454     69.0\n",
       "2455      4.0\n",
       "2456      4.0\n",
       "2457      8.0\n",
       "2458      4.0\n",
       "2459      8.0\n",
       "2460      4.0\n",
       "2461    114.0\n",
       "2462    114.0\n",
       "2463    114.0\n",
       "2464    114.0\n",
       "2465    114.0\n",
       "2466    114.0\n",
       "2467    119.0\n",
       "2468    119.0\n",
       "2469    119.0\n",
       "2470    119.0\n",
       "2471    238.0\n",
       "2472    119.0\n",
       "2473     52.0\n",
       "2474     52.0\n",
       "2475     52.0\n",
       "2476     52.0\n",
       "dtype: float64"
      ]
     },
     "execution_count": 8,
     "metadata": {},
     "output_type": "execute_result"
    }
   ],
   "source": [
    "hitters[gamescols].max(axis = 1)"
   ]
  },
  {
   "cell_type": "code",
   "execution_count": 13,
   "metadata": {
    "collapsed": false
   },
   "outputs": [],
   "source": [
    "prim_pos_index = np.argmax(hitters[gamescols].as_matrix(), axis=1)"
   ]
  },
  {
   "cell_type": "code",
   "execution_count": 27,
   "metadata": {
    "collapsed": false
   },
   "outputs": [],
   "source": [
    "# for 1 to number of hitters:\n",
    "#    get position of max games played out of all positions played\n",
    "#   use position to identify position\n",
    "#   store position in 'prim_pos' column\n",
    "prim_pos = []\n",
    "for i in range(len(hitters)):\n",
    "    prim_pos.append(gamescols[prim_pos_index[i]][2:])"
   ]
  },
  {
   "cell_type": "code",
   "execution_count": null,
   "metadata": {
    "collapsed": true
   },
   "outputs": [],
   "source": [
    "# Now I need to find other eligible positions. \n",
    "# 1. For each player, find the gamescols where their games played is >=10.\n",
    "# 2. Combine these into a string rep and store in 'elig_positions'\n"
   ]
  }
 ],
 "metadata": {
  "kernelspec": {
   "display_name": "Python [conda root]",
   "language": "python",
   "name": "conda-root-py"
  },
  "language_info": {
   "codemirror_mode": {
    "name": "ipython",
    "version": 3
   },
   "file_extension": ".py",
   "mimetype": "text/x-python",
   "name": "python",
   "nbconvert_exporter": "python",
   "pygments_lexer": "ipython3",
   "version": "3.5.2"
  }
 },
 "nbformat": 4,
 "nbformat_minor": 2
}
