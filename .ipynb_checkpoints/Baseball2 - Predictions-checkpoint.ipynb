{
 "cells": [
  {
   "cell_type": "markdown",
   "metadata": {
    "deletable": true,
    "editable": true
   },
   "source": [
    "# Fantasy baseball - data mining\n",
    "The purpose of this database is to see what characteristics are associated with high fantasy ratings, by my hitters' metric that I did for Will."
   ]
  },
  {
   "cell_type": "markdown",
   "metadata": {
    "deletable": true,
    "editable": true
   },
   "source": [
    "# 1 Needed libraries"
   ]
  },
  {
   "cell_type": "code",
   "execution_count": 1,
   "metadata": {
    "collapsed": false,
    "deletable": true,
    "editable": true,
    "scrolled": true
   },
   "outputs": [],
   "source": [
    "import pandas as pd\n",
    "import numpy as np\n",
    "from datetime import datetime\n",
    "import seaborn as sns\n",
    "from matplotlib import pyplot\n",
    "from scipy.stats import norm"
   ]
  },
  {
   "cell_type": "markdown",
   "metadata": {
    "deletable": true,
    "editable": true
   },
   "source": [
    "# 2 Read in data"
   ]
  },
  {
   "cell_type": "code",
   "execution_count": 2,
   "metadata": {
    "collapsed": true,
    "deletable": true,
    "editable": true
   },
   "outputs": [],
   "source": [
    "hitters = pd.read_csv(\"hitterdata2.csv\")"
   ]
  },
  {
   "cell_type": "code",
   "execution_count": 3,
   "metadata": {
    "collapsed": false,
    "deletable": true,
    "editable": true,
    "scrolled": true
   },
   "outputs": [
    {
     "data": {
      "text/html": [
       "<div>\n",
       "<table border=\"1\" class=\"dataframe\">\n",
       "  <thead>\n",
       "    <tr style=\"text-align: right;\">\n",
       "      <th></th>\n",
       "      <th>birthYear</th>\n",
       "      <th>birthMonth</th>\n",
       "      <th>birthDay</th>\n",
       "      <th>nameFirst</th>\n",
       "      <th>nameLast</th>\n",
       "      <th>weight</th>\n",
       "      <th>height</th>\n",
       "      <th>bats</th>\n",
       "      <th>throws</th>\n",
       "      <th>debut</th>\n",
       "      <th>...</th>\n",
       "      <th>G_2b</th>\n",
       "      <th>G_3b</th>\n",
       "      <th>G_ss</th>\n",
       "      <th>G_lf</th>\n",
       "      <th>G_cf</th>\n",
       "      <th>G_rf</th>\n",
       "      <th>G_of</th>\n",
       "      <th>G_dh</th>\n",
       "      <th>G_ph</th>\n",
       "      <th>G_pr</th>\n",
       "    </tr>\n",
       "  </thead>\n",
       "  <tbody>\n",
       "    <tr>\n",
       "      <th>0</th>\n",
       "      <td>1954</td>\n",
       "      <td>9</td>\n",
       "      <td>8</td>\n",
       "      <td>Don</td>\n",
       "      <td>Aase</td>\n",
       "      <td>190</td>\n",
       "      <td>75</td>\n",
       "      <td>R</td>\n",
       "      <td>R</td>\n",
       "      <td>1977-07-26</td>\n",
       "      <td>...</td>\n",
       "      <td>0</td>\n",
       "      <td>0</td>\n",
       "      <td>0</td>\n",
       "      <td>0</td>\n",
       "      <td>0</td>\n",
       "      <td>0</td>\n",
       "      <td>0</td>\n",
       "      <td>0</td>\n",
       "      <td>0</td>\n",
       "      <td>0</td>\n",
       "    </tr>\n",
       "    <tr>\n",
       "      <th>1</th>\n",
       "      <td>1962</td>\n",
       "      <td>7</td>\n",
       "      <td>4</td>\n",
       "      <td>Johnny</td>\n",
       "      <td>Abrego</td>\n",
       "      <td>185</td>\n",
       "      <td>72</td>\n",
       "      <td>R</td>\n",
       "      <td>R</td>\n",
       "      <td>1985-09-04</td>\n",
       "      <td>...</td>\n",
       "      <td>0</td>\n",
       "      <td>0</td>\n",
       "      <td>0</td>\n",
       "      <td>0</td>\n",
       "      <td>0</td>\n",
       "      <td>0</td>\n",
       "      <td>0</td>\n",
       "      <td>0</td>\n",
       "      <td>0</td>\n",
       "      <td>0</td>\n",
       "    </tr>\n",
       "    <tr>\n",
       "      <th>2</th>\n",
       "      <td>1958</td>\n",
       "      <td>9</td>\n",
       "      <td>24</td>\n",
       "      <td>Jim</td>\n",
       "      <td>Acker</td>\n",
       "      <td>210</td>\n",
       "      <td>74</td>\n",
       "      <td>R</td>\n",
       "      <td>R</td>\n",
       "      <td>1983-04-07</td>\n",
       "      <td>...</td>\n",
       "      <td>0</td>\n",
       "      <td>0</td>\n",
       "      <td>0</td>\n",
       "      <td>0</td>\n",
       "      <td>0</td>\n",
       "      <td>0</td>\n",
       "      <td>0</td>\n",
       "      <td>0</td>\n",
       "      <td>0</td>\n",
       "      <td>0</td>\n",
       "    </tr>\n",
       "    <tr>\n",
       "      <th>3</th>\n",
       "      <td>1959</td>\n",
       "      <td>1</td>\n",
       "      <td>21</td>\n",
       "      <td>Ricky</td>\n",
       "      <td>Adams</td>\n",
       "      <td>180</td>\n",
       "      <td>74</td>\n",
       "      <td>R</td>\n",
       "      <td>R</td>\n",
       "      <td>1982-09-15</td>\n",
       "      <td>...</td>\n",
       "      <td>5</td>\n",
       "      <td>17</td>\n",
       "      <td>25</td>\n",
       "      <td>0</td>\n",
       "      <td>0</td>\n",
       "      <td>0</td>\n",
       "      <td>0</td>\n",
       "      <td>0</td>\n",
       "      <td>5</td>\n",
       "      <td>8</td>\n",
       "    </tr>\n",
       "    <tr>\n",
       "      <th>4</th>\n",
       "      <td>1958</td>\n",
       "      <td>2</td>\n",
       "      <td>23</td>\n",
       "      <td>Juan</td>\n",
       "      <td>Agosto</td>\n",
       "      <td>190</td>\n",
       "      <td>74</td>\n",
       "      <td>L</td>\n",
       "      <td>L</td>\n",
       "      <td>1981-09-07</td>\n",
       "      <td>...</td>\n",
       "      <td>0</td>\n",
       "      <td>0</td>\n",
       "      <td>0</td>\n",
       "      <td>0</td>\n",
       "      <td>0</td>\n",
       "      <td>0</td>\n",
       "      <td>0</td>\n",
       "      <td>0</td>\n",
       "      <td>0</td>\n",
       "      <td>0</td>\n",
       "    </tr>\n",
       "  </tbody>\n",
       "</table>\n",
       "<p>5 rows × 47 columns</p>\n",
       "</div>"
      ],
      "text/plain": [
       "   birthYear  birthMonth  birthDay nameFirst nameLast  weight  height bats  \\\n",
       "0       1954           9         8       Don     Aase     190      75    R   \n",
       "1       1962           7         4    Johnny   Abrego     185      72    R   \n",
       "2       1958           9        24       Jim    Acker     210      74    R   \n",
       "3       1959           1        21     Ricky    Adams     180      74    R   \n",
       "4       1958           2        23      Juan   Agosto     190      74    L   \n",
       "\n",
       "  throws       debut  ...  G_2b  G_3b G_ss  G_lf  G_cf  G_rf  G_of  G_dh  \\\n",
       "0      R  1977-07-26  ...     0     0    0     0     0     0     0     0   \n",
       "1      R  1985-09-04  ...     0     0    0     0     0     0     0     0   \n",
       "2      R  1983-04-07  ...     0     0    0     0     0     0     0     0   \n",
       "3      R  1982-09-15  ...     5    17   25     0     0     0     0     0   \n",
       "4      L  1981-09-07  ...     0     0    0     0     0     0     0     0   \n",
       "\n",
       "   G_ph  G_pr  \n",
       "0     0     0  \n",
       "1     0     0  \n",
       "2     0     0  \n",
       "3     5     8  \n",
       "4     0     0  \n",
       "\n",
       "[5 rows x 47 columns]"
      ]
     },
     "execution_count": 3,
     "metadata": {},
     "output_type": "execute_result"
    }
   ],
   "source": [
    "hitters.head()"
   ]
  },
  {
   "cell_type": "code",
   "execution_count": 4,
   "metadata": {
    "collapsed": false,
    "deletable": true,
    "editable": true,
    "scrolled": true
   },
   "outputs": [
    {
     "data": {
      "text/plain": [
       "Index(['birthYear', 'birthMonth', 'birthDay', 'nameFirst', 'nameLast',\n",
       "       'weight', 'height', 'bats', 'throws', 'debut', 'playerID', 'yearID',\n",
       "       'teamID', 'G', 'AB', 'R', 'H', '2B', '3B', 'HR', 'RBI', 'SB', 'CS',\n",
       "       'BB', 'SO', 'IBB', 'HBP', 'SH', 'SF', 'GIDP', 'G_all', 'GS',\n",
       "       'G_batting', 'G_defense', 'G_p', 'G_c', 'G_1b', 'G_2b', 'G_3b', 'G_ss',\n",
       "       'G_lf', 'G_cf', 'G_rf', 'G_of', 'G_dh', 'G_ph', 'G_pr'],\n",
       "      dtype='object')"
      ]
     },
     "execution_count": 4,
     "metadata": {},
     "output_type": "execute_result"
    }
   ],
   "source": [
    "hitters.columns"
   ]
  },
  {
   "cell_type": "code",
   "execution_count": 5,
   "metadata": {
    "collapsed": false,
    "deletable": true,
    "editable": true,
    "scrolled": true
   },
   "outputs": [
    {
     "data": {
      "text/html": [
       "<div>\n",
       "<table border=\"1\" class=\"dataframe\">\n",
       "  <thead>\n",
       "    <tr style=\"text-align: right;\">\n",
       "      <th></th>\n",
       "      <th>birthYear</th>\n",
       "      <th>birthMonth</th>\n",
       "      <th>birthDay</th>\n",
       "      <th>weight</th>\n",
       "      <th>height</th>\n",
       "      <th>yearID</th>\n",
       "      <th>G</th>\n",
       "      <th>AB</th>\n",
       "      <th>R</th>\n",
       "      <th>H</th>\n",
       "      <th>...</th>\n",
       "      <th>G_2b</th>\n",
       "      <th>G_3b</th>\n",
       "      <th>G_ss</th>\n",
       "      <th>G_lf</th>\n",
       "      <th>G_cf</th>\n",
       "      <th>G_rf</th>\n",
       "      <th>G_of</th>\n",
       "      <th>G_dh</th>\n",
       "      <th>G_ph</th>\n",
       "      <th>G_pr</th>\n",
       "    </tr>\n",
       "  </thead>\n",
       "  <tbody>\n",
       "    <tr>\n",
       "      <th>count</th>\n",
       "      <td>37402.000000</td>\n",
       "      <td>37402.000000</td>\n",
       "      <td>37402.000000</td>\n",
       "      <td>37402.000000</td>\n",
       "      <td>37402.000000</td>\n",
       "      <td>37402.000000</td>\n",
       "      <td>37402.000000</td>\n",
       "      <td>37402.000000</td>\n",
       "      <td>37402.000000</td>\n",
       "      <td>37402.000000</td>\n",
       "      <td>...</td>\n",
       "      <td>37402.000000</td>\n",
       "      <td>37402.000000</td>\n",
       "      <td>37402.000000</td>\n",
       "      <td>37402.000000</td>\n",
       "      <td>37402.000000</td>\n",
       "      <td>37402.000000</td>\n",
       "      <td>37402.000000</td>\n",
       "      <td>37402.000000</td>\n",
       "      <td>37402.000000</td>\n",
       "      <td>37402.000000</td>\n",
       "    </tr>\n",
       "    <tr>\n",
       "      <th>mean</th>\n",
       "      <td>1972.796615</td>\n",
       "      <td>6.674536</td>\n",
       "      <td>15.904417</td>\n",
       "      <td>199.627854</td>\n",
       "      <td>73.510106</td>\n",
       "      <td>2001.466793</td>\n",
       "      <td>55.228036</td>\n",
       "      <td>134.240923</td>\n",
       "      <td>17.916983</td>\n",
       "      <td>35.102107</td>\n",
       "      <td>...</td>\n",
       "      <td>4.480776</td>\n",
       "      <td>4.533046</td>\n",
       "      <td>4.405727</td>\n",
       "      <td>4.898615</td>\n",
       "      <td>4.490295</td>\n",
       "      <td>4.681969</td>\n",
       "      <td>13.614566</td>\n",
       "      <td>2.234025</td>\n",
       "      <td>4.699401</td>\n",
       "      <td>0.794423</td>\n",
       "    </tr>\n",
       "    <tr>\n",
       "      <th>std</th>\n",
       "      <td>9.972674</td>\n",
       "      <td>3.441114</td>\n",
       "      <td>8.733498</td>\n",
       "      <td>22.437980</td>\n",
       "      <td>2.281520</td>\n",
       "      <td>9.107584</td>\n",
       "      <td>47.459304</td>\n",
       "      <td>189.118473</td>\n",
       "      <td>28.186831</td>\n",
       "      <td>52.908314</td>\n",
       "      <td>...</td>\n",
       "      <td>20.267500</td>\n",
       "      <td>20.233400</td>\n",
       "      <td>21.052047</td>\n",
       "      <td>18.656955</td>\n",
       "      <td>20.265939</td>\n",
       "      <td>19.481784</td>\n",
       "      <td>34.917222</td>\n",
       "      <td>11.122938</td>\n",
       "      <td>9.831368</td>\n",
       "      <td>2.386474</td>\n",
       "    </tr>\n",
       "    <tr>\n",
       "      <th>min</th>\n",
       "      <td>1939.000000</td>\n",
       "      <td>1.000000</td>\n",
       "      <td>1.000000</td>\n",
       "      <td>140.000000</td>\n",
       "      <td>66.000000</td>\n",
       "      <td>1985.000000</td>\n",
       "      <td>1.000000</td>\n",
       "      <td>0.000000</td>\n",
       "      <td>0.000000</td>\n",
       "      <td>0.000000</td>\n",
       "      <td>...</td>\n",
       "      <td>0.000000</td>\n",
       "      <td>0.000000</td>\n",
       "      <td>0.000000</td>\n",
       "      <td>0.000000</td>\n",
       "      <td>0.000000</td>\n",
       "      <td>0.000000</td>\n",
       "      <td>0.000000</td>\n",
       "      <td>0.000000</td>\n",
       "      <td>0.000000</td>\n",
       "      <td>0.000000</td>\n",
       "    </tr>\n",
       "    <tr>\n",
       "      <th>25%</th>\n",
       "      <td>1965.000000</td>\n",
       "      <td>4.000000</td>\n",
       "      <td>8.000000</td>\n",
       "      <td>185.000000</td>\n",
       "      <td>72.000000</td>\n",
       "      <td>1994.000000</td>\n",
       "      <td>16.000000</td>\n",
       "      <td>0.000000</td>\n",
       "      <td>0.000000</td>\n",
       "      <td>0.000000</td>\n",
       "      <td>...</td>\n",
       "      <td>0.000000</td>\n",
       "      <td>0.000000</td>\n",
       "      <td>0.000000</td>\n",
       "      <td>0.000000</td>\n",
       "      <td>0.000000</td>\n",
       "      <td>0.000000</td>\n",
       "      <td>0.000000</td>\n",
       "      <td>0.000000</td>\n",
       "      <td>0.000000</td>\n",
       "      <td>0.000000</td>\n",
       "    </tr>\n",
       "    <tr>\n",
       "      <th>50%</th>\n",
       "      <td>1973.000000</td>\n",
       "      <td>7.000000</td>\n",
       "      <td>16.000000</td>\n",
       "      <td>200.000000</td>\n",
       "      <td>74.000000</td>\n",
       "      <td>2002.000000</td>\n",
       "      <td>37.000000</td>\n",
       "      <td>26.000000</td>\n",
       "      <td>2.000000</td>\n",
       "      <td>4.000000</td>\n",
       "      <td>...</td>\n",
       "      <td>0.000000</td>\n",
       "      <td>0.000000</td>\n",
       "      <td>0.000000</td>\n",
       "      <td>0.000000</td>\n",
       "      <td>0.000000</td>\n",
       "      <td>0.000000</td>\n",
       "      <td>0.000000</td>\n",
       "      <td>0.000000</td>\n",
       "      <td>0.000000</td>\n",
       "      <td>0.000000</td>\n",
       "    </tr>\n",
       "    <tr>\n",
       "      <th>75%</th>\n",
       "      <td>1981.000000</td>\n",
       "      <td>10.000000</td>\n",
       "      <td>23.000000</td>\n",
       "      <td>215.000000</td>\n",
       "      <td>75.000000</td>\n",
       "      <td>2009.000000</td>\n",
       "      <td>85.000000</td>\n",
       "      <td>224.000000</td>\n",
       "      <td>27.000000</td>\n",
       "      <td>55.000000</td>\n",
       "      <td>...</td>\n",
       "      <td>0.000000</td>\n",
       "      <td>0.000000</td>\n",
       "      <td>0.000000</td>\n",
       "      <td>0.000000</td>\n",
       "      <td>0.000000</td>\n",
       "      <td>0.000000</td>\n",
       "      <td>0.000000</td>\n",
       "      <td>0.000000</td>\n",
       "      <td>5.000000</td>\n",
       "      <td>0.000000</td>\n",
       "    </tr>\n",
       "    <tr>\n",
       "      <th>max</th>\n",
       "      <td>1996.000000</td>\n",
       "      <td>12.000000</td>\n",
       "      <td>31.000000</td>\n",
       "      <td>320.000000</td>\n",
       "      <td>83.000000</td>\n",
       "      <td>2016.000000</td>\n",
       "      <td>163.000000</td>\n",
       "      <td>716.000000</td>\n",
       "      <td>152.000000</td>\n",
       "      <td>262.000000</td>\n",
       "      <td>...</td>\n",
       "      <td>162.000000</td>\n",
       "      <td>162.000000</td>\n",
       "      <td>163.000000</td>\n",
       "      <td>162.000000</td>\n",
       "      <td>162.000000</td>\n",
       "      <td>162.000000</td>\n",
       "      <td>162.000000</td>\n",
       "      <td>153.000000</td>\n",
       "      <td>95.000000</td>\n",
       "      <td>44.000000</td>\n",
       "    </tr>\n",
       "  </tbody>\n",
       "</table>\n",
       "<p>8 rows × 40 columns</p>\n",
       "</div>"
      ],
      "text/plain": [
       "          birthYear    birthMonth      birthDay        weight        height  \\\n",
       "count  37402.000000  37402.000000  37402.000000  37402.000000  37402.000000   \n",
       "mean    1972.796615      6.674536     15.904417    199.627854     73.510106   \n",
       "std        9.972674      3.441114      8.733498     22.437980      2.281520   \n",
       "min     1939.000000      1.000000      1.000000    140.000000     66.000000   \n",
       "25%     1965.000000      4.000000      8.000000    185.000000     72.000000   \n",
       "50%     1973.000000      7.000000     16.000000    200.000000     74.000000   \n",
       "75%     1981.000000     10.000000     23.000000    215.000000     75.000000   \n",
       "max     1996.000000     12.000000     31.000000    320.000000     83.000000   \n",
       "\n",
       "             yearID             G            AB             R             H  \\\n",
       "count  37402.000000  37402.000000  37402.000000  37402.000000  37402.000000   \n",
       "mean    2001.466793     55.228036    134.240923     17.916983     35.102107   \n",
       "std        9.107584     47.459304    189.118473     28.186831     52.908314   \n",
       "min     1985.000000      1.000000      0.000000      0.000000      0.000000   \n",
       "25%     1994.000000     16.000000      0.000000      0.000000      0.000000   \n",
       "50%     2002.000000     37.000000     26.000000      2.000000      4.000000   \n",
       "75%     2009.000000     85.000000    224.000000     27.000000     55.000000   \n",
       "max     2016.000000    163.000000    716.000000    152.000000    262.000000   \n",
       "\n",
       "           ...               G_2b          G_3b          G_ss          G_lf  \\\n",
       "count      ...       37402.000000  37402.000000  37402.000000  37402.000000   \n",
       "mean       ...           4.480776      4.533046      4.405727      4.898615   \n",
       "std        ...          20.267500     20.233400     21.052047     18.656955   \n",
       "min        ...           0.000000      0.000000      0.000000      0.000000   \n",
       "25%        ...           0.000000      0.000000      0.000000      0.000000   \n",
       "50%        ...           0.000000      0.000000      0.000000      0.000000   \n",
       "75%        ...           0.000000      0.000000      0.000000      0.000000   \n",
       "max        ...         162.000000    162.000000    163.000000    162.000000   \n",
       "\n",
       "               G_cf          G_rf          G_of          G_dh          G_ph  \\\n",
       "count  37402.000000  37402.000000  37402.000000  37402.000000  37402.000000   \n",
       "mean       4.490295      4.681969     13.614566      2.234025      4.699401   \n",
       "std       20.265939     19.481784     34.917222     11.122938      9.831368   \n",
       "min        0.000000      0.000000      0.000000      0.000000      0.000000   \n",
       "25%        0.000000      0.000000      0.000000      0.000000      0.000000   \n",
       "50%        0.000000      0.000000      0.000000      0.000000      0.000000   \n",
       "75%        0.000000      0.000000      0.000000      0.000000      5.000000   \n",
       "max      162.000000    162.000000    162.000000    153.000000     95.000000   \n",
       "\n",
       "               G_pr  \n",
       "count  37402.000000  \n",
       "mean       0.794423  \n",
       "std        2.386474  \n",
       "min        0.000000  \n",
       "25%        0.000000  \n",
       "50%        0.000000  \n",
       "75%        0.000000  \n",
       "max       44.000000  \n",
       "\n",
       "[8 rows x 40 columns]"
      ]
     },
     "execution_count": 5,
     "metadata": {},
     "output_type": "execute_result"
    }
   ],
   "source": [
    "hitters.describe()"
   ]
  },
  {
   "cell_type": "code",
   "execution_count": 6,
   "metadata": {
    "collapsed": false,
    "deletable": true,
    "editable": true,
    "scrolled": false
   },
   "outputs": [
    {
     "data": {
      "text/plain": [
       "birthYear      int64\n",
       "birthMonth     int64\n",
       "birthDay       int64\n",
       "nameFirst     object\n",
       "nameLast      object\n",
       "weight         int64\n",
       "height         int64\n",
       "bats          object\n",
       "throws        object\n",
       "debut         object\n",
       "playerID      object\n",
       "yearID         int64\n",
       "teamID        object\n",
       "G              int64\n",
       "AB             int64\n",
       "R              int64\n",
       "H              int64\n",
       "2B             int64\n",
       "3B             int64\n",
       "HR             int64\n",
       "RBI            int64\n",
       "SB             int64\n",
       "CS             int64\n",
       "BB             int64\n",
       "SO             int64\n",
       "IBB            int64\n",
       "HBP            int64\n",
       "SH             int64\n",
       "SF             int64\n",
       "GIDP           int64\n",
       "G_all          int64\n",
       "GS             int64\n",
       "G_batting      int64\n",
       "G_defense      int64\n",
       "G_p            int64\n",
       "G_c            int64\n",
       "G_1b           int64\n",
       "G_2b           int64\n",
       "G_3b           int64\n",
       "G_ss           int64\n",
       "G_lf           int64\n",
       "G_cf           int64\n",
       "G_rf           int64\n",
       "G_of           int64\n",
       "G_dh           int64\n",
       "G_ph           int64\n",
       "G_pr           int64\n",
       "dtype: object"
      ]
     },
     "execution_count": 6,
     "metadata": {},
     "output_type": "execute_result"
    }
   ],
   "source": [
    "hitters.dtypes"
   ]
  },
  {
   "cell_type": "markdown",
   "metadata": {
    "deletable": true,
    "editable": true
   },
   "source": [
    "The key on this dataset is the player ID and year."
   ]
  },
  {
   "cell_type": "markdown",
   "metadata": {
    "deletable": true,
    "editable": true
   },
   "source": [
    "# 3 Cleanup"
   ]
  },
  {
   "cell_type": "markdown",
   "metadata": {
    "deletable": true,
    "editable": true
   },
   "source": [
    "The following tasks need doing:\n",
    "\n",
    "* Dump anyone with zero at bats\n",
    "* Figure out the primary positions of each player, and exclude those who are primarily pitchers\n",
    "* Replace the three birth date columns with a single date\n",
    "* Change the debut column into a date\n",
    "* Add a column representing the season start date (assumed to be April 10)"
   ]
  },
  {
   "cell_type": "code",
   "execution_count": 7,
   "metadata": {
    "collapsed": true,
    "deletable": true,
    "editable": true
   },
   "outputs": [],
   "source": [
    "hitters = hitters[hitters['AB'] != 0]"
   ]
  },
  {
   "cell_type": "code",
   "execution_count": 8,
   "metadata": {
    "collapsed": false,
    "deletable": true,
    "editable": true,
    "scrolled": true
   },
   "outputs": [],
   "source": [
    "# Get primary position\n",
    "gamescols = ['G_p', 'G_c', 'G_1b', 'G_2b', 'G_3b', 'G_ss', 'G_lf', 'G_cf', 'G_rf', 'G_of', 'G_dh']\n",
    "prim_pos_index = np.argmax(hitters[gamescols].as_matrix(), axis=1)\n",
    "prim_pos = []\n",
    "for i in range(len(hitters)):\n",
    "    prim_pos.append(gamescols[prim_pos_index[i]][2:])\n",
    "hitters['prim_pos'] = prim_pos"
   ]
  },
  {
   "cell_type": "code",
   "execution_count": 9,
   "metadata": {
    "collapsed": false,
    "deletable": true,
    "editable": true,
    "scrolled": true
   },
   "outputs": [],
   "source": [
    "# Replace three birth date columns with a single date\n",
    "hitters['birthDate'] = hitters[['birthYear','birthMonth','birthDay']].apply(lambda s: datetime(*s),axis=1)"
   ]
  },
  {
   "cell_type": "code",
   "execution_count": 10,
   "metadata": {
    "collapsed": false,
    "deletable": true,
    "editable": true,
    "scrolled": true
   },
   "outputs": [],
   "source": [
    "hitters = hitters.drop(labels=['birthYear','birthMonth','birthDay'], axis=1)"
   ]
  },
  {
   "cell_type": "code",
   "execution_count": 11,
   "metadata": {
    "collapsed": false,
    "deletable": true,
    "editable": true,
    "scrolled": true
   },
   "outputs": [],
   "source": [
    "def makeSeasonDate(x):\n",
    "    s = '{0}-{1}-{2}'.format(x, 4, 10)\n",
    "    dt = datetime.strptime(s, '%Y-%m-%d')\n",
    "    return dt"
   ]
  },
  {
   "cell_type": "code",
   "execution_count": 12,
   "metadata": {
    "collapsed": false,
    "deletable": true,
    "editable": true,
    "scrolled": true
   },
   "outputs": [],
   "source": [
    "hitters['seasonDate'] = hitters['yearID'].apply(makeSeasonDate)"
   ]
  },
  {
   "cell_type": "code",
   "execution_count": 13,
   "metadata": {
    "collapsed": false,
    "deletable": true,
    "editable": true,
    "scrolled": true
   },
   "outputs": [],
   "source": [
    "hitters['debut'] = hitters['debut'].apply(lambda x: datetime.strptime(x, '%Y-%M-%d'))"
   ]
  },
  {
   "cell_type": "code",
   "execution_count": 14,
   "metadata": {
    "collapsed": false,
    "deletable": true,
    "editable": true,
    "scrolled": true
   },
   "outputs": [
    {
     "data": {
      "text/html": [
       "<div>\n",
       "<table border=\"1\" class=\"dataframe\">\n",
       "  <thead>\n",
       "    <tr style=\"text-align: right;\">\n",
       "      <th></th>\n",
       "      <th>nameFirst</th>\n",
       "      <th>nameLast</th>\n",
       "      <th>weight</th>\n",
       "      <th>height</th>\n",
       "      <th>bats</th>\n",
       "      <th>throws</th>\n",
       "      <th>debut</th>\n",
       "      <th>playerID</th>\n",
       "      <th>yearID</th>\n",
       "      <th>teamID</th>\n",
       "      <th>...</th>\n",
       "      <th>G_lf</th>\n",
       "      <th>G_cf</th>\n",
       "      <th>G_rf</th>\n",
       "      <th>G_of</th>\n",
       "      <th>G_dh</th>\n",
       "      <th>G_ph</th>\n",
       "      <th>G_pr</th>\n",
       "      <th>prim_pos</th>\n",
       "      <th>birthDate</th>\n",
       "      <th>seasonDate</th>\n",
       "    </tr>\n",
       "  </thead>\n",
       "  <tbody>\n",
       "    <tr>\n",
       "      <th>1</th>\n",
       "      <td>Johnny</td>\n",
       "      <td>Abrego</td>\n",
       "      <td>185</td>\n",
       "      <td>72</td>\n",
       "      <td>R</td>\n",
       "      <td>R</td>\n",
       "      <td>1985-01-04 00:09:00</td>\n",
       "      <td>abregjo01</td>\n",
       "      <td>1985</td>\n",
       "      <td>CHN</td>\n",
       "      <td>...</td>\n",
       "      <td>0</td>\n",
       "      <td>0</td>\n",
       "      <td>0</td>\n",
       "      <td>0</td>\n",
       "      <td>0</td>\n",
       "      <td>0</td>\n",
       "      <td>0</td>\n",
       "      <td>p</td>\n",
       "      <td>1962-07-04</td>\n",
       "      <td>1985-04-10</td>\n",
       "    </tr>\n",
       "    <tr>\n",
       "      <th>3</th>\n",
       "      <td>Ricky</td>\n",
       "      <td>Adams</td>\n",
       "      <td>180</td>\n",
       "      <td>74</td>\n",
       "      <td>R</td>\n",
       "      <td>R</td>\n",
       "      <td>1982-01-15 00:09:00</td>\n",
       "      <td>adamsri02</td>\n",
       "      <td>1985</td>\n",
       "      <td>SFN</td>\n",
       "      <td>...</td>\n",
       "      <td>0</td>\n",
       "      <td>0</td>\n",
       "      <td>0</td>\n",
       "      <td>0</td>\n",
       "      <td>0</td>\n",
       "      <td>5</td>\n",
       "      <td>8</td>\n",
       "      <td>ss</td>\n",
       "      <td>1959-01-21</td>\n",
       "      <td>1985-04-10</td>\n",
       "    </tr>\n",
       "    <tr>\n",
       "      <th>5</th>\n",
       "      <td>Luis</td>\n",
       "      <td>Aguayo</td>\n",
       "      <td>173</td>\n",
       "      <td>69</td>\n",
       "      <td>R</td>\n",
       "      <td>R</td>\n",
       "      <td>1980-01-19 00:04:00</td>\n",
       "      <td>aguaylu01</td>\n",
       "      <td>1985</td>\n",
       "      <td>PHI</td>\n",
       "      <td>...</td>\n",
       "      <td>0</td>\n",
       "      <td>0</td>\n",
       "      <td>0</td>\n",
       "      <td>0</td>\n",
       "      <td>0</td>\n",
       "      <td>11</td>\n",
       "      <td>9</td>\n",
       "      <td>ss</td>\n",
       "      <td>1959-03-13</td>\n",
       "      <td>1985-04-10</td>\n",
       "    </tr>\n",
       "    <tr>\n",
       "      <th>6</th>\n",
       "      <td>Rick</td>\n",
       "      <td>Aguilera</td>\n",
       "      <td>195</td>\n",
       "      <td>76</td>\n",
       "      <td>R</td>\n",
       "      <td>R</td>\n",
       "      <td>1985-01-12 00:06:00</td>\n",
       "      <td>aguilri01</td>\n",
       "      <td>1985</td>\n",
       "      <td>NYN</td>\n",
       "      <td>...</td>\n",
       "      <td>0</td>\n",
       "      <td>0</td>\n",
       "      <td>0</td>\n",
       "      <td>0</td>\n",
       "      <td>0</td>\n",
       "      <td>0</td>\n",
       "      <td>1</td>\n",
       "      <td>p</td>\n",
       "      <td>1961-12-31</td>\n",
       "      <td>1985-04-10</td>\n",
       "    </tr>\n",
       "    <tr>\n",
       "      <th>7</th>\n",
       "      <td>Willie</td>\n",
       "      <td>Aikens</td>\n",
       "      <td>220</td>\n",
       "      <td>75</td>\n",
       "      <td>L</td>\n",
       "      <td>R</td>\n",
       "      <td>1977-01-17 00:05:00</td>\n",
       "      <td>aikenwi01</td>\n",
       "      <td>1985</td>\n",
       "      <td>TOR</td>\n",
       "      <td>...</td>\n",
       "      <td>0</td>\n",
       "      <td>0</td>\n",
       "      <td>0</td>\n",
       "      <td>0</td>\n",
       "      <td>11</td>\n",
       "      <td>6</td>\n",
       "      <td>0</td>\n",
       "      <td>dh</td>\n",
       "      <td>1954-10-14</td>\n",
       "      <td>1985-04-10</td>\n",
       "    </tr>\n",
       "  </tbody>\n",
       "</table>\n",
       "<p>5 rows × 47 columns</p>\n",
       "</div>"
      ],
      "text/plain": [
       "  nameFirst  nameLast  weight  height bats throws               debut  \\\n",
       "1    Johnny    Abrego     185      72    R      R 1985-01-04 00:09:00   \n",
       "3     Ricky     Adams     180      74    R      R 1982-01-15 00:09:00   \n",
       "5      Luis    Aguayo     173      69    R      R 1980-01-19 00:04:00   \n",
       "6      Rick  Aguilera     195      76    R      R 1985-01-12 00:06:00   \n",
       "7    Willie    Aikens     220      75    L      R 1977-01-17 00:05:00   \n",
       "\n",
       "    playerID  yearID teamID     ...      G_lf  G_cf  G_rf  G_of  G_dh  G_ph  \\\n",
       "1  abregjo01    1985    CHN     ...         0     0     0     0     0     0   \n",
       "3  adamsri02    1985    SFN     ...         0     0     0     0     0     5   \n",
       "5  aguaylu01    1985    PHI     ...         0     0     0     0     0    11   \n",
       "6  aguilri01    1985    NYN     ...         0     0     0     0     0     0   \n",
       "7  aikenwi01    1985    TOR     ...         0     0     0     0    11     6   \n",
       "\n",
       "   G_pr  prim_pos  birthDate  seasonDate  \n",
       "1     0         p 1962-07-04  1985-04-10  \n",
       "3     8        ss 1959-01-21  1985-04-10  \n",
       "5     9        ss 1959-03-13  1985-04-10  \n",
       "6     1         p 1961-12-31  1985-04-10  \n",
       "7     0        dh 1954-10-14  1985-04-10  \n",
       "\n",
       "[5 rows x 47 columns]"
      ]
     },
     "execution_count": 14,
     "metadata": {},
     "output_type": "execute_result"
    }
   ],
   "source": [
    "hitters.head()"
   ]
  },
  {
   "cell_type": "markdown",
   "metadata": {
    "deletable": true,
    "editable": true
   },
   "source": [
    "# 4 Feature engineering\n",
    "\n",
    "The following tasks need doing:\n",
    "\n",
    "* Calculate player age\n",
    "* Calculate years in the league as (April 10 of season year - debut date). Not quite right but should be close enough.\n",
    "* Calculate number of singles\n",
    "* Calculate batting average\n",
    "* Calculate on-base percentage\n",
    "* Calculate slugging percentage\n",
    "* Calculate OPS\n",
    "* Calculate scaled statistics - BA, R, HR, RBI, SB \n",
    "* Calculate JDFS Rating\n",
    "\n",
    "The scaling I did was wrong before. This time I am getting a Z-score for each column separately, applying the normal cumulative distribution, and generating the associated percentile rank. I will add these together and then multiply by the penalty for low at bats."
   ]
  },
  {
   "cell_type": "code",
   "execution_count": 15,
   "metadata": {
    "collapsed": false,
    "deletable": true,
    "editable": true,
    "scrolled": true
   },
   "outputs": [],
   "source": [
    "# Player age\n",
    "hitters['Age'] = np.floor((hitters['seasonDate'] - hitters['birthDate']) / np.timedelta64(1,'Y'))"
   ]
  },
  {
   "cell_type": "code",
   "execution_count": 16,
   "metadata": {
    "collapsed": false,
    "deletable": true,
    "editable": true,
    "scrolled": true
   },
   "outputs": [],
   "source": [
    "# Years of service\n",
    "hitters['YrsServ'] = np.floor((hitters['seasonDate'] - hitters['debut']) / np.timedelta64(1,'Y'))"
   ]
  },
  {
   "cell_type": "code",
   "execution_count": 17,
   "metadata": {
    "collapsed": true,
    "deletable": true,
    "editable": true
   },
   "outputs": [],
   "source": [
    "# Number of singles\n",
    "hitters['1B'] = hitters['H'] - hitters['2B'] - hitters['3B'] - hitters['HR']"
   ]
  },
  {
   "cell_type": "code",
   "execution_count": 18,
   "metadata": {
    "collapsed": false,
    "deletable": true,
    "editable": true,
    "scrolled": true
   },
   "outputs": [],
   "source": [
    "# Batting average\n",
    "hitters['BA'] = hitters['H'] / hitters['AB']\n",
    "hitters['BA'] = hitters['BA'].fillna(0)"
   ]
  },
  {
   "cell_type": "code",
   "execution_count": 19,
   "metadata": {
    "collapsed": false,
    "deletable": true,
    "editable": true,
    "scrolled": true
   },
   "outputs": [],
   "source": [
    "# On base percentage\n",
    "hitters['OBP'] = (hitters['H']+hitters['BB']+hitters['HBP']) / (hitters['AB']+hitters['BB']+hitters['HBP']+hitters['SF'])\n",
    "hitters['OBP'] = hitters['OBP'].fillna(0)"
   ]
  },
  {
   "cell_type": "code",
   "execution_count": 20,
   "metadata": {
    "collapsed": true,
    "deletable": true,
    "editable": true
   },
   "outputs": [],
   "source": [
    "# Slugging percentage\n",
    "hitters['SLG'] = (hitters['1B'] + 2 * hitters['2B'] + 3 * hitters['3B'] + 4*hitters['HR']) / hitters['AB']"
   ]
  },
  {
   "cell_type": "code",
   "execution_count": 21,
   "metadata": {
    "collapsed": true,
    "deletable": true,
    "editable": true
   },
   "outputs": [],
   "source": [
    "# On base plus slugging\n",
    "hitters['OPS'] = hitters['OBP'] + hitters['SLG']"
   ]
  },
  {
   "cell_type": "code",
   "execution_count": 22,
   "metadata": {
    "collapsed": false,
    "deletable": true,
    "editable": true,
    "scrolled": true
   },
   "outputs": [],
   "source": [
    "# Scaled statistics\n",
    "hitters['BA_Scaled'] = hitters.groupby(\"yearID\")['BA'].apply(lambda x: (x-np.mean(x))/(np.std(x)))\n",
    "hitters['HR_Scaled'] = hitters.groupby(\"yearID\")['HR'].apply(lambda x: (x-np.mean(x))/(np.std(x)))\n",
    "hitters['R_Scaled'] = hitters.groupby(\"yearID\")['R'].apply(lambda x: (x-np.mean(x))/(np.std(x)))\n",
    "hitters['RBI_Scaled'] = hitters.groupby(\"yearID\")['RBI'].apply(lambda x: (x-np.mean(x))/(np.std(x)))\n",
    "hitters['SB_Scaled'] = hitters.groupby(\"yearID\")['SB'].apply(lambda x: (x-np.mean(x))/(np.std(x)))"
   ]
  },
  {
   "cell_type": "code",
   "execution_count": 23,
   "metadata": {
    "collapsed": true,
    "deletable": true,
    "editable": true
   },
   "outputs": [],
   "source": [
    "# JDFS rating\n",
    "def applyPenalty(x):\n",
    "    if (x < 50):\n",
    "        return 0.1\n",
    "    elif (x >= 300):\n",
    "        return 1\n",
    "    else:\n",
    "        return (0.1 + 1.08* ((x-50)/300))"
   ]
  },
  {
   "cell_type": "code",
   "execution_count": 24,
   "metadata": {
    "collapsed": true,
    "deletable": true,
    "editable": true
   },
   "outputs": [],
   "source": [
    "# Penalty for people who don't have enough atbats\n",
    "hitters['Penalty'] = hitters['AB'].apply(applyPenalty)"
   ]
  },
  {
   "cell_type": "code",
   "execution_count": 25,
   "metadata": {
    "collapsed": true,
    "deletable": true,
    "editable": true
   },
   "outputs": [],
   "source": [
    "# Adjusted star rating\n",
    "hitters['AdjStars'] = hitters['Penalty']*(norm.cdf(hitters['BA_Scaled']) + norm.cdf(hitters['HR_Scaled']) + norm.cdf(hitters['R_Scaled']) + norm.cdf(hitters['RBI_Scaled']) + norm.cdf(hitters['SB_Scaled']))"
   ]
  },
  {
   "cell_type": "markdown",
   "metadata": {
    "deletable": true,
    "editable": true
   },
   "source": [
    "# 5 Exploratory data analysis\n"
   ]
  },
  {
   "cell_type": "markdown",
   "metadata": {
    "deletable": true,
    "editable": true
   },
   "source": [
    "# 5.1 Distribution of stars by year\n",
    "I would like to see a distribution of stars by year, to make sure there isn't any trend in the star rating."
   ]
  },
  {
   "cell_type": "code",
   "execution_count": 26,
   "metadata": {
    "collapsed": false,
    "deletable": true,
    "editable": true,
    "scrolled": false
   },
   "outputs": [
    {
     "data": {
      "image/png": "[encoded data removed]",
      "text/plain": [
       "<matplotlib.figure.Figure at 0x216e829fc18>"
      ]
     },
     "metadata": {},
     "output_type": "display_data"
    }
   ],
   "source": [
    "%matplotlib inline\n",
    "sns.set(style='darkgrid')\n",
    "fig, ax=pyplot.subplots(figsize=(12.8,7.6))\n",
    "ax.set_title('Distribution of star ratings by year', fontsize=20)\n",
    "ax.set_ylabel('Adjusted star rating')\n",
    "ax.set_xlabel('Year')\n",
    "g = sns.boxplot(x='yearID',y='AdjStars', data=hitters, palette='bright')\n",
    "pyplot.setp(g.get_xticklabels(), rotation=90)\n",
    "pyplot.show(g)"
   ]
  },
  {
   "cell_type": "code",
   "execution_count": 27,
   "metadata": {
    "collapsed": false,
    "deletable": true,
    "editable": true,
    "scrolled": true
   },
   "outputs": [],
   "source": [
    "df = hitters.groupby('yearID')['AdjStars'].mean()"
   ]
  },
  {
   "cell_type": "code",
   "execution_count": 28,
   "metadata": {
    "collapsed": false,
    "deletable": true,
    "editable": true,
    "scrolled": false
   },
   "outputs": [
    {
     "data": {
      "image/png": "[encoded data removed]",
      "text/plain": [
       "<matplotlib.figure.Figure at 0x216ec07e780>"
      ]
     },
     "metadata": {},
     "output_type": "display_data"
    }
   ],
   "source": [
    "fig = pyplot.figure(figsize=(12.8,7.6))\n",
    "ax = fig.add_subplot(111)\n",
    "ax.set_title('Mean star rating by year', fontsize=20)\n",
    "ax.set_ylabel('Adjusted star rating')\n",
    "ax.set_xlabel('Year')\n",
    "ax.scatter(x=np.arange(1985,2017,1),y=df)\n",
    "pyplot.show()"
   ]
  },
  {
   "cell_type": "markdown",
   "metadata": {
    "deletable": true,
    "editable": true
   },
   "source": [
    "## 5.2 Correlation\n",
    "Let's examine the correlations between certain statistics."
   ]
  },
  {
   "cell_type": "code",
   "execution_count": 29,
   "metadata": {
    "collapsed": false,
    "deletable": true,
    "editable": true,
    "scrolled": true
   },
   "outputs": [
    {
     "data": {
      "text/plain": [
       "Index(['nameFirst', 'nameLast', 'weight', 'height', 'bats', 'throws', 'debut',\n",
       "       'playerID', 'yearID', 'teamID', 'G', 'AB', 'R', 'H', '2B', '3B', 'HR',\n",
       "       'RBI', 'SB', 'CS', 'BB', 'SO', 'IBB', 'HBP', 'SH', 'SF', 'GIDP',\n",
       "       'G_all', 'GS', 'G_batting', 'G_defense', 'G_p', 'G_c', 'G_1b', 'G_2b',\n",
       "       'G_3b', 'G_ss', 'G_lf', 'G_cf', 'G_rf', 'G_of', 'G_dh', 'G_ph', 'G_pr',\n",
       "       'prim_pos', 'birthDate', 'seasonDate', 'Age', 'YrsServ', '1B', 'BA',\n",
       "       'OBP', 'SLG', 'OPS', 'BA_Scaled', 'HR_Scaled', 'R_Scaled', 'RBI_Scaled',\n",
       "       'SB_Scaled', 'Penalty', 'AdjStars'],\n",
       "      dtype='object')"
      ]
     },
     "execution_count": 29,
     "metadata": {},
     "output_type": "execute_result"
    }
   ],
   "source": [
    "hitters.columns"
   ]
  },
  {
   "cell_type": "code",
   "execution_count": 30,
   "metadata": {
    "collapsed": true,
    "deletable": true,
    "editable": true
   },
   "outputs": [],
   "source": [
    "useCols = ['weight','height','R','H','1B','2B','3B','HR','RBI','SB','CS','BB','SO','IBB','HBP','SH','SF','GIDP','Age','YrsServ','OBP','SLG','OPS','AdjStars']"
   ]
  },
  {
   "cell_type": "code",
   "execution_count": 31,
   "metadata": {
    "collapsed": false,
    "deletable": true,
    "editable": true,
    "scrolled": false
   },
   "outputs": [
    {
     "data": {
      "image/png": "[encoded data removed]",
      "text/plain": [
       "<matplotlib.figure.Figure at 0x216ea09a8d0>"
      ]
     },
     "metadata": {},
     "output_type": "display_data"
    }
   ],
   "source": [
    "#mask = (hitters[useCols].corr() < 0.3) & (hitters[useCols].corr() > -0.3)\n",
    "fig, ax = pyplot.subplots(figsize=(10, 10))\n",
    "pyplot.title('Pearson Correlation of Numeric Variables', fontsize=20)\n",
    "sns.heatmap(hitters[useCols].corr(),linewidths=0.35,vmax=1.0, square=True, cmap=\"coolwarm\")\n",
    "pyplot.show()"
   ]
  },
  {
   "cell_type": "markdown",
   "metadata": {
    "deletable": true,
    "editable": true
   },
   "source": [
    "This appears to show that age and years of service are not really correlated with star rating. Player size is weakly negatively correlated with my star rating. It makes sense that the statistics directly relevant to the star rating are strongly positively correlated, but triples are less so. Strangely, stolen bases are directly relevant, but correlation is weaker. Even more strangely, the sabermetrician's favorite stats - OBP, SLG, OPS - are weaker (but still positive) correlations.\n",
    "\n",
    "The strongest correlations that aren't one of the five scoring criteria directly are singles, doubles, and walks. Sac flies and grounding into double plays(!) are strong. Being hit by pitches appears to be stronger than stolen bases, which is one of the scoring categories!"
   ]
  },
  {
   "cell_type": "markdown",
   "metadata": {
    "deletable": true,
    "editable": true
   },
   "source": [
    "## 5.3 Highest rated player by year\n",
    "Let's find the highest rated player by year. The ultimate result is a list of names I would expect to see. However, Miguel Cabrera won the Triple Crown in 2012. This shows that Mike Trout led the league in star rating during that year. Since the Triple Crown is three of the five scoring categories, this should be investigated further."
   ]
  },
  {
   "cell_type": "code",
   "execution_count": 32,
   "metadata": {
    "collapsed": false,
    "deletable": true,
    "editable": true,
    "scrolled": true
   },
   "outputs": [],
   "source": [
    "highest = hitters.groupby(['yearID'])['AdjStars'].max()"
   ]
  },
  {
   "cell_type": "code",
   "execution_count": 33,
   "metadata": {
    "collapsed": true,
    "deletable": true,
    "editable": true
   },
   "outputs": [],
   "source": [
    "highestidx = hitters.groupby('yearID')['AdjStars'].idxmax()"
   ]
  },
  {
   "cell_type": "code",
   "execution_count": 34,
   "metadata": {
    "collapsed": false,
    "deletable": true,
    "editable": true,
    "scrolled": true
   },
   "outputs": [],
   "source": [
    "best = hitters.loc[highestidx][['yearID','nameFirst','nameLast','Age','YrsServ','AdjStars','BA_Scaled','HR_Scaled','R_Scaled','SB_Scaled','RBI_Scaled']]"
   ]
  },
  {
   "cell_type": "code",
   "execution_count": 35,
   "metadata": {
    "collapsed": false,
    "deletable": true,
    "editable": true,
    "scrolled": false
   },
   "outputs": [
    {
     "data": {
      "text/html": [
       "<div>\n",
       "<table border=\"1\" class=\"dataframe\">\n",
       "  <thead>\n",
       "    <tr style=\"text-align: right;\">\n",
       "      <th></th>\n",
       "      <th>yearID</th>\n",
       "      <th>nameFirst</th>\n",
       "      <th>nameLast</th>\n",
       "      <th>Age</th>\n",
       "      <th>YrsServ</th>\n",
       "      <th>AdjStars</th>\n",
       "      <th>BA_Scaled</th>\n",
       "      <th>HR_Scaled</th>\n",
       "      <th>R_Scaled</th>\n",
       "      <th>SB_Scaled</th>\n",
       "      <th>RBI_Scaled</th>\n",
       "    </tr>\n",
       "  </thead>\n",
       "  <tbody>\n",
       "    <tr>\n",
       "      <th>29623</th>\n",
       "      <td>1985</td>\n",
       "      <td>Ryne</td>\n",
       "      <td>Sandberg</td>\n",
       "      <td>25.0</td>\n",
       "      <td>4.0</td>\n",
       "      <td>4.778404</td>\n",
       "      <td>0.869488</td>\n",
       "      <td>2.633075</td>\n",
       "      <td>2.915194</td>\n",
       "      <td>4.884599</td>\n",
       "      <td>1.989969</td>\n",
       "    </tr>\n",
       "    <tr>\n",
       "      <th>27097</th>\n",
       "      <td>1986</td>\n",
       "      <td>Kirby</td>\n",
       "      <td>Puckett</td>\n",
       "      <td>26.0</td>\n",
       "      <td>2.0</td>\n",
       "      <td>4.800822</td>\n",
       "      <td>1.132331</td>\n",
       "      <td>3.281865</td>\n",
       "      <td>3.179827</td>\n",
       "      <td>1.527224</td>\n",
       "      <td>2.522555</td>\n",
       "    </tr>\n",
       "    <tr>\n",
       "      <th>33868</th>\n",
       "      <td>1987</td>\n",
       "      <td>Alan</td>\n",
       "      <td>Trammell</td>\n",
       "      <td>29.0</td>\n",
       "      <td>10.0</td>\n",
       "      <td>4.806028</td>\n",
       "      <td>1.180060</td>\n",
       "      <td>2.372878</td>\n",
       "      <td>2.589053</td>\n",
       "      <td>1.588563</td>\n",
       "      <td>2.557749</td>\n",
       "    </tr>\n",
       "    <tr>\n",
       "      <th>5139</th>\n",
       "      <td>1988</td>\n",
       "      <td>Jose</td>\n",
       "      <td>Canseco</td>\n",
       "      <td>23.0</td>\n",
       "      <td>3.0</td>\n",
       "      <td>4.849202</td>\n",
       "      <td>1.035985</td>\n",
       "      <td>5.269839</td>\n",
       "      <td>3.348979</td>\n",
       "      <td>3.582750</td>\n",
       "      <td>3.677136</td>\n",
       "    </tr>\n",
       "    <tr>\n",
       "      <th>31404</th>\n",
       "      <td>1989</td>\n",
       "      <td>Lonnie</td>\n",
       "      <td>Smith</td>\n",
       "      <td>33.0</td>\n",
       "      <td>11.0</td>\n",
       "      <td>4.770723</td>\n",
       "      <td>0.886820</td>\n",
       "      <td>2.456438</td>\n",
       "      <td>2.358317</td>\n",
       "      <td>2.399630</td>\n",
       "      <td>2.113282</td>\n",
       "    </tr>\n",
       "    <tr>\n",
       "      <th>2696</th>\n",
       "      <td>1990</td>\n",
       "      <td>Barry</td>\n",
       "      <td>Bonds</td>\n",
       "      <td>25.0</td>\n",
       "      <td>4.0</td>\n",
       "      <td>4.809491</td>\n",
       "      <td>0.886774</td>\n",
       "      <td>3.878489</td>\n",
       "      <td>2.824380</td>\n",
       "      <td>5.138209</td>\n",
       "      <td>3.297953</td>\n",
       "    </tr>\n",
       "    <tr>\n",
       "      <th>10319</th>\n",
       "      <td>1991</td>\n",
       "      <td>Julio</td>\n",
       "      <td>Franco</td>\n",
       "      <td>32.0</td>\n",
       "      <td>9.0</td>\n",
       "      <td>4.769327</td>\n",
       "      <td>1.185225</td>\n",
       "      <td>1.378829</td>\n",
       "      <td>2.876343</td>\n",
       "      <td>3.584914</td>\n",
       "      <td>1.934036</td>\n",
       "    </tr>\n",
       "    <tr>\n",
       "      <th>2748</th>\n",
       "      <td>1992</td>\n",
       "      <td>Barry</td>\n",
       "      <td>Bonds</td>\n",
       "      <td>27.0</td>\n",
       "      <td>6.0</td>\n",
       "      <td>4.785979</td>\n",
       "      <td>0.801091</td>\n",
       "      <td>4.386162</td>\n",
       "      <td>3.094357</td>\n",
       "      <td>3.739266</td>\n",
       "      <td>2.989419</td>\n",
       "    </tr>\n",
       "    <tr>\n",
       "      <th>2775</th>\n",
       "      <td>1993</td>\n",
       "      <td>Barry</td>\n",
       "      <td>Bonds</td>\n",
       "      <td>28.0</td>\n",
       "      <td>7.0</td>\n",
       "      <td>4.817648</td>\n",
       "      <td>0.917662</td>\n",
       "      <td>5.077320</td>\n",
       "      <td>3.325194</td>\n",
       "      <td>2.881257</td>\n",
       "      <td>3.273438</td>\n",
       "    </tr>\n",
       "    <tr>\n",
       "      <th>1071</th>\n",
       "      <td>1994</td>\n",
       "      <td>Jeff</td>\n",
       "      <td>Bagwell</td>\n",
       "      <td>25.0</td>\n",
       "      <td>3.0</td>\n",
       "      <td>4.821183</td>\n",
       "      <td>1.089796</td>\n",
       "      <td>4.882594</td>\n",
       "      <td>3.309424</td>\n",
       "      <td>1.746093</td>\n",
       "      <td>3.888536</td>\n",
       "    </tr>\n",
       "    <tr>\n",
       "      <th>29836</th>\n",
       "      <td>1995</td>\n",
       "      <td>Reggie</td>\n",
       "      <td>Sanders</td>\n",
       "      <td>27.0</td>\n",
       "      <td>4.0</td>\n",
       "      <td>4.716466</td>\n",
       "      <td>0.622175</td>\n",
       "      <td>2.844050</td>\n",
       "      <td>2.306253</td>\n",
       "      <td>4.078077</td>\n",
       "      <td>2.667324</td>\n",
       "    </tr>\n",
       "    <tr>\n",
       "      <th>4449</th>\n",
       "      <td>1996</td>\n",
       "      <td>Ellis</td>\n",
       "      <td>Burks</td>\n",
       "      <td>31.0</td>\n",
       "      <td>9.0</td>\n",
       "      <td>4.840403</td>\n",
       "      <td>1.006508</td>\n",
       "      <td>3.430373</td>\n",
       "      <td>3.346910</td>\n",
       "      <td>3.406306</td>\n",
       "      <td>2.973450</td>\n",
       "    </tr>\n",
       "    <tr>\n",
       "      <th>34967</th>\n",
       "      <td>1997</td>\n",
       "      <td>Larry</td>\n",
       "      <td>Walker</td>\n",
       "      <td>30.0</td>\n",
       "      <td>8.0</td>\n",
       "      <td>4.869137</td>\n",
       "      <td>1.124939</td>\n",
       "      <td>4.954175</td>\n",
       "      <td>3.784107</td>\n",
       "      <td>3.564588</td>\n",
       "      <td>3.435099</td>\n",
       "    </tr>\n",
       "    <tr>\n",
       "      <th>29026</th>\n",
       "      <td>1998</td>\n",
       "      <td>Alex</td>\n",
       "      <td>Rodriguez</td>\n",
       "      <td>22.0</td>\n",
       "      <td>4.0</td>\n",
       "      <td>4.779135</td>\n",
       "      <td>0.776751</td>\n",
       "      <td>3.910256</td>\n",
       "      <td>3.024968</td>\n",
       "      <td>5.583727</td>\n",
       "      <td>3.114035</td>\n",
       "    </tr>\n",
       "    <tr>\n",
       "      <th>29052</th>\n",
       "      <td>1999</td>\n",
       "      <td>Ivan</td>\n",
       "      <td>Rodriguez</td>\n",
       "      <td>27.0</td>\n",
       "      <td>8.0</td>\n",
       "      <td>4.804805</td>\n",
       "      <td>0.909899</td>\n",
       "      <td>2.966804</td>\n",
       "      <td>2.647807</td>\n",
       "      <td>2.662335</td>\n",
       "      <td>2.625854</td>\n",
       "    </tr>\n",
       "    <tr>\n",
       "      <th>9656</th>\n",
       "      <td>2000</td>\n",
       "      <td>Darin</td>\n",
       "      <td>Erstad</td>\n",
       "      <td>25.0</td>\n",
       "      <td>4.0</td>\n",
       "      <td>4.773633</td>\n",
       "      <td>0.889242</td>\n",
       "      <td>1.972530</td>\n",
       "      <td>2.816966</td>\n",
       "      <td>3.630776</td>\n",
       "      <td>2.238595</td>\n",
       "    </tr>\n",
       "    <tr>\n",
       "      <th>35097</th>\n",
       "      <td>2001</td>\n",
       "      <td>Larry</td>\n",
       "      <td>Walker</td>\n",
       "      <td>34.0</td>\n",
       "      <td>12.0</td>\n",
       "      <td>4.784444</td>\n",
       "      <td>1.051835</td>\n",
       "      <td>3.336369</td>\n",
       "      <td>2.595541</td>\n",
       "      <td>1.529805</td>\n",
       "      <td>3.108875</td>\n",
       "    </tr>\n",
       "    <tr>\n",
       "      <th>13153</th>\n",
       "      <td>2002</td>\n",
       "      <td>Vladimir</td>\n",
       "      <td>Guerrero</td>\n",
       "      <td>27.0</td>\n",
       "      <td>6.0</td>\n",
       "      <td>4.838995</td>\n",
       "      <td>1.014657</td>\n",
       "      <td>3.770189</td>\n",
       "      <td>2.656197</td>\n",
       "      <td>5.821369</td>\n",
       "      <td>2.904780</td>\n",
       "    </tr>\n",
       "    <tr>\n",
       "      <th>30982</th>\n",
       "      <td>2003</td>\n",
       "      <td>Gary</td>\n",
       "      <td>Sheffield</td>\n",
       "      <td>34.0</td>\n",
       "      <td>15.0</td>\n",
       "      <td>4.794769</td>\n",
       "      <td>0.852348</td>\n",
       "      <td>3.736597</td>\n",
       "      <td>3.229026</td>\n",
       "      <td>2.443964</td>\n",
       "      <td>3.488832</td>\n",
       "    </tr>\n",
       "    <tr>\n",
       "      <th>13209</th>\n",
       "      <td>2004</td>\n",
       "      <td>Vladimir</td>\n",
       "      <td>Guerrero</td>\n",
       "      <td>29.0</td>\n",
       "      <td>8.0</td>\n",
       "      <td>4.841378</td>\n",
       "      <td>1.129081</td>\n",
       "      <td>3.629503</td>\n",
       "      <td>3.095688</td>\n",
       "      <td>1.917813</td>\n",
       "      <td>3.290907</td>\n",
       "    </tr>\n",
       "    <tr>\n",
       "      <th>29183</th>\n",
       "      <td>2005</td>\n",
       "      <td>Alex</td>\n",
       "      <td>Rodriguez</td>\n",
       "      <td>29.0</td>\n",
       "      <td>11.0</td>\n",
       "      <td>4.806903</td>\n",
       "      <td>0.881729</td>\n",
       "      <td>4.884885</td>\n",
       "      <td>3.264032</td>\n",
       "      <td>2.707700</td>\n",
       "      <td>3.541914</td>\n",
       "    </tr>\n",
       "    <tr>\n",
       "      <th>13267</th>\n",
       "      <td>2006</td>\n",
       "      <td>Vladimir</td>\n",
       "      <td>Guerrero</td>\n",
       "      <td>31.0</td>\n",
       "      <td>10.0</td>\n",
       "      <td>4.740242</td>\n",
       "      <td>0.896728</td>\n",
       "      <td>2.914667</td>\n",
       "      <td>2.040445</td>\n",
       "      <td>1.642723</td>\n",
       "      <td>2.851900</td>\n",
       "    </tr>\n",
       "    <tr>\n",
       "      <th>36971</th>\n",
       "      <td>2007</td>\n",
       "      <td>David</td>\n",
       "      <td>Wright</td>\n",
       "      <td>24.0</td>\n",
       "      <td>3.0</td>\n",
       "      <td>4.782910</td>\n",
       "      <td>0.812181</td>\n",
       "      <td>2.900231</td>\n",
       "      <td>2.779016</td>\n",
       "      <td>4.085054</td>\n",
       "      <td>2.640970</td>\n",
       "    </tr>\n",
       "    <tr>\n",
       "      <th>15824</th>\n",
       "      <td>2008</td>\n",
       "      <td>Matt</td>\n",
       "      <td>Holliday</td>\n",
       "      <td>28.0</td>\n",
       "      <td>4.0</td>\n",
       "      <td>4.787679</td>\n",
       "      <td>0.892956</td>\n",
       "      <td>2.374692</td>\n",
       "      <td>2.745513</td>\n",
       "      <td>3.601639</td>\n",
       "      <td>2.185680</td>\n",
       "    </tr>\n",
       "    <tr>\n",
       "      <th>27666</th>\n",
       "      <td>2009</td>\n",
       "      <td>Hanley</td>\n",
       "      <td>Ramirez</td>\n",
       "      <td>25.0</td>\n",
       "      <td>4.0</td>\n",
       "      <td>4.841154</td>\n",
       "      <td>1.113580</td>\n",
       "      <td>2.134892</td>\n",
       "      <td>2.510079</td>\n",
       "      <td>3.290159</td>\n",
       "      <td>2.727039</td>\n",
       "    </tr>\n",
       "    <tr>\n",
       "      <th>12474</th>\n",
       "      <td>2010</td>\n",
       "      <td>Carlos</td>\n",
       "      <td>Gonzalez</td>\n",
       "      <td>24.0</td>\n",
       "      <td>2.0</td>\n",
       "      <td>4.844891</td>\n",
       "      <td>1.025361</td>\n",
       "      <td>3.608035</td>\n",
       "      <td>3.046238</td>\n",
       "      <td>3.170612</td>\n",
       "      <td>3.326866</td>\n",
       "    </tr>\n",
       "    <tr>\n",
       "      <th>4086</th>\n",
       "      <td>2011</td>\n",
       "      <td>Ryan</td>\n",
       "      <td>Braun</td>\n",
       "      <td>27.0</td>\n",
       "      <td>4.0</td>\n",
       "      <td>4.847903</td>\n",
       "      <td>1.035749</td>\n",
       "      <td>3.529727</td>\n",
       "      <td>3.081536</td>\n",
       "      <td>3.960504</td>\n",
       "      <td>3.210568</td>\n",
       "    </tr>\n",
       "    <tr>\n",
       "      <th>4109</th>\n",
       "      <td>2012</td>\n",
       "      <td>Ryan</td>\n",
       "      <td>Braun</td>\n",
       "      <td>28.0</td>\n",
       "      <td>5.0</td>\n",
       "      <td>4.861120</td>\n",
       "      <td>1.093864</td>\n",
       "      <td>4.313097</td>\n",
       "      <td>3.042686</td>\n",
       "      <td>3.706601</td>\n",
       "      <td>3.245123</td>\n",
       "    </tr>\n",
       "    <tr>\n",
       "      <th>34561</th>\n",
       "      <td>2013</td>\n",
       "      <td>Mike</td>\n",
       "      <td>Trout</td>\n",
       "      <td>21.0</td>\n",
       "      <td>2.0</td>\n",
       "      <td>4.880613</td>\n",
       "      <td>1.202933</td>\n",
       "      <td>2.883804</td>\n",
       "      <td>3.223302</td>\n",
       "      <td>4.549110</td>\n",
       "      <td>2.835888</td>\n",
       "    </tr>\n",
       "    <tr>\n",
       "      <th>4156</th>\n",
       "      <td>2014</td>\n",
       "      <td>Michael</td>\n",
       "      <td>Brantley</td>\n",
       "      <td>26.0</td>\n",
       "      <td>5.0</td>\n",
       "      <td>4.852567</td>\n",
       "      <td>1.141682</td>\n",
       "      <td>2.181387</td>\n",
       "      <td>2.750983</td>\n",
       "      <td>2.971178</td>\n",
       "      <td>2.946262</td>\n",
       "    </tr>\n",
       "    <tr>\n",
       "      <th>12613</th>\n",
       "      <td>2015</td>\n",
       "      <td>Paul</td>\n",
       "      <td>Goldschmidt</td>\n",
       "      <td>27.0</td>\n",
       "      <td>4.0</td>\n",
       "      <td>4.819447</td>\n",
       "      <td>0.927124</td>\n",
       "      <td>3.413819</td>\n",
       "      <td>2.936014</td>\n",
       "      <td>3.059213</td>\n",
       "      <td>3.274387</td>\n",
       "    </tr>\n",
       "    <tr>\n",
       "      <th>831</th>\n",
       "      <td>2016</td>\n",
       "      <td>Jose</td>\n",
       "      <td>Altuve</td>\n",
       "      <td>25.0</td>\n",
       "      <td>5.0</td>\n",
       "      <td>4.846842</td>\n",
       "      <td>1.171814</td>\n",
       "      <td>1.960827</td>\n",
       "      <td>2.890430</td>\n",
       "      <td>4.376674</td>\n",
       "      <td>2.533699</td>\n",
       "    </tr>\n",
       "  </tbody>\n",
       "</table>\n",
       "</div>"
      ],
      "text/plain": [
       "       yearID nameFirst     nameLast   Age  YrsServ  AdjStars  BA_Scaled  \\\n",
       "29623    1985      Ryne     Sandberg  25.0      4.0  4.778404   0.869488   \n",
       "27097    1986     Kirby      Puckett  26.0      2.0  4.800822   1.132331   \n",
       "33868    1987      Alan     Trammell  29.0     10.0  4.806028   1.180060   \n",
       "5139     1988      Jose      Canseco  23.0      3.0  4.849202   1.035985   \n",
       "31404    1989    Lonnie        Smith  33.0     11.0  4.770723   0.886820   \n",
       "2696     1990     Barry        Bonds  25.0      4.0  4.809491   0.886774   \n",
       "10319    1991     Julio       Franco  32.0      9.0  4.769327   1.185225   \n",
       "2748     1992     Barry        Bonds  27.0      6.0  4.785979   0.801091   \n",
       "2775     1993     Barry        Bonds  28.0      7.0  4.817648   0.917662   \n",
       "1071     1994      Jeff      Bagwell  25.0      3.0  4.821183   1.089796   \n",
       "29836    1995    Reggie      Sanders  27.0      4.0  4.716466   0.622175   \n",
       "4449     1996     Ellis        Burks  31.0      9.0  4.840403   1.006508   \n",
       "34967    1997     Larry       Walker  30.0      8.0  4.869137   1.124939   \n",
       "29026    1998      Alex    Rodriguez  22.0      4.0  4.779135   0.776751   \n",
       "29052    1999      Ivan    Rodriguez  27.0      8.0  4.804805   0.909899   \n",
       "9656     2000     Darin       Erstad  25.0      4.0  4.773633   0.889242   \n",
       "35097    2001     Larry       Walker  34.0     12.0  4.784444   1.051835   \n",
       "13153    2002  Vladimir     Guerrero  27.0      6.0  4.838995   1.014657   \n",
       "30982    2003      Gary    Sheffield  34.0     15.0  4.794769   0.852348   \n",
       "13209    2004  Vladimir     Guerrero  29.0      8.0  4.841378   1.129081   \n",
       "29183    2005      Alex    Rodriguez  29.0     11.0  4.806903   0.881729   \n",
       "13267    2006  Vladimir     Guerrero  31.0     10.0  4.740242   0.896728   \n",
       "36971    2007     David       Wright  24.0      3.0  4.782910   0.812181   \n",
       "15824    2008      Matt     Holliday  28.0      4.0  4.787679   0.892956   \n",
       "27666    2009    Hanley      Ramirez  25.0      4.0  4.841154   1.113580   \n",
       "12474    2010    Carlos     Gonzalez  24.0      2.0  4.844891   1.025361   \n",
       "4086     2011      Ryan        Braun  27.0      4.0  4.847903   1.035749   \n",
       "4109     2012      Ryan        Braun  28.0      5.0  4.861120   1.093864   \n",
       "34561    2013      Mike        Trout  21.0      2.0  4.880613   1.202933   \n",
       "4156     2014   Michael     Brantley  26.0      5.0  4.852567   1.141682   \n",
       "12613    2015      Paul  Goldschmidt  27.0      4.0  4.819447   0.927124   \n",
       "831      2016      Jose       Altuve  25.0      5.0  4.846842   1.171814   \n",
       "\n",
       "       HR_Scaled  R_Scaled  SB_Scaled  RBI_Scaled  \n",
       "29623   2.633075  2.915194   4.884599    1.989969  \n",
       "27097   3.281865  3.179827   1.527224    2.522555  \n",
       "33868   2.372878  2.589053   1.588563    2.557749  \n",
       "5139    5.269839  3.348979   3.582750    3.677136  \n",
       "31404   2.456438  2.358317   2.399630    2.113282  \n",
       "2696    3.878489  2.824380   5.138209    3.297953  \n",
       "10319   1.378829  2.876343   3.584914    1.934036  \n",
       "2748    4.386162  3.094357   3.739266    2.989419  \n",
       "2775    5.077320  3.325194   2.881257    3.273438  \n",
       "1071    4.882594  3.309424   1.746093    3.888536  \n",
       "29836   2.844050  2.306253   4.078077    2.667324  \n",
       "4449    3.430373  3.346910   3.406306    2.973450  \n",
       "34967   4.954175  3.784107   3.564588    3.435099  \n",
       "29026   3.910256  3.024968   5.583727    3.114035  \n",
       "29052   2.966804  2.647807   2.662335    2.625854  \n",
       "9656    1.972530  2.816966   3.630776    2.238595  \n",
       "35097   3.336369  2.595541   1.529805    3.108875  \n",
       "13153   3.770189  2.656197   5.821369    2.904780  \n",
       "30982   3.736597  3.229026   2.443964    3.488832  \n",
       "13209   3.629503  3.095688   1.917813    3.290907  \n",
       "29183   4.884885  3.264032   2.707700    3.541914  \n",
       "13267   2.914667  2.040445   1.642723    2.851900  \n",
       "36971   2.900231  2.779016   4.085054    2.640970  \n",
       "15824   2.374692  2.745513   3.601639    2.185680  \n",
       "27666   2.134892  2.510079   3.290159    2.727039  \n",
       "12474   3.608035  3.046238   3.170612    3.326866  \n",
       "4086    3.529727  3.081536   3.960504    3.210568  \n",
       "4109    4.313097  3.042686   3.706601    3.245123  \n",
       "34561   2.883804  3.223302   4.549110    2.835888  \n",
       "4156    2.181387  2.750983   2.971178    2.946262  \n",
       "12613   3.413819  2.936014   3.059213    3.274387  \n",
       "831     1.960827  2.890430   4.376674    2.533699  "
      ]
     },
     "execution_count": 35,
     "metadata": {},
     "output_type": "execute_result"
    }
   ],
   "source": [
    "best"
   ]
  },
  {
   "cell_type": "markdown",
   "metadata": {},
   "source": [
    "### 5.3.1 Testing\n",
    "We need to examine this closer. Look particularly at 2012 - Ryan Braun was the league leader in adjusted star rating. This was the same year Miguel Cabrera won the Triple Crown, and also the same year Mike Trout came into the league, with memorable effect. These extracts show that that the scaling worked: Cabrera still leads the league in the 3 scaled statistics corresponding to the Triple Crown. However, Trout scored more runs than Cabrera, "
   ]
  },
  {
   "cell_type": "code",
   "execution_count": 36,
   "metadata": {
    "collapsed": false,
    "deletable": true,
    "editable": true,
    "scrolled": true
   },
   "outputs": [],
   "source": [
    "miggy = hitters[(hitters['yearID']==2012) & (hitters['nameFirst']=='Miguel') & (hitters['nameLast']=='Cabrera')][['BA_Scaled','HR_Scaled','R_Scaled','SB_Scaled','RBI_Scaled','AdjStars']]"
   ]
  },
  {
   "cell_type": "code",
   "execution_count": 37,
   "metadata": {
    "collapsed": false,
    "scrolled": true
   },
   "outputs": [
    {
     "data": {
      "text/html": [
       "<div>\n",
       "<table border=\"1\" class=\"dataframe\">\n",
       "  <thead>\n",
       "    <tr style=\"text-align: right;\">\n",
       "      <th></th>\n",
       "      <th>BA_Scaled</th>\n",
       "      <th>HR_Scaled</th>\n",
       "      <th>R_Scaled</th>\n",
       "      <th>SB_Scaled</th>\n",
       "      <th>RBI_Scaled</th>\n",
       "      <th>AdjStars</th>\n",
       "    </tr>\n",
       "  </thead>\n",
       "  <tbody>\n",
       "    <tr>\n",
       "      <th>4946</th>\n",
       "      <td>1.178966</td>\n",
       "      <td>4.674083</td>\n",
       "      <td>3.07805</td>\n",
       "      <td>0.087134</td>\n",
       "      <td>4.206869</td>\n",
       "      <td>4.414455</td>\n",
       "    </tr>\n",
       "  </tbody>\n",
       "</table>\n",
       "</div>"
      ],
      "text/plain": [
       "      BA_Scaled  HR_Scaled  R_Scaled  SB_Scaled  RBI_Scaled  AdjStars\n",
       "4946   1.178966   4.674083   3.07805   0.087134    4.206869  4.414455"
      ]
     },
     "execution_count": 37,
     "metadata": {},
     "output_type": "execute_result"
    }
   ],
   "source": [
    "miggy"
   ]
  },
  {
   "cell_type": "code",
   "execution_count": 38,
   "metadata": {
    "collapsed": true
   },
   "outputs": [],
   "source": [
    "trout = hitters[(hitters['yearID']==2012) & (hitters['nameFirst']=='Mike') & (hitters['nameLast']=='Trout')][['BA_Scaled','HR_Scaled','R_Scaled','SB_Scaled','RBI_Scaled','AdjStars']]"
   ]
  },
  {
   "cell_type": "code",
   "execution_count": 39,
   "metadata": {
    "collapsed": false,
    "scrolled": true
   },
   "outputs": [
    {
     "data": {
      "text/html": [
       "<div>\n",
       "<table border=\"1\" class=\"dataframe\">\n",
       "  <thead>\n",
       "    <tr style=\"text-align: right;\">\n",
       "      <th></th>\n",
       "      <th>BA_Scaled</th>\n",
       "      <th>HR_Scaled</th>\n",
       "      <th>R_Scaled</th>\n",
       "      <th>SB_Scaled</th>\n",
       "      <th>RBI_Scaled</th>\n",
       "      <th>AdjStars</th>\n",
       "    </tr>\n",
       "  </thead>\n",
       "  <tbody>\n",
       "    <tr>\n",
       "      <th>34529</th>\n",
       "      <td>1.145535</td>\n",
       "      <td>2.989482</td>\n",
       "      <td>3.785334</td>\n",
       "      <td>6.351596</td>\n",
       "      <td>2.212137</td>\n",
       "      <td>4.859054</td>\n",
       "    </tr>\n",
       "  </tbody>\n",
       "</table>\n",
       "</div>"
      ],
      "text/plain": [
       "       BA_Scaled  HR_Scaled  R_Scaled  SB_Scaled  RBI_Scaled  AdjStars\n",
       "34529   1.145535   2.989482  3.785334   6.351596    2.212137  4.859054"
      ]
     },
     "execution_count": 39,
     "metadata": {},
     "output_type": "execute_result"
    }
   ],
   "source": [
    "trout"
   ]
  },
  {
   "cell_type": "code",
   "execution_count": 40,
   "metadata": {
    "collapsed": false,
    "scrolled": true
   },
   "outputs": [
    {
     "data": {
      "text/html": [
       "<div>\n",
       "<table border=\"1\" class=\"dataframe\">\n",
       "  <thead>\n",
       "    <tr style=\"text-align: right;\">\n",
       "      <th></th>\n",
       "      <th>BA_Scaled</th>\n",
       "      <th>HR_Scaled</th>\n",
       "      <th>R_Scaled</th>\n",
       "      <th>SB_Scaled</th>\n",
       "      <th>RBI_Scaled</th>\n",
       "      <th>AdjStars</th>\n",
       "    </tr>\n",
       "  </thead>\n",
       "  <tbody>\n",
       "    <tr>\n",
       "      <th>4109</th>\n",
       "      <td>1.093864</td>\n",
       "      <td>4.313097</td>\n",
       "      <td>3.042686</td>\n",
       "      <td>3.706601</td>\n",
       "      <td>3.245123</td>\n",
       "      <td>4.86112</td>\n",
       "    </tr>\n",
       "  </tbody>\n",
       "</table>\n",
       "</div>"
      ],
      "text/plain": [
       "      BA_Scaled  HR_Scaled  R_Scaled  SB_Scaled  RBI_Scaled  AdjStars\n",
       "4109   1.093864   4.313097  3.042686   3.706601    3.245123   4.86112"
      ]
     },
     "execution_count": 40,
     "metadata": {},
     "output_type": "execute_result"
    }
   ],
   "source": [
    "braun = hitters[(hitters['yearID']==2012) & (hitters['nameFirst']=='Ryan') & (hitters['nameLast']=='Braun')][['BA_Scaled','HR_Scaled','R_Scaled','SB_Scaled','RBI_Scaled','AdjStars']]\n",
    "braun"
   ]
  },
  {
   "cell_type": "code",
   "execution_count": 41,
   "metadata": {
    "collapsed": false,
    "scrolled": true
   },
   "outputs": [],
   "source": [
    "miggyprob = norm.cdf(miggy)\n",
    "troutprob = norm.cdf(trout)\n",
    "braunprob = norm.cdf(braun)"
   ]
  },
  {
   "cell_type": "code",
   "execution_count": 42,
   "metadata": {
    "collapsed": false
   },
   "outputs": [
    {
     "name": "stdout",
     "output_type": "stream",
     "text": [
      "[[ 0.88079416  0.99999852  0.9989582   0.53471738  0.99998705  0.99999494]]\n",
      "[[ 0.87400628  0.99860274  0.99992325  1.          0.98652141  0.99999941]]\n",
      "[[ 0.86299275  0.99999195  0.99882762  0.99989497  0.999413    0.99999942]]\n"
     ]
    }
   ],
   "source": [
    "print(miggyprob)\n",
    "print(troutprob)\n",
    "print(braunprob)"
   ]
  },
  {
   "cell_type": "code",
   "execution_count": 43,
   "metadata": {
    "collapsed": false,
    "scrolled": true
   },
   "outputs": [
    {
     "name": "stdout",
     "output_type": "stream",
     "text": [
      "Cabrera:  [ 4.41445532]\n",
      "Trout:  [ 4.85905368]\n",
      "Braun:  [ 4.86112028]\n"
     ]
    }
   ],
   "source": [
    "print('Cabrera: ',np.sum(miggyprob[:,0:5], axis=1))\n",
    "print('Trout: ',np.sum(troutprob[:,0:5], axis=1))\n",
    "print('Braun: ',np.sum(braunprob[:,0:5], axis=1))"
   ]
  },
  {
   "cell_type": "markdown",
   "metadata": {
    "deletable": true,
    "editable": true
   },
   "source": [
    "## 5.4 Height and weight\n",
    "Let's look at scatter plots of star ratings versus height and weight."
   ]
  },
  {
   "cell_type": "code",
   "execution_count": 44,
   "metadata": {
    "collapsed": false,
    "deletable": true,
    "editable": true,
    "scrolled": false
   },
   "outputs": [
    {
     "data": {
      "image/png": "[encoded data removed]",
      "text/plain": [
       "<matplotlib.figure.Figure at 0x216ea169be0>"
      ]
     },
     "metadata": {},
     "output_type": "display_data"
    }
   ],
   "source": [
    "from matplotlib import colorbar\n",
    "fig = pyplot.figure(figsize=(16.5,9.3))\n",
    "ax = fig.add_subplot(111)\n",
    "ax.set_title('Mean star rating by player size', fontsize=20)\n",
    "ax.set_ylabel('Adjusted star rating')\n",
    "ax.set_xlabel('Height (inches)')\n",
    "blah = ax.scatter(x=hitters['height'],y=hitters['AdjStars'], c=hitters['weight'],s=30, alpha=0.7, cmap=pyplot.get_cmap('RdYlGn_r'))\n",
    "b = pyplot.colorbar(blah, orientation='vertical')\n",
    "b.set_label('Weight (pounds)')\n",
    "pyplot.xticks(np.arange(66,84,1))\n",
    "pyplot.show()"
   ]
  },
  {
   "cell_type": "markdown",
   "metadata": {
    "collapsed": true,
    "deletable": true,
    "editable": true
   },
   "source": [
    "### 5.4.1 Distribution of heights, weights, ages, and years of service of top players (4 or more stars)\n",
    "Doesn't explain a guy like Jose Altuve, for instance."
   ]
  },
  {
   "cell_type": "code",
   "execution_count": 45,
   "metadata": {
    "collapsed": true
   },
   "outputs": [],
   "source": [
    "hitters_top = hitters[hitters['AdjStars']>=4]"
   ]
  },
  {
   "cell_type": "code",
   "execution_count": 46,
   "metadata": {
    "collapsed": false,
    "scrolled": false
   },
   "outputs": [
    {
     "data": {
      "image/png": "[encoded data removed]",
      "text/plain": [
       "<matplotlib.figure.Figure at 0x216ea119630>"
      ]
     },
     "metadata": {},
     "output_type": "display_data"
    }
   ],
   "source": [
    "# Heights and weights\n",
    "blah2 = sns.jointplot(x='height',y='weight', data=hitters_top, kind='kde',size=11, fontsize=12)\n",
    "blah2.set_axis_labels('Height (inches)', 'Weight (pounds)')\n",
    "pyplot.yticks(np.arange(140,300,5))\n",
    "pyplot.show(blah2)"
   ]
  },
  {
   "cell_type": "code",
   "execution_count": 47,
   "metadata": {
    "collapsed": false,
    "scrolled": false
   },
   "outputs": [
    {
     "data": {
      "image/png": "[encoded data removed]",
      "text/plain": [
       "<matplotlib.figure.Figure at 0x216e8805cf8>"
      ]
     },
     "metadata": {},
     "output_type": "display_data"
    }
   ],
   "source": [
    "# Ages and years of service\n",
    "blah3 = sns.jointplot(x='Age',y='YrsServ', data=hitters_top, kind='kde',size=11, fontsize=12)\n",
    "blah3.set_axis_labels('Age', 'Years of service')\n",
    "pyplot.show(blah3)"
   ]
  },
  {
   "cell_type": "markdown",
   "metadata": {},
   "source": [
    "This graph really agrees with my correllogram, in that age and years of service matter in the way you expect it to. It looks like the top performers are concentrated in their mid-to-late 20s and  3-8 years in the big leagues, but I doubt that really helps anyone make decisions."
   ]
  },
  {
   "cell_type": "code",
   "execution_count": 48,
   "metadata": {
    "collapsed": true
   },
   "outputs": [],
   "source": [
    "sal = hitters[(hitters['yearID']==2016) & (hitters['nameFirst']=='Salvador') & (hitters['nameLast']=='Perez')][['BA_Scaled','HR_Scaled','R_Scaled','SB_Scaled','RBI_Scaled','AdjStars']]\n",
    "gattis = hitters[(hitters['yearID']==2016) & (hitters['nameFirst']=='Evan') & (hitters['nameLast']=='Gattis')][['BA_Scaled','HR_Scaled','R_Scaled','SB_Scaled','RBI_Scaled','AdjStars']]"
   ]
  },
  {
   "cell_type": "markdown",
   "metadata": {},
   "source": [
    "# 9 Comparing a trade - Gattis vs Perez DELETE THIS"
   ]
  },
  {
   "cell_type": "code",
   "execution_count": 49,
   "metadata": {
    "collapsed": false
   },
   "outputs": [
    {
     "data": {
      "text/plain": [
       "array([[ 0.68058757,  0.95949296,  0.8776556 ,  0.33622581,  0.92560218,\n",
       "         0.99992145]])"
      ]
     },
     "execution_count": 49,
     "metadata": {},
     "output_type": "execute_result"
    }
   ],
   "source": [
    "norm.cdf(sal)"
   ]
  },
  {
   "cell_type": "code",
   "execution_count": 50,
   "metadata": {
    "collapsed": false
   },
   "outputs": [
    {
     "data": {
      "text/plain": [
       "array([[ 0.69017985,  0.99763454,  0.88438789,  0.45905222,  0.95694401,\n",
       "         0.99996671]])"
      ]
     },
     "execution_count": 50,
     "metadata": {},
     "output_type": "execute_result"
    }
   ],
   "source": [
    "norm.cdf(gattis)"
   ]
  },
  {
   "cell_type": "code",
   "execution_count": 51,
   "metadata": {
    "collapsed": false
   },
   "outputs": [
    {
     "name": "stdout",
     "output_type": "stream",
     "text": [
      "Perez:  [ 3.77956412]\n",
      "Gattis:  [ 3.98819851]\n"
     ]
    }
   ],
   "source": [
    "print('Perez: ',np.sum(norm.cdf(sal)[:,0:5], axis=1))\n",
    "print('Gattis: ',np.sum(norm.cdf(gattis)[:,0:5], axis=1))"
   ]
  },
  {
   "cell_type": "code",
   "execution_count": null,
   "metadata": {
    "collapsed": true
   },
   "outputs": [],
   "source": []
  }
 ],
 "metadata": {
  "kernelspec": {
   "display_name": "Python [conda root]",
   "language": "python",
   "name": "conda-root-py"
  },
  "language_info": {
   "codemirror_mode": {
    "name": "ipython",
    "version": 3
   },
   "file_extension": ".py",
   "mimetype": "text/x-python",
   "name": "python",
   "nbconvert_exporter": "python",
   "pygments_lexer": "ipython3",
   "version": "3.5.2"
  }
 },
 "nbformat": 4,
 "nbformat_minor": 2
}
