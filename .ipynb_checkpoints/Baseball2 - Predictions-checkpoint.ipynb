{
 "cells": [
  {
   "cell_type": "markdown",
   "metadata": {},
   "source": [
    "# Fantasy baseball - data mining\n",
    "The purpose of this database is to see what characteristics are associated with high fantasy ratings, by my hitters' metric that I did for Will."
   ]
  },
  {
   "cell_type": "markdown",
   "metadata": {},
   "source": [
    "# 1 Needed libraries"
   ]
  },
  {
   "cell_type": "code",
   "execution_count": 82,
   "metadata": {
    "collapsed": false
   },
   "outputs": [],
   "source": [
    "import pandas as pd\n",
    "import numpy as np\n",
    "from datetime import datetime"
   ]
  },
  {
   "cell_type": "markdown",
   "metadata": {},
   "source": [
    "# 2 Read in data"
   ]
  },
  {
   "cell_type": "code",
   "execution_count": 83,
   "metadata": {
    "collapsed": true
   },
   "outputs": [],
   "source": [
    "hitters = pd.read_csv(\"hitterdata2.csv\")"
   ]
  },
  {
   "cell_type": "code",
   "execution_count": 84,
   "metadata": {
    "collapsed": false
   },
   "outputs": [
    {
     "data": {
      "text/html": [
       "<div>\n",
       "<table border=\"1\" class=\"dataframe\">\n",
       "  <thead>\n",
       "    <tr style=\"text-align: right;\">\n",
       "      <th></th>\n",
       "      <th>birthYear</th>\n",
       "      <th>birthMonth</th>\n",
       "      <th>birthDay</th>\n",
       "      <th>nameFirst</th>\n",
       "      <th>nameLast</th>\n",
       "      <th>weight</th>\n",
       "      <th>height</th>\n",
       "      <th>bats</th>\n",
       "      <th>throws</th>\n",
       "      <th>debut</th>\n",
       "      <th>...</th>\n",
       "      <th>G_2b</th>\n",
       "      <th>G_3b</th>\n",
       "      <th>G_ss</th>\n",
       "      <th>G_lf</th>\n",
       "      <th>G_cf</th>\n",
       "      <th>G_rf</th>\n",
       "      <th>G_of</th>\n",
       "      <th>G_dh</th>\n",
       "      <th>G_ph</th>\n",
       "      <th>G_pr</th>\n",
       "    </tr>\n",
       "  </thead>\n",
       "  <tbody>\n",
       "    <tr>\n",
       "      <th>0</th>\n",
       "      <td>1954</td>\n",
       "      <td>9</td>\n",
       "      <td>8</td>\n",
       "      <td>Don</td>\n",
       "      <td>Aase</td>\n",
       "      <td>190</td>\n",
       "      <td>75</td>\n",
       "      <td>R</td>\n",
       "      <td>R</td>\n",
       "      <td>1977-07-26</td>\n",
       "      <td>...</td>\n",
       "      <td>0</td>\n",
       "      <td>0</td>\n",
       "      <td>0</td>\n",
       "      <td>0</td>\n",
       "      <td>0</td>\n",
       "      <td>0</td>\n",
       "      <td>0</td>\n",
       "      <td>0</td>\n",
       "      <td>0</td>\n",
       "      <td>0</td>\n",
       "    </tr>\n",
       "    <tr>\n",
       "      <th>1</th>\n",
       "      <td>1962</td>\n",
       "      <td>7</td>\n",
       "      <td>4</td>\n",
       "      <td>Johnny</td>\n",
       "      <td>Abrego</td>\n",
       "      <td>185</td>\n",
       "      <td>72</td>\n",
       "      <td>R</td>\n",
       "      <td>R</td>\n",
       "      <td>1985-09-04</td>\n",
       "      <td>...</td>\n",
       "      <td>0</td>\n",
       "      <td>0</td>\n",
       "      <td>0</td>\n",
       "      <td>0</td>\n",
       "      <td>0</td>\n",
       "      <td>0</td>\n",
       "      <td>0</td>\n",
       "      <td>0</td>\n",
       "      <td>0</td>\n",
       "      <td>0</td>\n",
       "    </tr>\n",
       "    <tr>\n",
       "      <th>2</th>\n",
       "      <td>1958</td>\n",
       "      <td>9</td>\n",
       "      <td>24</td>\n",
       "      <td>Jim</td>\n",
       "      <td>Acker</td>\n",
       "      <td>210</td>\n",
       "      <td>74</td>\n",
       "      <td>R</td>\n",
       "      <td>R</td>\n",
       "      <td>1983-04-07</td>\n",
       "      <td>...</td>\n",
       "      <td>0</td>\n",
       "      <td>0</td>\n",
       "      <td>0</td>\n",
       "      <td>0</td>\n",
       "      <td>0</td>\n",
       "      <td>0</td>\n",
       "      <td>0</td>\n",
       "      <td>0</td>\n",
       "      <td>0</td>\n",
       "      <td>0</td>\n",
       "    </tr>\n",
       "    <tr>\n",
       "      <th>3</th>\n",
       "      <td>1959</td>\n",
       "      <td>1</td>\n",
       "      <td>21</td>\n",
       "      <td>Ricky</td>\n",
       "      <td>Adams</td>\n",
       "      <td>180</td>\n",
       "      <td>74</td>\n",
       "      <td>R</td>\n",
       "      <td>R</td>\n",
       "      <td>1982-09-15</td>\n",
       "      <td>...</td>\n",
       "      <td>5</td>\n",
       "      <td>17</td>\n",
       "      <td>25</td>\n",
       "      <td>0</td>\n",
       "      <td>0</td>\n",
       "      <td>0</td>\n",
       "      <td>0</td>\n",
       "      <td>0</td>\n",
       "      <td>5</td>\n",
       "      <td>8</td>\n",
       "    </tr>\n",
       "    <tr>\n",
       "      <th>4</th>\n",
       "      <td>1958</td>\n",
       "      <td>2</td>\n",
       "      <td>23</td>\n",
       "      <td>Juan</td>\n",
       "      <td>Agosto</td>\n",
       "      <td>190</td>\n",
       "      <td>74</td>\n",
       "      <td>L</td>\n",
       "      <td>L</td>\n",
       "      <td>1981-09-07</td>\n",
       "      <td>...</td>\n",
       "      <td>0</td>\n",
       "      <td>0</td>\n",
       "      <td>0</td>\n",
       "      <td>0</td>\n",
       "      <td>0</td>\n",
       "      <td>0</td>\n",
       "      <td>0</td>\n",
       "      <td>0</td>\n",
       "      <td>0</td>\n",
       "      <td>0</td>\n",
       "    </tr>\n",
       "  </tbody>\n",
       "</table>\n",
       "<p>5 rows × 47 columns</p>\n",
       "</div>"
      ],
      "text/plain": [
       "   birthYear  birthMonth  birthDay nameFirst nameLast  weight  height bats  \\\n",
       "0       1954           9         8       Don     Aase     190      75    R   \n",
       "1       1962           7         4    Johnny   Abrego     185      72    R   \n",
       "2       1958           9        24       Jim    Acker     210      74    R   \n",
       "3       1959           1        21     Ricky    Adams     180      74    R   \n",
       "4       1958           2        23      Juan   Agosto     190      74    L   \n",
       "\n",
       "  throws       debut  ...  G_2b  G_3b G_ss  G_lf  G_cf  G_rf  G_of  G_dh  \\\n",
       "0      R  1977-07-26  ...     0     0    0     0     0     0     0     0   \n",
       "1      R  1985-09-04  ...     0     0    0     0     0     0     0     0   \n",
       "2      R  1983-04-07  ...     0     0    0     0     0     0     0     0   \n",
       "3      R  1982-09-15  ...     5    17   25     0     0     0     0     0   \n",
       "4      L  1981-09-07  ...     0     0    0     0     0     0     0     0   \n",
       "\n",
       "   G_ph  G_pr  \n",
       "0     0     0  \n",
       "1     0     0  \n",
       "2     0     0  \n",
       "3     5     8  \n",
       "4     0     0  \n",
       "\n",
       "[5 rows x 47 columns]"
      ]
     },
     "execution_count": 84,
     "metadata": {},
     "output_type": "execute_result"
    }
   ],
   "source": [
    "hitters.head()"
   ]
  },
  {
   "cell_type": "code",
   "execution_count": 28,
   "metadata": {
    "collapsed": false
   },
   "outputs": [
    {
     "data": {
      "text/plain": [
       "Index(['birthYear', 'birthMonth', 'birthDay', 'nameFirst', 'nameLast',\n",
       "       'weight', 'height', 'bats', 'throws', 'debut', 'yearID', 'teamID', 'G',\n",
       "       'AB', 'R', 'H', '2B', '3B', 'HR', 'RBI', 'SB', 'CS', 'BB', 'SO', 'IBB',\n",
       "       'HBP', 'SH', 'SF', 'GIDP'],\n",
       "      dtype='object')"
      ]
     },
     "execution_count": 28,
     "metadata": {},
     "output_type": "execute_result"
    }
   ],
   "source": [
    "hitters.columns"
   ]
  },
  {
   "cell_type": "code",
   "execution_count": 29,
   "metadata": {
    "collapsed": false
   },
   "outputs": [
    {
     "data": {
      "text/html": [
       "<div>\n",
       "<table border=\"1\" class=\"dataframe\">\n",
       "  <thead>\n",
       "    <tr style=\"text-align: right;\">\n",
       "      <th></th>\n",
       "      <th>birthYear</th>\n",
       "      <th>birthMonth</th>\n",
       "      <th>birthDay</th>\n",
       "      <th>weight</th>\n",
       "      <th>height</th>\n",
       "      <th>yearID</th>\n",
       "      <th>G</th>\n",
       "      <th>AB</th>\n",
       "      <th>R</th>\n",
       "      <th>H</th>\n",
       "      <th>...</th>\n",
       "      <th>RBI</th>\n",
       "      <th>SB</th>\n",
       "      <th>CS</th>\n",
       "      <th>BB</th>\n",
       "      <th>SO</th>\n",
       "      <th>IBB</th>\n",
       "      <th>HBP</th>\n",
       "      <th>SH</th>\n",
       "      <th>SF</th>\n",
       "      <th>GIDP</th>\n",
       "    </tr>\n",
       "  </thead>\n",
       "  <tbody>\n",
       "    <tr>\n",
       "      <th>count</th>\n",
       "      <td>37402.000000</td>\n",
       "      <td>37402.000000</td>\n",
       "      <td>37402.000000</td>\n",
       "      <td>37402.000000</td>\n",
       "      <td>37402.000000</td>\n",
       "      <td>37402.000000</td>\n",
       "      <td>37402.000000</td>\n",
       "      <td>37402.000000</td>\n",
       "      <td>37402.000000</td>\n",
       "      <td>37402.000000</td>\n",
       "      <td>...</td>\n",
       "      <td>37402.000000</td>\n",
       "      <td>37402.000000</td>\n",
       "      <td>37402.000000</td>\n",
       "      <td>37402.000000</td>\n",
       "      <td>37402.000000</td>\n",
       "      <td>37402.000000</td>\n",
       "      <td>37402.000000</td>\n",
       "      <td>37402.000000</td>\n",
       "      <td>37402.000000</td>\n",
       "      <td>37402.000000</td>\n",
       "    </tr>\n",
       "    <tr>\n",
       "      <th>mean</th>\n",
       "      <td>1972.796615</td>\n",
       "      <td>6.674536</td>\n",
       "      <td>15.904417</td>\n",
       "      <td>199.627854</td>\n",
       "      <td>73.510106</td>\n",
       "      <td>2001.466793</td>\n",
       "      <td>55.228036</td>\n",
       "      <td>134.240923</td>\n",
       "      <td>17.916983</td>\n",
       "      <td>35.102107</td>\n",
       "      <td>...</td>\n",
       "      <td>16.977140</td>\n",
       "      <td>2.559088</td>\n",
       "      <td>1.102160</td>\n",
       "      <td>12.910486</td>\n",
       "      <td>25.649564</td>\n",
       "      <td>1.055933</td>\n",
       "      <td>1.195364</td>\n",
       "      <td>1.320732</td>\n",
       "      <td>1.113336</td>\n",
       "      <td>3.013181</td>\n",
       "    </tr>\n",
       "    <tr>\n",
       "      <th>std</th>\n",
       "      <td>9.972674</td>\n",
       "      <td>3.441114</td>\n",
       "      <td>8.733498</td>\n",
       "      <td>22.437980</td>\n",
       "      <td>2.281520</td>\n",
       "      <td>9.107584</td>\n",
       "      <td>47.459304</td>\n",
       "      <td>189.118473</td>\n",
       "      <td>28.186831</td>\n",
       "      <td>52.908314</td>\n",
       "      <td>...</td>\n",
       "      <td>27.685799</td>\n",
       "      <td>6.870060</td>\n",
       "      <td>2.461656</td>\n",
       "      <td>21.431183</td>\n",
       "      <td>35.819424</td>\n",
       "      <td>2.833277</td>\n",
       "      <td>2.556699</td>\n",
       "      <td>2.553680</td>\n",
       "      <td>2.044599</td>\n",
       "      <td>4.909781</td>\n",
       "    </tr>\n",
       "    <tr>\n",
       "      <th>min</th>\n",
       "      <td>1939.000000</td>\n",
       "      <td>1.000000</td>\n",
       "      <td>1.000000</td>\n",
       "      <td>140.000000</td>\n",
       "      <td>66.000000</td>\n",
       "      <td>1985.000000</td>\n",
       "      <td>1.000000</td>\n",
       "      <td>0.000000</td>\n",
       "      <td>0.000000</td>\n",
       "      <td>0.000000</td>\n",
       "      <td>...</td>\n",
       "      <td>0.000000</td>\n",
       "      <td>0.000000</td>\n",
       "      <td>0.000000</td>\n",
       "      <td>0.000000</td>\n",
       "      <td>0.000000</td>\n",
       "      <td>0.000000</td>\n",
       "      <td>0.000000</td>\n",
       "      <td>0.000000</td>\n",
       "      <td>0.000000</td>\n",
       "      <td>0.000000</td>\n",
       "    </tr>\n",
       "    <tr>\n",
       "      <th>25%</th>\n",
       "      <td>1965.000000</td>\n",
       "      <td>4.000000</td>\n",
       "      <td>8.000000</td>\n",
       "      <td>185.000000</td>\n",
       "      <td>72.000000</td>\n",
       "      <td>1994.000000</td>\n",
       "      <td>16.000000</td>\n",
       "      <td>0.000000</td>\n",
       "      <td>0.000000</td>\n",
       "      <td>0.000000</td>\n",
       "      <td>...</td>\n",
       "      <td>0.000000</td>\n",
       "      <td>0.000000</td>\n",
       "      <td>0.000000</td>\n",
       "      <td>0.000000</td>\n",
       "      <td>0.000000</td>\n",
       "      <td>0.000000</td>\n",
       "      <td>0.000000</td>\n",
       "      <td>0.000000</td>\n",
       "      <td>0.000000</td>\n",
       "      <td>0.000000</td>\n",
       "    </tr>\n",
       "    <tr>\n",
       "      <th>50%</th>\n",
       "      <td>1973.000000</td>\n",
       "      <td>7.000000</td>\n",
       "      <td>16.000000</td>\n",
       "      <td>200.000000</td>\n",
       "      <td>74.000000</td>\n",
       "      <td>2002.000000</td>\n",
       "      <td>37.000000</td>\n",
       "      <td>26.000000</td>\n",
       "      <td>2.000000</td>\n",
       "      <td>4.000000</td>\n",
       "      <td>...</td>\n",
       "      <td>1.000000</td>\n",
       "      <td>0.000000</td>\n",
       "      <td>0.000000</td>\n",
       "      <td>1.000000</td>\n",
       "      <td>7.000000</td>\n",
       "      <td>0.000000</td>\n",
       "      <td>0.000000</td>\n",
       "      <td>0.000000</td>\n",
       "      <td>0.000000</td>\n",
       "      <td>0.000000</td>\n",
       "    </tr>\n",
       "    <tr>\n",
       "      <th>75%</th>\n",
       "      <td>1981.000000</td>\n",
       "      <td>10.000000</td>\n",
       "      <td>23.000000</td>\n",
       "      <td>215.000000</td>\n",
       "      <td>75.000000</td>\n",
       "      <td>2009.000000</td>\n",
       "      <td>85.000000</td>\n",
       "      <td>224.000000</td>\n",
       "      <td>27.000000</td>\n",
       "      <td>55.000000</td>\n",
       "      <td>...</td>\n",
       "      <td>24.000000</td>\n",
       "      <td>1.000000</td>\n",
       "      <td>1.000000</td>\n",
       "      <td>19.000000</td>\n",
       "      <td>40.000000</td>\n",
       "      <td>1.000000</td>\n",
       "      <td>1.000000</td>\n",
       "      <td>1.000000</td>\n",
       "      <td>1.000000</td>\n",
       "      <td>4.000000</td>\n",
       "    </tr>\n",
       "    <tr>\n",
       "      <th>max</th>\n",
       "      <td>1996.000000</td>\n",
       "      <td>12.000000</td>\n",
       "      <td>31.000000</td>\n",
       "      <td>320.000000</td>\n",
       "      <td>83.000000</td>\n",
       "      <td>2016.000000</td>\n",
       "      <td>163.000000</td>\n",
       "      <td>716.000000</td>\n",
       "      <td>152.000000</td>\n",
       "      <td>262.000000</td>\n",
       "      <td>...</td>\n",
       "      <td>165.000000</td>\n",
       "      <td>110.000000</td>\n",
       "      <td>29.000000</td>\n",
       "      <td>232.000000</td>\n",
       "      <td>223.000000</td>\n",
       "      <td>120.000000</td>\n",
       "      <td>35.000000</td>\n",
       "      <td>39.000000</td>\n",
       "      <td>17.000000</td>\n",
       "      <td>35.000000</td>\n",
       "    </tr>\n",
       "  </tbody>\n",
       "</table>\n",
       "<p>8 rows × 23 columns</p>\n",
       "</div>"
      ],
      "text/plain": [
       "          birthYear    birthMonth      birthDay        weight        height  \\\n",
       "count  37402.000000  37402.000000  37402.000000  37402.000000  37402.000000   \n",
       "mean    1972.796615      6.674536     15.904417    199.627854     73.510106   \n",
       "std        9.972674      3.441114      8.733498     22.437980      2.281520   \n",
       "min     1939.000000      1.000000      1.000000    140.000000     66.000000   \n",
       "25%     1965.000000      4.000000      8.000000    185.000000     72.000000   \n",
       "50%     1973.000000      7.000000     16.000000    200.000000     74.000000   \n",
       "75%     1981.000000     10.000000     23.000000    215.000000     75.000000   \n",
       "max     1996.000000     12.000000     31.000000    320.000000     83.000000   \n",
       "\n",
       "             yearID             G            AB             R             H  \\\n",
       "count  37402.000000  37402.000000  37402.000000  37402.000000  37402.000000   \n",
       "mean    2001.466793     55.228036    134.240923     17.916983     35.102107   \n",
       "std        9.107584     47.459304    189.118473     28.186831     52.908314   \n",
       "min     1985.000000      1.000000      0.000000      0.000000      0.000000   \n",
       "25%     1994.000000     16.000000      0.000000      0.000000      0.000000   \n",
       "50%     2002.000000     37.000000     26.000000      2.000000      4.000000   \n",
       "75%     2009.000000     85.000000    224.000000     27.000000     55.000000   \n",
       "max     2016.000000    163.000000    716.000000    152.000000    262.000000   \n",
       "\n",
       "           ...                RBI            SB            CS            BB  \\\n",
       "count      ...       37402.000000  37402.000000  37402.000000  37402.000000   \n",
       "mean       ...          16.977140      2.559088      1.102160     12.910486   \n",
       "std        ...          27.685799      6.870060      2.461656     21.431183   \n",
       "min        ...           0.000000      0.000000      0.000000      0.000000   \n",
       "25%        ...           0.000000      0.000000      0.000000      0.000000   \n",
       "50%        ...           1.000000      0.000000      0.000000      1.000000   \n",
       "75%        ...          24.000000      1.000000      1.000000     19.000000   \n",
       "max        ...         165.000000    110.000000     29.000000    232.000000   \n",
       "\n",
       "                 SO           IBB           HBP            SH            SF  \\\n",
       "count  37402.000000  37402.000000  37402.000000  37402.000000  37402.000000   \n",
       "mean      25.649564      1.055933      1.195364      1.320732      1.113336   \n",
       "std       35.819424      2.833277      2.556699      2.553680      2.044599   \n",
       "min        0.000000      0.000000      0.000000      0.000000      0.000000   \n",
       "25%        0.000000      0.000000      0.000000      0.000000      0.000000   \n",
       "50%        7.000000      0.000000      0.000000      0.000000      0.000000   \n",
       "75%       40.000000      1.000000      1.000000      1.000000      1.000000   \n",
       "max      223.000000    120.000000     35.000000     39.000000     17.000000   \n",
       "\n",
       "               GIDP  \n",
       "count  37402.000000  \n",
       "mean       3.013181  \n",
       "std        4.909781  \n",
       "min        0.000000  \n",
       "25%        0.000000  \n",
       "50%        0.000000  \n",
       "75%        4.000000  \n",
       "max       35.000000  \n",
       "\n",
       "[8 rows x 23 columns]"
      ]
     },
     "execution_count": 29,
     "metadata": {},
     "output_type": "execute_result"
    }
   ],
   "source": [
    "hitters.describe()"
   ]
  },
  {
   "cell_type": "code",
   "execution_count": 30,
   "metadata": {
    "collapsed": false
   },
   "outputs": [
    {
     "data": {
      "text/plain": [
       "birthYear      int64\n",
       "birthMonth     int64\n",
       "birthDay       int64\n",
       "nameFirst     object\n",
       "nameLast      object\n",
       "weight         int64\n",
       "height         int64\n",
       "bats          object\n",
       "throws        object\n",
       "debut         object\n",
       "yearID         int64\n",
       "teamID        object\n",
       "G              int64\n",
       "AB             int64\n",
       "R              int64\n",
       "H              int64\n",
       "2B             int64\n",
       "3B             int64\n",
       "HR             int64\n",
       "RBI            int64\n",
       "SB             int64\n",
       "CS             int64\n",
       "BB             int64\n",
       "SO             int64\n",
       "IBB            int64\n",
       "HBP            int64\n",
       "SH             int64\n",
       "SF             int64\n",
       "GIDP           int64\n",
       "dtype: object"
      ]
     },
     "execution_count": 30,
     "metadata": {},
     "output_type": "execute_result"
    }
   ],
   "source": [
    "hitters.dtypes"
   ]
  },
  {
   "cell_type": "markdown",
   "metadata": {},
   "source": [
    "The key on this dataset is the player ID and year."
   ]
  },
  {
   "cell_type": "markdown",
   "metadata": {},
   "source": [
    "# 3 Cleanup"
   ]
  },
  {
   "cell_type": "markdown",
   "metadata": {},
   "source": [
    "The following tasks need doing:\n",
    "\n",
    "* Figure out the primary positions of each player, and exclude those who are primarily pitchers\n",
    "* Replace the three birth date columns with a single date\n",
    "* Change the debut column into a date\n",
    "* Add a column representing the season start date (assumed to be April 10)"
   ]
  },
  {
   "cell_type": "code",
   "execution_count": 81,
   "metadata": {
    "collapsed": false
   },
   "outputs": [
    {
     "ename": "KeyError",
     "evalue": "\"['G_p' 'G_c' 'G_1b' 'G_2b' 'G_3b' 'G_ss' 'G_lf' 'G_cf' 'G_rf' 'G_of' 'G_dh'] not in index\"",
     "output_type": "error",
     "traceback": [
      "\u001b[1;31m---------------------------------------------------------------------------\u001b[0m",
      "\u001b[1;31mKeyError\u001b[0m                                  Traceback (most recent call last)",
      "\u001b[1;32m<ipython-input-81-ab9067cfb053>\u001b[0m in \u001b[0;36m<module>\u001b[1;34m()\u001b[0m\n\u001b[0;32m      1\u001b[0m \u001b[1;31m# Get primary position\u001b[0m\u001b[1;33m\u001b[0m\u001b[1;33m\u001b[0m\u001b[0m\n\u001b[0;32m      2\u001b[0m \u001b[0mgamescols\u001b[0m \u001b[1;33m=\u001b[0m \u001b[1;33m[\u001b[0m\u001b[1;34m'G_p'\u001b[0m\u001b[1;33m,\u001b[0m \u001b[1;34m'G_c'\u001b[0m\u001b[1;33m,\u001b[0m \u001b[1;34m'G_1b'\u001b[0m\u001b[1;33m,\u001b[0m \u001b[1;34m'G_2b'\u001b[0m\u001b[1;33m,\u001b[0m \u001b[1;34m'G_3b'\u001b[0m\u001b[1;33m,\u001b[0m \u001b[1;34m'G_ss'\u001b[0m\u001b[1;33m,\u001b[0m \u001b[1;34m'G_lf'\u001b[0m\u001b[1;33m,\u001b[0m \u001b[1;34m'G_cf'\u001b[0m\u001b[1;33m,\u001b[0m \u001b[1;34m'G_rf'\u001b[0m\u001b[1;33m,\u001b[0m \u001b[1;34m'G_of'\u001b[0m\u001b[1;33m,\u001b[0m \u001b[1;34m'G_dh'\u001b[0m\u001b[1;33m]\u001b[0m\u001b[1;33m\u001b[0m\u001b[0m\n\u001b[1;32m----> 3\u001b[1;33m \u001b[0mprim_pos_index\u001b[0m \u001b[1;33m=\u001b[0m \u001b[0mnp\u001b[0m\u001b[1;33m.\u001b[0m\u001b[0margmax\u001b[0m\u001b[1;33m(\u001b[0m\u001b[0mhitters\u001b[0m\u001b[1;33m[\u001b[0m\u001b[0mgamescols\u001b[0m\u001b[1;33m]\u001b[0m\u001b[1;33m.\u001b[0m\u001b[0mas_matrix\u001b[0m\u001b[1;33m(\u001b[0m\u001b[1;33m)\u001b[0m\u001b[1;33m,\u001b[0m \u001b[0maxis\u001b[0m\u001b[1;33m=\u001b[0m\u001b[1;36m1\u001b[0m\u001b[1;33m)\u001b[0m\u001b[1;33m\u001b[0m\u001b[0m\n\u001b[0m\u001b[0;32m      4\u001b[0m \u001b[0mprim_pos\u001b[0m \u001b[1;33m=\u001b[0m \u001b[1;33m[\u001b[0m\u001b[1;33m]\u001b[0m\u001b[1;33m\u001b[0m\u001b[0m\n\u001b[0;32m      5\u001b[0m \u001b[1;32mfor\u001b[0m \u001b[0mi\u001b[0m \u001b[1;32min\u001b[0m \u001b[0mrange\u001b[0m\u001b[1;33m(\u001b[0m\u001b[0mlen\u001b[0m\u001b[1;33m(\u001b[0m\u001b[0mhitters\u001b[0m\u001b[1;33m)\u001b[0m\u001b[1;33m)\u001b[0m\u001b[1;33m:\u001b[0m\u001b[1;33m\u001b[0m\u001b[0m\n",
      "\u001b[1;32mC:\\Users\\Jason\\Anaconda3\\lib\\site-packages\\pandas\\core\\frame.py\u001b[0m in \u001b[0;36m__getitem__\u001b[1;34m(self, key)\u001b[0m\n\u001b[0;32m   2051\u001b[0m         \u001b[1;32mif\u001b[0m \u001b[0misinstance\u001b[0m\u001b[1;33m(\u001b[0m\u001b[0mkey\u001b[0m\u001b[1;33m,\u001b[0m \u001b[1;33m(\u001b[0m\u001b[0mSeries\u001b[0m\u001b[1;33m,\u001b[0m \u001b[0mnp\u001b[0m\u001b[1;33m.\u001b[0m\u001b[0mndarray\u001b[0m\u001b[1;33m,\u001b[0m \u001b[0mIndex\u001b[0m\u001b[1;33m,\u001b[0m \u001b[0mlist\u001b[0m\u001b[1;33m)\u001b[0m\u001b[1;33m)\u001b[0m\u001b[1;33m:\u001b[0m\u001b[1;33m\u001b[0m\u001b[0m\n\u001b[0;32m   2052\u001b[0m             \u001b[1;31m# either boolean or fancy integer index\u001b[0m\u001b[1;33m\u001b[0m\u001b[1;33m\u001b[0m\u001b[0m\n\u001b[1;32m-> 2053\u001b[1;33m             \u001b[1;32mreturn\u001b[0m \u001b[0mself\u001b[0m\u001b[1;33m.\u001b[0m\u001b[0m_getitem_array\u001b[0m\u001b[1;33m(\u001b[0m\u001b[0mkey\u001b[0m\u001b[1;33m)\u001b[0m\u001b[1;33m\u001b[0m\u001b[0m\n\u001b[0m\u001b[0;32m   2054\u001b[0m         \u001b[1;32melif\u001b[0m \u001b[0misinstance\u001b[0m\u001b[1;33m(\u001b[0m\u001b[0mkey\u001b[0m\u001b[1;33m,\u001b[0m \u001b[0mDataFrame\u001b[0m\u001b[1;33m)\u001b[0m\u001b[1;33m:\u001b[0m\u001b[1;33m\u001b[0m\u001b[0m\n\u001b[0;32m   2055\u001b[0m             \u001b[1;32mreturn\u001b[0m \u001b[0mself\u001b[0m\u001b[1;33m.\u001b[0m\u001b[0m_getitem_frame\u001b[0m\u001b[1;33m(\u001b[0m\u001b[0mkey\u001b[0m\u001b[1;33m)\u001b[0m\u001b[1;33m\u001b[0m\u001b[0m\n",
      "\u001b[1;32mC:\\Users\\Jason\\Anaconda3\\lib\\site-packages\\pandas\\core\\frame.py\u001b[0m in \u001b[0;36m_getitem_array\u001b[1;34m(self, key)\u001b[0m\n\u001b[0;32m   2095\u001b[0m             \u001b[1;32mreturn\u001b[0m \u001b[0mself\u001b[0m\u001b[1;33m.\u001b[0m\u001b[0mtake\u001b[0m\u001b[1;33m(\u001b[0m\u001b[0mindexer\u001b[0m\u001b[1;33m,\u001b[0m \u001b[0maxis\u001b[0m\u001b[1;33m=\u001b[0m\u001b[1;36m0\u001b[0m\u001b[1;33m,\u001b[0m \u001b[0mconvert\u001b[0m\u001b[1;33m=\u001b[0m\u001b[1;32mFalse\u001b[0m\u001b[1;33m)\u001b[0m\u001b[1;33m\u001b[0m\u001b[0m\n\u001b[0;32m   2096\u001b[0m         \u001b[1;32melse\u001b[0m\u001b[1;33m:\u001b[0m\u001b[1;33m\u001b[0m\u001b[0m\n\u001b[1;32m-> 2097\u001b[1;33m             \u001b[0mindexer\u001b[0m \u001b[1;33m=\u001b[0m \u001b[0mself\u001b[0m\u001b[1;33m.\u001b[0m\u001b[0mix\u001b[0m\u001b[1;33m.\u001b[0m\u001b[0m_convert_to_indexer\u001b[0m\u001b[1;33m(\u001b[0m\u001b[0mkey\u001b[0m\u001b[1;33m,\u001b[0m \u001b[0maxis\u001b[0m\u001b[1;33m=\u001b[0m\u001b[1;36m1\u001b[0m\u001b[1;33m)\u001b[0m\u001b[1;33m\u001b[0m\u001b[0m\n\u001b[0m\u001b[0;32m   2098\u001b[0m             \u001b[1;32mreturn\u001b[0m \u001b[0mself\u001b[0m\u001b[1;33m.\u001b[0m\u001b[0mtake\u001b[0m\u001b[1;33m(\u001b[0m\u001b[0mindexer\u001b[0m\u001b[1;33m,\u001b[0m \u001b[0maxis\u001b[0m\u001b[1;33m=\u001b[0m\u001b[1;36m1\u001b[0m\u001b[1;33m,\u001b[0m \u001b[0mconvert\u001b[0m\u001b[1;33m=\u001b[0m\u001b[1;32mTrue\u001b[0m\u001b[1;33m)\u001b[0m\u001b[1;33m\u001b[0m\u001b[0m\n\u001b[0;32m   2099\u001b[0m \u001b[1;33m\u001b[0m\u001b[0m\n",
      "\u001b[1;32mC:\\Users\\Jason\\Anaconda3\\lib\\site-packages\\pandas\\core\\indexing.py\u001b[0m in \u001b[0;36m_convert_to_indexer\u001b[1;34m(self, obj, axis, is_setter)\u001b[0m\n\u001b[0;32m   1228\u001b[0m                 \u001b[0mmask\u001b[0m \u001b[1;33m=\u001b[0m \u001b[0mcheck\u001b[0m \u001b[1;33m==\u001b[0m \u001b[1;33m-\u001b[0m\u001b[1;36m1\u001b[0m\u001b[1;33m\u001b[0m\u001b[0m\n\u001b[0;32m   1229\u001b[0m                 \u001b[1;32mif\u001b[0m \u001b[0mmask\u001b[0m\u001b[1;33m.\u001b[0m\u001b[0many\u001b[0m\u001b[1;33m(\u001b[0m\u001b[1;33m)\u001b[0m\u001b[1;33m:\u001b[0m\u001b[1;33m\u001b[0m\u001b[0m\n\u001b[1;32m-> 1230\u001b[1;33m                     \u001b[1;32mraise\u001b[0m \u001b[0mKeyError\u001b[0m\u001b[1;33m(\u001b[0m\u001b[1;34m'%s not in index'\u001b[0m \u001b[1;33m%\u001b[0m \u001b[0mobjarr\u001b[0m\u001b[1;33m[\u001b[0m\u001b[0mmask\u001b[0m\u001b[1;33m]\u001b[0m\u001b[1;33m)\u001b[0m\u001b[1;33m\u001b[0m\u001b[0m\n\u001b[0m\u001b[0;32m   1231\u001b[0m \u001b[1;33m\u001b[0m\u001b[0m\n\u001b[0;32m   1232\u001b[0m                 \u001b[1;32mreturn\u001b[0m \u001b[0m_values_from_object\u001b[0m\u001b[1;33m(\u001b[0m\u001b[0mindexer\u001b[0m\u001b[1;33m)\u001b[0m\u001b[1;33m\u001b[0m\u001b[0m\n",
      "\u001b[1;31mKeyError\u001b[0m: \"['G_p' 'G_c' 'G_1b' 'G_2b' 'G_3b' 'G_ss' 'G_lf' 'G_cf' 'G_rf' 'G_of' 'G_dh'] not in index\""
     ]
    }
   ],
   "source": [
    "# Get primary position\n",
    "gamescols = ['G_p', 'G_c', 'G_1b', 'G_2b', 'G_3b', 'G_ss', 'G_lf', 'G_cf', 'G_rf', 'G_of', 'G_dh']\n",
    "prim_pos_index = np.argmax(hitters[gamescols].as_matrix(), axis=1)\n",
    "prim_pos = []\n",
    "for i in range(len(hitters)):\n",
    "    prim_pos.append(gamescols[prim_pos_index[i]][2:])\n",
    "hitters['prim_pos'] = prim_pos"
   ]
  },
  {
   "cell_type": "code",
   "execution_count": 31,
   "metadata": {
    "collapsed": false
   },
   "outputs": [],
   "source": [
    "# Replace three birth date columns with a single date\n",
    "hitters['birthDate'] = hitters[['birthYear','birthMonth','birthDay']].apply(lambda s: datetime(*s),axis=1)"
   ]
  },
  {
   "cell_type": "code",
   "execution_count": 32,
   "metadata": {
    "collapsed": false
   },
   "outputs": [],
   "source": [
    "hitters = hitters.drop(labels=['birthYear','birthMonth','birthDay'], axis=1)"
   ]
  },
  {
   "cell_type": "code",
   "execution_count": 39,
   "metadata": {
    "collapsed": false
   },
   "outputs": [],
   "source": [
    "def makeSeasonDate(x):\n",
    "    s = '{0}-{1}-{2}'.format(x, 4, 10)\n",
    "    dt = datetime.strptime(s, '%Y-%m-%d')\n",
    "    return dt"
   ]
  },
  {
   "cell_type": "code",
   "execution_count": 45,
   "metadata": {
    "collapsed": false
   },
   "outputs": [],
   "source": [
    "hitters['seasonDate'] = hitters['yearID'].apply(makeSeasonDate)"
   ]
  },
  {
   "cell_type": "code",
   "execution_count": 64,
   "metadata": {
    "collapsed": false
   },
   "outputs": [],
   "source": [
    "hitters['debut'] = hitters['debut'].apply(lambda x: datetime.strptime(x, '%Y-%M-%d'))"
   ]
  },
  {
   "cell_type": "code",
   "execution_count": 65,
   "metadata": {
    "collapsed": false
   },
   "outputs": [
    {
     "data": {
      "text/html": [
       "<div>\n",
       "<table border=\"1\" class=\"dataframe\">\n",
       "  <thead>\n",
       "    <tr style=\"text-align: right;\">\n",
       "      <th></th>\n",
       "      <th>nameFirst</th>\n",
       "      <th>nameLast</th>\n",
       "      <th>weight</th>\n",
       "      <th>height</th>\n",
       "      <th>bats</th>\n",
       "      <th>throws</th>\n",
       "      <th>debut</th>\n",
       "      <th>yearID</th>\n",
       "      <th>teamID</th>\n",
       "      <th>G</th>\n",
       "      <th>...</th>\n",
       "      <th>BB</th>\n",
       "      <th>SO</th>\n",
       "      <th>IBB</th>\n",
       "      <th>HBP</th>\n",
       "      <th>SH</th>\n",
       "      <th>SF</th>\n",
       "      <th>GIDP</th>\n",
       "      <th>birthDate</th>\n",
       "      <th>seasonDate</th>\n",
       "      <th>Age</th>\n",
       "    </tr>\n",
       "  </thead>\n",
       "  <tbody>\n",
       "    <tr>\n",
       "      <th>0</th>\n",
       "      <td>David</td>\n",
       "      <td>Aardsma</td>\n",
       "      <td>215</td>\n",
       "      <td>75</td>\n",
       "      <td>R</td>\n",
       "      <td>R</td>\n",
       "      <td>2004-01-06 00:04:00</td>\n",
       "      <td>2004</td>\n",
       "      <td>SFN</td>\n",
       "      <td>11</td>\n",
       "      <td>...</td>\n",
       "      <td>0</td>\n",
       "      <td>0</td>\n",
       "      <td>0</td>\n",
       "      <td>0</td>\n",
       "      <td>0</td>\n",
       "      <td>0</td>\n",
       "      <td>0</td>\n",
       "      <td>1981-12-27</td>\n",
       "      <td>2004-04-10</td>\n",
       "      <td>22.0</td>\n",
       "    </tr>\n",
       "    <tr>\n",
       "      <th>1</th>\n",
       "      <td>David</td>\n",
       "      <td>Aardsma</td>\n",
       "      <td>215</td>\n",
       "      <td>75</td>\n",
       "      <td>R</td>\n",
       "      <td>R</td>\n",
       "      <td>2004-01-06 00:04:00</td>\n",
       "      <td>2006</td>\n",
       "      <td>CHN</td>\n",
       "      <td>45</td>\n",
       "      <td>...</td>\n",
       "      <td>0</td>\n",
       "      <td>0</td>\n",
       "      <td>0</td>\n",
       "      <td>0</td>\n",
       "      <td>1</td>\n",
       "      <td>0</td>\n",
       "      <td>0</td>\n",
       "      <td>1981-12-27</td>\n",
       "      <td>2006-04-10</td>\n",
       "      <td>24.0</td>\n",
       "    </tr>\n",
       "    <tr>\n",
       "      <th>2</th>\n",
       "      <td>David</td>\n",
       "      <td>Aardsma</td>\n",
       "      <td>215</td>\n",
       "      <td>75</td>\n",
       "      <td>R</td>\n",
       "      <td>R</td>\n",
       "      <td>2004-01-06 00:04:00</td>\n",
       "      <td>2007</td>\n",
       "      <td>CHA</td>\n",
       "      <td>25</td>\n",
       "      <td>...</td>\n",
       "      <td>0</td>\n",
       "      <td>0</td>\n",
       "      <td>0</td>\n",
       "      <td>0</td>\n",
       "      <td>0</td>\n",
       "      <td>0</td>\n",
       "      <td>0</td>\n",
       "      <td>1981-12-27</td>\n",
       "      <td>2007-04-10</td>\n",
       "      <td>25.0</td>\n",
       "    </tr>\n",
       "    <tr>\n",
       "      <th>3</th>\n",
       "      <td>David</td>\n",
       "      <td>Aardsma</td>\n",
       "      <td>215</td>\n",
       "      <td>75</td>\n",
       "      <td>R</td>\n",
       "      <td>R</td>\n",
       "      <td>2004-01-06 00:04:00</td>\n",
       "      <td>2008</td>\n",
       "      <td>BOS</td>\n",
       "      <td>47</td>\n",
       "      <td>...</td>\n",
       "      <td>0</td>\n",
       "      <td>1</td>\n",
       "      <td>0</td>\n",
       "      <td>0</td>\n",
       "      <td>0</td>\n",
       "      <td>0</td>\n",
       "      <td>0</td>\n",
       "      <td>1981-12-27</td>\n",
       "      <td>2008-04-10</td>\n",
       "      <td>26.0</td>\n",
       "    </tr>\n",
       "    <tr>\n",
       "      <th>4</th>\n",
       "      <td>David</td>\n",
       "      <td>Aardsma</td>\n",
       "      <td>215</td>\n",
       "      <td>75</td>\n",
       "      <td>R</td>\n",
       "      <td>R</td>\n",
       "      <td>2004-01-06 00:04:00</td>\n",
       "      <td>2009</td>\n",
       "      <td>SEA</td>\n",
       "      <td>73</td>\n",
       "      <td>...</td>\n",
       "      <td>0</td>\n",
       "      <td>0</td>\n",
       "      <td>0</td>\n",
       "      <td>0</td>\n",
       "      <td>0</td>\n",
       "      <td>0</td>\n",
       "      <td>0</td>\n",
       "      <td>1981-12-27</td>\n",
       "      <td>2009-04-10</td>\n",
       "      <td>27.0</td>\n",
       "    </tr>\n",
       "  </tbody>\n",
       "</table>\n",
       "<p>5 rows × 29 columns</p>\n",
       "</div>"
      ],
      "text/plain": [
       "  nameFirst nameLast  weight  height bats throws               debut  yearID  \\\n",
       "0     David  Aardsma     215      75    R      R 2004-01-06 00:04:00    2004   \n",
       "1     David  Aardsma     215      75    R      R 2004-01-06 00:04:00    2006   \n",
       "2     David  Aardsma     215      75    R      R 2004-01-06 00:04:00    2007   \n",
       "3     David  Aardsma     215      75    R      R 2004-01-06 00:04:00    2008   \n",
       "4     David  Aardsma     215      75    R      R 2004-01-06 00:04:00    2009   \n",
       "\n",
       "  teamID   G  ...   BB  SO  IBB  HBP  SH  SF  GIDP  birthDate  seasonDate  \\\n",
       "0    SFN  11  ...    0   0    0    0   0   0     0 1981-12-27  2004-04-10   \n",
       "1    CHN  45  ...    0   0    0    0   1   0     0 1981-12-27  2006-04-10   \n",
       "2    CHA  25  ...    0   0    0    0   0   0     0 1981-12-27  2007-04-10   \n",
       "3    BOS  47  ...    0   1    0    0   0   0     0 1981-12-27  2008-04-10   \n",
       "4    SEA  73  ...    0   0    0    0   0   0     0 1981-12-27  2009-04-10   \n",
       "\n",
       "    Age  \n",
       "0  22.0  \n",
       "1  24.0  \n",
       "2  25.0  \n",
       "3  26.0  \n",
       "4  27.0  \n",
       "\n",
       "[5 rows x 29 columns]"
      ]
     },
     "execution_count": 65,
     "metadata": {},
     "output_type": "execute_result"
    }
   ],
   "source": [
    "hitters.head()"
   ]
  },
  {
   "cell_type": "markdown",
   "metadata": {},
   "source": [
    "# 4 Feature engineering\n",
    "\n",
    "The following tasks need doing:\n",
    "\n",
    "* Calculate player age\n",
    "* Calculate years in the league as (April 10 of season year - debut date). Not quite right but should be close enough.\n",
    "* Calculate number of singles\n",
    "* Calculate batting average\n",
    "* Calculate on-base percentage\n",
    "* Calculate slugging percentage\n",
    "* Calculate OPS\n",
    "* Calculate scaled statistics - BA, R, HR, RBI, SB\n",
    "* Calculate JDFS Rating"
   ]
  },
  {
   "cell_type": "code",
   "execution_count": 57,
   "metadata": {
    "collapsed": false
   },
   "outputs": [],
   "source": [
    "# Player age\n",
    "hitters['Age'] = np.floor((hitters['seasonDate'] - hitters['birthDate']) / np.timedelta64(1,'Y'))"
   ]
  },
  {
   "cell_type": "code",
   "execution_count": 66,
   "metadata": {
    "collapsed": false
   },
   "outputs": [],
   "source": [
    "# Years of service\n",
    "hitters['YrsServ'] = np.floor((hitters['seasonDate'] - hitters['debut']) / np.timedelta64(1,'Y'))"
   ]
  },
  {
   "cell_type": "code",
   "execution_count": 67,
   "metadata": {
    "collapsed": true
   },
   "outputs": [],
   "source": [
    "# Number of singles\n",
    "hitters['1B'] = hitters['H'] - hitters['2B'] - hitters['3B'] - hitters['HR']"
   ]
  },
  {
   "cell_type": "code",
   "execution_count": 73,
   "metadata": {
    "collapsed": false
   },
   "outputs": [],
   "source": [
    "# Batting average\n",
    "hitters['BA'] = hitters['H'] / hitters['AB']\n",
    "hitters['BA'] = hitters['BA'].fillna(0)"
   ]
  },
  {
   "cell_type": "code",
   "execution_count": 74,
   "metadata": {
    "collapsed": false
   },
   "outputs": [],
   "source": [
    "# On base percentage\n",
    "hitters['OBP'] = (hitters['H']+hitters['BB']+hitters['HBP']) / (hitters['AB']+hitters['BB']+hitters['HBP']+hitters['SF'])\n",
    "hitters['OBP'] = hitters['OBP'].fillna(0)"
   ]
  },
  {
   "cell_type": "code",
   "execution_count": 75,
   "metadata": {
    "collapsed": true
   },
   "outputs": [],
   "source": [
    "# Slugging percentage\n",
    "hitters['SLG'] = (hitters['1B'] + 2 * hitters['2B'] + 3 * hitters['3B'] + 4*hitters['HR']) / hitters['AB']"
   ]
  },
  {
   "cell_type": "code",
   "execution_count": 76,
   "metadata": {
    "collapsed": true
   },
   "outputs": [],
   "source": [
    "# On base plus slugging\n",
    "hitters['OPS'] = hitters['OBP'] + hitters['SLG']"
   ]
  },
  {
   "cell_type": "code",
   "execution_count": 77,
   "metadata": {
    "collapsed": true
   },
   "outputs": [],
   "source": [
    "# Scaled statistics\n",
    "hitters['BA_Scaled'] = hitters.groupby(\"yearID\")['BA'].apply(lambda x: (x-min(x))/(max(x)-min(x)))\n",
    "hitters['HR_Scaled'] = hitters.groupby(\"yearID\")['HR'].apply(lambda x: (x-min(x))/(max(x)-min(x)))\n",
    "hitters['R_Scaled'] = hitters.groupby(\"yearID\")['R'].apply(lambda x: (x-min(x))/(max(x)-min(x)))\n",
    "hitters['RBI_Scaled'] = hitters.groupby(\"yearID\")['RBI'].apply(lambda x: (x-min(x))/(max(x)-min(x)))\n",
    "hitters['SB_Scaled'] = hitters.groupby(\"yearID\")['SB'].apply(lambda x: (x-min(x))/(max(x)-min(x)))"
   ]
  },
  {
   "cell_type": "code",
   "execution_count": 78,
   "metadata": {
    "collapsed": true
   },
   "outputs": [],
   "source": [
    "# JDFS rating\n",
    "def applyPenalty(x):\n",
    "    if (x < 50):\n",
    "        return 0.1\n",
    "    elif (x >= 300):\n",
    "        return 1\n",
    "    else:\n",
    "        return (0.1 + 1.08* ((x-50)/300))"
   ]
  },
  {
   "cell_type": "code",
   "execution_count": 79,
   "metadata": {
    "collapsed": true
   },
   "outputs": [],
   "source": [
    "hitters['Penalty'] = hitters['AB'].apply(applyPenalty)"
   ]
  },
  {
   "cell_type": "code",
   "execution_count": 80,
   "metadata": {
    "collapsed": true
   },
   "outputs": [],
   "source": [
    "hitters['AdjStars'] = hitters['Penalty']*(hitters['HR_Scaled'] + hitters['R_Scaled'] + hitters['RBI_Scaled'] + hitters['SB_Scaled'] + hitters['BA_Scaled'])"
   ]
  },
  {
   "cell_type": "code",
   "execution_count": null,
   "metadata": {
    "collapsed": true
   },
   "outputs": [],
   "source": []
  }
 ],
 "metadata": {
  "kernelspec": {
   "display_name": "Python [conda root]",
   "language": "python",
   "name": "conda-root-py"
  },
  "language_info": {
   "codemirror_mode": {
    "name": "ipython",
    "version": 3
   },
   "file_extension": ".py",
   "mimetype": "text/x-python",
   "name": "python",
   "nbconvert_exporter": "python",
   "pygments_lexer": "ipython3",
   "version": "3.5.2"
  }
 },
 "nbformat": 4,
 "nbformat_minor": 2
}
